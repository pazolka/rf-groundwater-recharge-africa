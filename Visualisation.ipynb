{
 "cells": [
  {
   "cell_type": "markdown",
   "id": "4240efc4",
   "metadata": {},
   "source": [
    "# Visualize recharge maps \n",
    "using geemap and Google Earth images"
   ]
  },
  {
   "cell_type": "code",
   "execution_count": 7,
   "id": "23cfaba4",
   "metadata": {},
   "outputs": [],
   "source": [
    "import geemap\n",
    "import pandas as pd\n",
    "import numpy as np\n",
    "import ee\n",
    "ee.Initialize()\n",
    "\n",
    "# center over Africa\n",
    "Map = geemap.Map(center=[0,40], zoom=2)"
   ]
  },
  {
   "cell_type": "markdown",
   "id": "1b136fbb",
   "metadata": {},
   "source": [
    "## Maps at 0.5 degree"
   ]
  },
  {
   "cell_type": "markdown",
   "id": "ca318917",
   "metadata": {},
   "source": [
    "### LMM based map"
   ]
  },
  {
   "cell_type": "code",
   "execution_count": 8,
   "id": "038513d6",
   "metadata": {},
   "outputs": [],
   "source": [
    "# add BGS recharge to the map\n",
    "bgs_recharge_vis_params = {\n",
    "    'min': 0,'max': 300, \n",
    "    'bands':'bgs_recharge', 'palette': ['red', 'pink', 'yellow', 'lightgreen', 'green', 'lightblue', 'blue']\n",
    "}\n",
    "ee_bgs_recharge = ee.Image('users/pazolka/BGS_Africa_recharge_05').rename('bgs_recharge')\n",
    "Map.addLayer(ee_bgs_recharge, bgs_recharge_vis_params, 'BGS-LMM recharge 0.5', shown=False)\n",
    "# fix for clean colorbar\n",
    "bgs_recharge_vis_params['bands'] = 'Recharge (mmpa)'\n",
    "Map.add_colorbar(bgs_recharge_vis_params)\n",
    "\n",
    "# # BGS recharge\n",
    "#Map.add_raster('Low_res_data_05/BGS_Africa_recharge_05.tif', colormap='RdYlGn', bands=[1], layer_name='BGS recharge 0.5')"
   ]
  },
  {
   "cell_type": "markdown",
   "id": "d8dbbc79",
   "metadata": {},
   "source": [
    "### Predictor maps"
   ]
  },
  {
   "cell_type": "code",
   "execution_count": 9,
   "id": "b90840ca",
   "metadata": {},
   "outputs": [],
   "source": [
    "# import LTA precipitation raster\n",
    "#Map.add_raster('Recharge_files/Africa_bgs_LTA_AnnPrecip.tif', colormap='Spectral', bands=[1], layer_name='BGS Precip')\n",
    "\n",
    "# import PET raster\n",
    "#Map.add_raster('Recharge_files/Africa_bgs_LTA_AnnPET.tif', colormap='RdYlBu', bands=[1], layer_name='BGS PET')\n",
    "\n",
    "# import aridity raster\n",
    "#Map.add_raster('Recharge_files/Africa_bgs_aridity_index.tif', colormap='RdBu', bands=[1], layer_name='BGS Aridity')\n",
    "\n",
    "# import NDVI raster\n",
    "#ap.add_raster('Recharge_files/Africa_NDVI.tif', colormap='RdYlGn', bands=[1], layer_name='BGS NDVI')\n",
    "\n",
    "# import resampled soil moisture (0-10cm) raster\n",
    "#Map.add_raster('Low_res_data_05/LTA_FLDAS_Soil_moisture_Afr_05.tif', colormap='BrBG', bands=[1], layer_name='Soil moisture')\n",
    "\n",
    "# import resampled LC raster\n",
    "#Map.add_raster('Low_res_data_05/landcover_Afr_05.tif', colormap='BrBG', bands=[1], layer_name='Land cover')"
   ]
  },
  {
   "cell_type": "markdown",
   "id": "50090fe1",
   "metadata": {},
   "source": [
    "### Sample points"
   ]
  },
  {
   "cell_type": "code",
   "execution_count": 11,
   "id": "ed3d31ab",
   "metadata": {},
   "outputs": [],
   "source": [
    "# add all training sample points to the layer\n",
    "# run RF_map_05.ipynb first to generate summary file\n",
    "file = pd.read_csv('summary_05_z.csv')\n",
    "train_points = []\n",
    "\n",
    "arr = file.to_numpy()\n",
    "    \n",
    "def createGeoPoints(x):\n",
    "    lon = x[1]\n",
    "    lat = x[2]\n",
    "    res = x[3] - x[4]\n",
    "    train_points.append(ee.Feature(ee.Geometry.Point(lon,lat), \n",
    "                             {'id': x[0], \n",
    "                              'rf_residual': res,\n",
    "                              'rf_residual_rel': res/x[4]*100, \n",
    "                              'obs': x[3],\n",
    "                              'rf': x[4],\n",
    "                             }))\n",
    "    return x\n",
    "\n",
    "np.apply_along_axis(createGeoPoints, axis=1, arr=arr)\n",
    "\n",
    "train_pc = ee.FeatureCollection(train_points);\n",
    "Map.add_ee_layer(train_pc, {'color': 'lightgreen'}, 'Train sample points', shown=False)"
   ]
  },
  {
   "cell_type": "code",
   "execution_count": 12,
   "id": "2733639d",
   "metadata": {},
   "outputs": [],
   "source": [
    "# add train sample points with high negative residual to the layer\n",
    "train_pc_lres = ee.FeatureCollection(train_pc.filter(ee.Filter.eq('obs', 0.1)))\n",
    "Map.add_ee_layer(train_pc_lres, {'color': '#000000'}, 'Zero-recharge points', shown=False)\n",
    "\n",
    "# # add train sample points with high residual to the layer\n",
    "# train_pc_hres = ee.FeatureCollection(train_pc.filter(ee.Filter.gt('rf_residual', 100)))\n",
    "# Map.add_ee_layer(train_pc_hres, {'color': '#FF0000'}, 'Train sample points: high residual', shown=False)"
   ]
  },
  {
   "cell_type": "code",
   "execution_count": 13,
   "id": "8a3d5a5c",
   "metadata": {},
   "outputs": [],
   "source": [
    "# legend\n",
    "legend_keys = ['Training and testing samples', 'Zero-recharge samples']\n",
    "legend_colors = ['#90ee90', '#FF00FF']\n",
    "\n",
    "Map.add_legend(legend_title=\"Groundwater recharge samples\", legend_keys=legend_keys, legend_colors=legend_colors, position='bottomleft')"
   ]
  },
  {
   "cell_type": "markdown",
   "id": "6c171748",
   "metadata": {},
   "source": [
    "### RF-based map"
   ]
  },
  {
   "cell_type": "code",
   "execution_count": 14,
   "id": "1e264b88",
   "metadata": {},
   "outputs": [],
   "source": [
    "# visualise RF results\n",
    "#Map.add_raster('RF_recharge.tif', colormap='RdYlGn', bands=[1], layer_name='RF recharge')\n",
    "# add GEE for seamless inspection\n",
    "rf_recharge_vis_params = {\n",
    "    'min': 0,'max': 300, \n",
    "    'bands':'rf_recharge', 'palette': ['red', 'pink', 'yellow', 'lightgreen', 'green', 'lightblue', 'blue']\n",
    "}\n",
    "ee_rf_recharge = ee.Image('users/pazolka/RF_recharge').rename('rf_recharge')\n",
    "Map.addLayer(ee_rf_recharge, rf_recharge_vis_params, 'RF recharge', shown=False)"
   ]
  },
  {
   "cell_type": "markdown",
   "id": "e663aace",
   "metadata": {},
   "source": [
    "### RK RF based map (Python + R)"
   ]
  },
  {
   "cell_type": "code",
   "execution_count": 20,
   "id": "1c066417",
   "metadata": {},
   "outputs": [],
   "source": [
    "rk_rf_recharge_vis_params = {\n",
    "    'min': 0,'max': 300, \n",
    "    'bands':'rf_recharge', 'palette': ['red', 'pink', 'yellow', 'lightgreen', 'green', 'lightblue', 'blue']\n",
    "}\n",
    "ee_rk_rf_recharge = ee.Image('users/pazolka/RK_RF_recharge_05').rename('rf_recharge')\n",
    "Map.addLayer(ee_rk_rf_recharge, rk_rf_recharge_vis_params, 'RK RF recharge', shown=False)"
   ]
  },
  {
   "cell_type": "markdown",
   "id": "04509b8b",
   "metadata": {},
   "source": [
    "### RF based map, zero-recharge sites included"
   ]
  },
  {
   "cell_type": "code",
   "execution_count": 21,
   "id": "5d267da9",
   "metadata": {},
   "outputs": [],
   "source": [
    "rf_recharge_vis_params = {\n",
    "    'min': 0,'max': 300, \n",
    "    'bands':'rf_recharge', 'palette': ['red', 'pink', 'yellow', 'lightgreen', 'green', 'lightblue', 'blue']\n",
    "}\n",
    "ee_rf_recharge_z = ee.Image('users/pazolka/RF_recharge_zero').rename('rf_recharge')\n",
    "Map.addLayer(ee_rf_recharge_z, rf_recharge_vis_params, 'RF recharge zero', shown=False)\n",
    "\n",
    "diff_recharge_vis_params = {\n",
    "    'min': -100,'max': 100, \n",
    "    'bands':'diff_recharge', 'palette': ['red', 'yellow', 'blue']\n",
    "}\n",
    "ee_diff_zero_rech = ee_rf_recharge_z.subtract(ee_rf_recharge).rename('diff_recharge')\n",
    "Map.addLayer(ee_diff_zero_rech, diff_recharge_vis_params, 'RF_z - RF', shown=False)\n",
    "\n",
    "diff_recharge_rel_vis_params = {\n",
    "    'min': -100,'max': 100, \n",
    "    'bands':'diff_recharge', 'palette': ['red', 'pink', 'yellow', 'lightgreen', 'green', 'lightblue', 'blue']\n",
    "}\n",
    "Map.addLayer(ee_diff_zero_rech.divide(ee_rf_recharge).multiply(100), diff_recharge_rel_vis_params, 'RF_z - RF/RF (rel %)', shown=False)"
   ]
  },
  {
   "cell_type": "markdown",
   "id": "f75907c0",
   "metadata": {},
   "source": [
    "### Difference RF - LMM"
   ]
  },
  {
   "cell_type": "code",
   "execution_count": 22,
   "id": "905b6b36",
   "metadata": {},
   "outputs": [],
   "source": [
    "diff_recharge_vis_params = {\n",
    "    'min': -100,'max': 100, \n",
    "    'bands':'diff_recharge', 'palette': ['red', 'yellow', 'blue']\n",
    "}\n",
    "ee_diff_recharge = ee_rf_recharge.subtract(ee_bgs_recharge).rename('diff_recharge')\n",
    "Map.addLayer(ee_diff_recharge, diff_recharge_vis_params, 'RF - LMM', shown=False)\n",
    "# fix for clean colorbar\n",
    "diff_recharge_vis_params['bands'] = 'abs difference (mmpa)'\n",
    "Map.add_colorbar(diff_recharge_vis_params, label=\"RF - LMM\")\n",
    "\n",
    "diff_recharge_rel_vis_params = {\n",
    "    'min': -100,'max': 100, \n",
    "    'bands':'diff_recharge_rel', 'palette': ['red', 'pink', 'yellow', 'lightgreen', 'green', 'lightblue', 'blue']\n",
    "}\n",
    "ee_diff_recharge_rel = ee_diff_recharge.divide(ee_bgs_recharge).multiply(100).rename('diff_recharge_rel')\n",
    "Map.addLayer(ee_diff_recharge_rel, diff_recharge_rel_vis_params, 'RF - LMM /LMM (rel %)', shown=False)\n",
    "# fix for clean colorbar\n",
    "diff_recharge_rel_vis_params['bands'] = 'rel difference (%)'\n",
    "Map.add_colorbar(diff_recharge_rel_vis_params, label=\"(RF-LMM)/LMM * 100%\")"
   ]
  },
  {
   "cell_type": "markdown",
   "id": "b5aabd22",
   "metadata": {},
   "source": [
    "### Difference RK RK - LMM"
   ]
  },
  {
   "cell_type": "code",
   "execution_count": 23,
   "id": "ac3b35ef",
   "metadata": {},
   "outputs": [],
   "source": [
    "diff_recharge_vis_params = {\n",
    "    'min': -100,'max': 100, \n",
    "    'bands':'diff_recharge', 'palette': ['red', 'yellow', 'blue']\n",
    "}\n",
    "ee_diff_recharge = ee_rk_rf_recharge.subtract(ee_bgs_recharge).rename('diff_recharge')\n",
    "Map.addLayer(ee_diff_recharge, diff_recharge_vis_params, 'RK RF - LMM', shown=False)\n",
    "\n",
    "diff_recharge_rel_vis_params = {\n",
    "    'min': -100,'max': 100, \n",
    "    'bands':'diff_recharge_rel', 'palette': ['red', 'pink', 'yellow', 'lightgreen', 'green', 'lightblue', 'blue']\n",
    "}\n",
    "ee_diff_recharge_rel = ee_diff_recharge.divide(ee_bgs_recharge).multiply(100).rename('diff_recharge_rel')\n",
    "Map.addLayer(ee_diff_recharge_rel, diff_recharge_rel_vis_params, 'RK RF - LMM /LMM (rel %)', shown=False)"
   ]
  },
  {
   "cell_type": "markdown",
   "id": "d13e0974",
   "metadata": {},
   "source": [
    "### Difference RK RF - RF"
   ]
  },
  {
   "cell_type": "code",
   "execution_count": 24,
   "id": "8244191f",
   "metadata": {},
   "outputs": [],
   "source": [
    "diff_recharge_vis_params = {\n",
    "    'min': -100,'max': 100, \n",
    "    'bands':'diff_recharge', 'palette': ['red', 'yellow', 'blue']\n",
    "}\n",
    "ee_diff_recharge = ee_rk_rf_recharge.subtract(ee_rf_recharge).rename('diff_recharge')\n",
    "Map.addLayer(ee_diff_recharge, diff_recharge_vis_params, 'RK RF - RF', shown=False)\n",
    "\n",
    "diff_recharge_rel_vis_params = {\n",
    "    'min': -100,'max': 100, \n",
    "    'bands':'diff_recharge_rel', 'palette': ['red', 'pink', 'yellow', 'lightgreen', 'green', 'lightblue', 'blue']\n",
    "}\n",
    "ee_diff_recharge_rel = ee_diff_recharge.divide(ee_rf_recharge).multiply(100).rename('diff_recharge_rel')\n",
    "Map.addLayer(ee_diff_recharge_rel, diff_recharge_rel_vis_params, 'RK RF - RF/RF (rel %)', shown=False)"
   ]
  },
  {
   "cell_type": "markdown",
   "id": "7bd33eb4",
   "metadata": {},
   "source": [
    "## Maps at 0.1 degree"
   ]
  },
  {
   "cell_type": "markdown",
   "id": "6647f740",
   "metadata": {},
   "source": [
    "### RF based map at 0.1 deg"
   ]
  },
  {
   "cell_type": "code",
   "execution_count": 25,
   "id": "503fbbd1",
   "metadata": {},
   "outputs": [],
   "source": [
    "ee_rf_recharge_01 = ee.Image('users/pazolka/RF_recharge_01').rename('rf_recharge')\n",
    "rf_recharge_vis_params = {\n",
    "    'min': 0,'max': 300, \n",
    "    'bands':'rf_recharge', 'palette': ['red', 'pink', 'yellow', 'lightgreen', 'green', 'lightblue', 'blue']\n",
    "}\n",
    "Map.addLayer(ee_rf_recharge_01, rf_recharge_vis_params, 'RF recharge 01', shown=False)"
   ]
  },
  {
   "cell_type": "markdown",
   "id": "2792f157",
   "metadata": {},
   "source": [
    "### LMM based map at 0.1 deg"
   ]
  },
  {
   "cell_type": "code",
   "execution_count": 26,
   "id": "31ded5e1",
   "metadata": {},
   "outputs": [],
   "source": [
    "lmm_01_vis_params = {\n",
    "    'min': 0,'max': 300, \n",
    "        'bands':'lmm_01', 'palette': ['red', 'pink', 'yellow', 'lightgreen', 'green', 'lightblue', 'blue']\n",
    "}\n",
    "ee_lmm_01_recharge = ee.Image('users/pazolka/LMM_R_01').rename('lmm_01')\n",
    "Map.addLayer(ee_lmm_01_recharge, lmm_01_vis_params, 'LMM recharge 0.1', shown=False)"
   ]
  },
  {
   "cell_type": "markdown",
   "id": "3b118f9c",
   "metadata": {},
   "source": [
    "### RK RF based map at 0.1 deg"
   ]
  },
  {
   "cell_type": "code",
   "execution_count": 27,
   "id": "11e6ba39",
   "metadata": {},
   "outputs": [],
   "source": [
    "rk_rf_recharge_vis_params = {\n",
    "    'min': 0,'max': 300, \n",
    "    'bands':'rf_recharge', 'palette': ['red', 'pink', 'yellow', 'lightgreen', 'green', 'lightblue', 'blue']\n",
    "}\n",
    "ee_rk_rf_recharge_01 = ee.Image('users/pazolka/RK_RF_recharge_01').rename('rf_recharge')\n",
    "Map.addLayer(ee_rk_rf_recharge_01, rk_rf_recharge_vis_params, 'RK RF recharge 01', shown=False)"
   ]
  },
  {
   "cell_type": "markdown",
   "id": "29ef9a80",
   "metadata": {},
   "source": [
    "### Difference RF - LMM"
   ]
  },
  {
   "cell_type": "code",
   "execution_count": 28,
   "id": "1a909c34",
   "metadata": {},
   "outputs": [],
   "source": [
    "diff_recharge_vis_params = {\n",
    "    'min': -100,'max': 100, \n",
    "    'bands':'diff_recharge', 'palette': ['red', 'yellow', 'blue']\n",
    "}\n",
    "ee_diff_recharge = ee_rf_recharge_01.subtract(ee_lmm_01_recharge).rename('diff_recharge')\n",
    "Map.addLayer(ee_diff_recharge, diff_recharge_vis_params, 'RF - LMM 0.1', shown=False)\n",
    "\n",
    "diff_recharge_rel_vis_params = {\n",
    "    'min': -100,'max': 100, \n",
    "    'bands':'diff_recharge_rel', 'palette': ['red', 'pink', 'yellow', 'lightgreen', 'green', 'lightblue', 'blue']\n",
    "}\n",
    "ee_diff_recharge_rel = ee_diff_recharge.divide(ee_lmm_01_recharge).multiply(100).rename('diff_recharge_rel')\n",
    "Map.addLayer(ee_diff_recharge_rel, diff_recharge_rel_vis_params, 'RF - LMM/LMM 0.1 (%)', shown=False)"
   ]
  },
  {
   "cell_type": "markdown",
   "id": "00777ec1",
   "metadata": {},
   "source": [
    "### Difference RK RF - LMM"
   ]
  },
  {
   "cell_type": "code",
   "execution_count": 29,
   "id": "07700ba6",
   "metadata": {},
   "outputs": [],
   "source": [
    "diff_recharge_vis_params = {\n",
    "    'min': -100,'max': 100, \n",
    "    'bands':'diff_recharge', 'palette': ['red', 'yellow', 'blue']\n",
    "}\n",
    "ee_diff_recharge = ee_rk_rf_recharge_01.subtract(ee_lmm_01_recharge).rename('diff_recharge')\n",
    "Map.addLayer(ee_diff_recharge, diff_recharge_vis_params, 'RK RF - LMM 01', shown=False)\n",
    "\n",
    "diff_recharge_rel_vis_params = {\n",
    "    'min': -100,'max': 100, \n",
    "    'bands':'diff_recharge_rel', 'palette': ['red', 'pink', 'yellow', 'lightgreen', 'green', 'lightblue', 'blue']\n",
    "}\n",
    "ee_diff_recharge_rel = ee_diff_recharge.divide(ee_lmm_01_recharge).multiply(100).rename('diff_recharge_rel')\n",
    "Map.addLayer(ee_diff_recharge_rel, diff_recharge_rel_vis_params, 'RK RF - LMM /LMM 0.1 (rel %)', shown=False)"
   ]
  },
  {
   "cell_type": "markdown",
   "id": "3ac98be4",
   "metadata": {},
   "source": [
    "### Difference RK RF - RF"
   ]
  },
  {
   "cell_type": "code",
   "execution_count": 30,
   "id": "fcd2096b",
   "metadata": {},
   "outputs": [],
   "source": [
    "diff_recharge_vis_params = {\n",
    "    'min': -100,'max': 100, \n",
    "    'bands':'diff_recharge', 'palette': ['red', 'yellow', 'blue']\n",
    "}\n",
    "ee_diff_recharge = ee_rk_rf_recharge_01.subtract(ee_rf_recharge_01).rename('diff_recharge')\n",
    "Map.addLayer(ee_diff_recharge, diff_recharge_vis_params, 'RK RF - RF 01', shown=False)\n",
    "\n",
    "diff_recharge_rel_vis_params = {\n",
    "    'min': -100,'max': 100, \n",
    "    'bands':'diff_recharge_rel', 'palette': ['red', 'pink', 'yellow', 'lightgreen', 'green', 'lightblue', 'blue']\n",
    "}\n",
    "ee_diff_recharge_rel = ee_diff_recharge.divide(ee_rf_recharge_01).multiply(100).rename('diff_recharge_rel')\n",
    "Map.addLayer(ee_diff_recharge_rel, diff_recharge_rel_vis_params, 'RK RF - RF/RF 01 (%)', shown=False)"
   ]
  },
  {
   "cell_type": "code",
   "execution_count": 31,
   "id": "bf122d9c",
   "metadata": {},
   "outputs": [
    {
     "data": {
      "application/vnd.jupyter.widget-view+json": {
       "model_id": "20026d366d57429dbae6682b2480809a",
       "version_major": 2,
       "version_minor": 0
      },
      "text/plain": [
       "Map(bottom=812.0, center=[0, 40], controls=(WidgetControl(options=['position', 'transparent_bg'], widget=HBox(…"
      ]
     },
     "metadata": {},
     "output_type": "display_data"
    }
   ],
   "source": [
    "Map"
   ]
  },
  {
   "cell_type": "code",
   "execution_count": 18,
   "id": "a0f4f1bf",
   "metadata": {
    "scrolled": true
   },
   "outputs": [],
   "source": [
    "## add continent outline for better presentation\n",
    "Map.add_shapefile(\"CRU_precip_CGIAR_AI_data/Africa_continent_shape.shp\", 'outline', style={\"weight\": 2, 'fill':False}, fill_colors=['white'], info_mode='on_hover')"
   ]
  }
 ],
 "metadata": {
  "kernelspec": {
   "display_name": "Python 3",
   "language": "python",
   "name": "python3"
  },
  "language_info": {
   "codemirror_mode": {
    "name": "ipython",
    "version": 3
   },
   "file_extension": ".py",
   "mimetype": "text/x-python",
   "name": "python",
   "nbconvert_exporter": "python",
   "pygments_lexer": "ipython3",
   "version": "3.9.4"
  }
 },
 "nbformat": 4,
 "nbformat_minor": 5
}
