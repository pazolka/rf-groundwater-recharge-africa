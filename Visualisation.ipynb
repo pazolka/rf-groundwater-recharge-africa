{
 "cells": [
  {
   "cell_type": "markdown",
   "id": "4240efc4",
   "metadata": {},
   "source": [
    "# Visualize recharge maps \n",
    "using geemap and Google Earth images"
   ]
  },
  {
   "cell_type": "code",
   "execution_count": 1,
   "id": "23cfaba4",
   "metadata": {},
   "outputs": [],
   "source": [
    "import geemap\n",
    "import pandas as pd\n",
    "import numpy as np\n",
    "import ee\n",
    "ee.Initialize()\n",
    "\n",
    "# center over Africa\n",
    "Map = geemap.Map(center=[0,40], zoom=2)"
   ]
  },
  {
   "cell_type": "markdown",
   "id": "1b136fbb",
   "metadata": {},
   "source": [
    "## Maps at 0.5 degree"
   ]
  },
  {
   "cell_type": "markdown",
   "id": "ca318917",
   "metadata": {},
   "source": [
    "### LMM based map"
   ]
  },
  {
   "cell_type": "code",
   "execution_count": 2,
   "id": "038513d6",
   "metadata": {},
   "outputs": [],
   "source": [
    "# add BGS recharge to the map\n",
    "bgs_recharge_vis_params = {\n",
    "    'min': 0,'max': 300, \n",
    "    'bands':'bgs_recharge', 'palette': ['red', 'pink', 'yellow', 'lightgreen', 'green', 'lightblue', 'blue']\n",
    "}\n",
    "ee_bgs_recharge = ee.Image('users/pazolka/BGS_Africa_recharge_05').rename('bgs_recharge')\n",
    "Map.addLayer(ee_bgs_recharge, bgs_recharge_vis_params, 'BGS-LMM recharge 0.5', shown=False)\n",
    "# fix for clean colorbar\n",
    "bgs_recharge_vis_params['bands'] = 'Recharge (mmpa)'\n",
    "Map.add_colorbar(bgs_recharge_vis_params)\n",
    "\n",
    "# # BGS recharge\n",
    "#Map.add_raster('Low_res_data_05/BGS_Africa_recharge_05.tif', colormap='RdYlGn', bands=[1], layer_name='BGS recharge 0.5')"
   ]
  },
  {
   "cell_type": "markdown",
   "id": "d8dbbc79",
   "metadata": {},
   "source": [
    "### Predictor maps"
   ]
  },
  {
   "cell_type": "code",
   "execution_count": 3,
   "id": "b90840ca",
   "metadata": {},
   "outputs": [],
   "source": [
    "# import LTA precipitation raster\n",
    "#Map.add_raster('Recharge_files/Africa_bgs_LTA_AnnPrecip.tif', colormap='Spectral', bands=[1], layer_name='BGS Precip')\n",
    "\n",
    "# import PET raster\n",
    "#Map.add_raster('Recharge_files/Africa_bgs_LTA_AnnPET.tif', colormap='RdYlBu', bands=[1], layer_name='BGS PET')\n",
    "\n",
    "# import aridity raster\n",
    "#Map.add_raster('Recharge_files/Africa_bgs_aridity_index.tif', colormap='RdBu', bands=[1], layer_name='BGS Aridity')\n",
    "\n",
    "# import NDVI raster\n",
    "#ap.add_raster('Recharge_files/Africa_NDVI.tif', colormap='RdYlGn', bands=[1], layer_name='BGS NDVI')\n",
    "\n",
    "# import resampled soil moisture (0-10cm) raster\n",
    "#Map.add_raster('Low_res_data_05/LTA_FLDAS_Soil_moisture_Afr_05.tif', colormap='BrBG', bands=[1], layer_name='Soil moisture')\n",
    "\n",
    "# import resampled LC raster\n",
    "#Map.add_raster('Low_res_data_05/landcover_Afr_05.tif', colormap='BrBG', bands=[1], layer_name='Land cover')"
   ]
  },
  {
   "cell_type": "markdown",
   "id": "50090fe1",
   "metadata": {},
   "source": [
    "### Sample points"
   ]
  },
  {
   "cell_type": "code",
   "execution_count": 4,
   "id": "ed3d31ab",
   "metadata": {},
   "outputs": [],
   "source": [
    "# add all training sample points to the layer\n",
    "# run RF_map_05.ipynb first to generate summary file\n",
    "file = pd.read_csv('summary_z.csv')\n",
    "train_points = []\n",
    "\n",
    "arr = file.to_numpy()\n",
    "    \n",
    "def createGeoPoints(x):\n",
    "    lon = x[1]\n",
    "    lat = x[2]\n",
    "    res = x[3] - x[4]\n",
    "    train_points.append(ee.Feature(ee.Geometry.Point(lon,lat), \n",
    "                             {'id': x[0], \n",
    "                              'rf_residual': res,\n",
    "                              'rf_residual_rel': res/x[4]*100, \n",
    "                              'obs': x[3],\n",
    "                              'rf': x[4],\n",
    "                             }))\n",
    "    return x\n",
    "\n",
    "np.apply_along_axis(createGeoPoints, axis=1, arr=arr)\n",
    "\n",
    "train_pc = ee.FeatureCollection(train_points);\n",
    "Map.add_ee_layer(train_pc, {'color': 'lightgreen'}, 'Train sample points', shown=False)"
   ]
  },
  {
   "cell_type": "code",
   "execution_count": 5,
   "id": "2733639d",
   "metadata": {},
   "outputs": [],
   "source": [
    "# add train sample points with high negative residual to the layer\n",
    "train_pc_lres = ee.FeatureCollection(train_pc.filter(ee.Filter.eq('obs', 0.1)))\n",
    "Map.add_ee_layer(train_pc_lres, {'color': '#000000'}, 'Zero-recharge points', shown=False)\n",
    "\n",
    "# # add train sample points with high residual to the layer\n",
    "# train_pc_hres = ee.FeatureCollection(train_pc.filter(ee.Filter.gt('rf_residual', 100)))\n",
    "# Map.add_ee_layer(train_pc_hres, {'color': '#FF0000'}, 'Train sample points: high residual', shown=False)"
   ]
  },
  {
   "cell_type": "code",
   "execution_count": 6,
   "id": "8a3d5a5c",
   "metadata": {},
   "outputs": [],
   "source": [
    "# legend\n",
    "legend_keys = ['Training and testing samples', 'Zero-recharge samples']\n",
    "legend_colors = ['#90ee90', '#FF00FF']\n",
    "\n",
    "Map.add_legend(legend_title=\"Groundwater recharge samples\", legend_keys=legend_keys, legend_colors=legend_colors, position='bottomleft')"
   ]
  },
  {
   "cell_type": "markdown",
   "id": "6c171748",
   "metadata": {},
   "source": [
    "### RF-based map"
   ]
  },
  {
   "cell_type": "code",
   "execution_count": 7,
   "id": "1e264b88",
   "metadata": {},
   "outputs": [],
   "source": [
    "# visualise RF results\n",
    "#Map.add_raster('RF_recharge.tif', colormap='RdYlGn', bands=[1], layer_name='RF recharge')\n",
    "# add GEE for seamless inspection\n",
    "rf_recharge_vis_params = {\n",
    "    'min': 0,'max': 300, \n",
    "    'bands':'rf_recharge', 'palette': ['red', 'pink', 'yellow', 'lightgreen', 'green', 'lightblue', 'blue']\n",
    "}\n",
    "ee_rf_recharge = ee.Image('users/pazolka/RF_recharge').rename('rf_recharge')\n",
    "Map.addLayer(ee_rf_recharge, rf_recharge_vis_params, 'RF recharge', shown=False)"
   ]
  },
  {
   "cell_type": "markdown",
   "id": "e663aace",
   "metadata": {},
   "source": [
    "### RK RF based map (Python + R)"
   ]
  },
  {
   "cell_type": "code",
   "execution_count": 9,
   "id": "1c066417",
   "metadata": {},
   "outputs": [],
   "source": [
    "rk_rf_recharge_vis_params = {\n",
    "    'min': 0,'max': 300, \n",
    "    'bands':'rf_recharge', 'palette': ['red', 'pink', 'yellow', 'lightgreen', 'green', 'lightblue', 'blue']\n",
    "}\n",
    "ee_rk_rf_recharge = ee.Image('users/pazolka/R_RKRF_recharge5').rename('rf_recharge')\n",
    "Map.addLayer(ee_rk_rf_recharge, rk_rf_recharge_vis_params, 'RK RF recharge', shown=False)"
   ]
  },
  {
   "cell_type": "markdown",
   "id": "04509b8b",
   "metadata": {},
   "source": [
    "### RF based map, zero-recharge sites included"
   ]
  },
  {
   "cell_type": "code",
   "execution_count": 10,
   "id": "5d267da9",
   "metadata": {},
   "outputs": [],
   "source": [
    "rf_recharge_vis_params = {\n",
    "    'min': 0,'max': 300, \n",
    "    'bands':'rf_recharge', 'palette': ['red', 'pink', 'yellow', 'lightgreen', 'green', 'lightblue', 'blue']\n",
    "}\n",
    "ee_rf_recharge_z = ee.Image('users/pazolka/RF_recharge_zero').rename('rf_recharge')\n",
    "Map.addLayer(ee_rf_recharge_z, rf_recharge_vis_params, 'RF recharge zero', shown=False)\n",
    "\n",
    "rf_recharge_z_vis_params = {\n",
    "    'min': -100,'max': 100, \n",
    "    'bands':'rf_recharge', 'palette': ['red', 'pink', 'yellow', 'lightgreen', 'green', 'lightblue', 'blue']\n",
    "}\n",
    "Map.addLayer(ee_rf_recharge_z.subtract(ee_rf_recharge).divide(ee_rf_recharge).multiply(100), rf_recharge_z_vis_params, 'RF_z - RF/RF (rel %)', shown=False)"
   ]
  },
  {
   "cell_type": "markdown",
   "id": "f75907c0",
   "metadata": {},
   "source": [
    "### Difference RF - LMM"
   ]
  },
  {
   "cell_type": "code",
   "execution_count": 11,
   "id": "905b6b36",
   "metadata": {},
   "outputs": [],
   "source": [
    "diff_recharge_vis_params = {\n",
    "    'min': -100,'max': 100, \n",
    "    'bands':'diff_recharge', 'palette': ['red', 'yellow', 'blue']\n",
    "}\n",
    "ee_diff_recharge = ee_rf_recharge.subtract(ee_bgs_recharge).rename('diff_recharge')\n",
    "Map.addLayer(ee_diff_recharge, diff_recharge_vis_params, 'RF - LMM', shown=False)\n",
    "# fix for clean colorbar\n",
    "diff_recharge_vis_params['bands'] = 'abs difference (mmpa)'\n",
    "Map.add_colorbar(diff_recharge_vis_params, label=\"RF - LMM\")\n",
    "\n",
    "diff_recharge_rel_vis_params = {\n",
    "    'min': -100,'max': 100, \n",
    "    'bands':'diff_recharge_rel', 'palette': ['red', 'pink', 'yellow', 'lightgreen', 'green', 'lightblue', 'blue']\n",
    "}\n",
    "ee_diff_recharge_rel = ee_diff_recharge.divide(ee_bgs_recharge).multiply(100).rename('diff_recharge_rel')\n",
    "Map.addLayer(ee_diff_recharge_rel, diff_recharge_rel_vis_params, 'RF - LMM /LMM (rel %)', shown=False)\n",
    "# fix for clean colorbar\n",
    "diff_recharge_rel_vis_params['bands'] = 'rel difference (%)'\n",
    "Map.add_colorbar(diff_recharge_rel_vis_params, label=\"(RF-LMM)/LMM * 100%\")"
   ]
  },
  {
   "cell_type": "markdown",
   "id": "b5aabd22",
   "metadata": {},
   "source": [
    "### Difference RK RK - LMM"
   ]
  },
  {
   "cell_type": "code",
   "execution_count": 12,
   "id": "ac3b35ef",
   "metadata": {},
   "outputs": [],
   "source": [
    "diff_recharge_vis_params = {\n",
    "    'min': -100,'max': 100, \n",
    "    'bands':'diff_recharge', 'palette': ['red', 'yellow', 'blue']\n",
    "}\n",
    "ee_diff_recharge = ee_rk_rf_recharge.subtract(ee_bgs_recharge).rename('diff_recharge')\n",
    "Map.addLayer(ee_diff_recharge, diff_recharge_vis_params, 'RK RF - LMM', shown=False)\n",
    "\n",
    "diff_recharge_rel_vis_params = {\n",
    "    'min': -100,'max': 100, \n",
    "    'bands':'diff_recharge_rel', 'palette': ['red', 'pink', 'yellow', 'lightgreen', 'green', 'lightblue', 'blue']\n",
    "}\n",
    "ee_diff_recharge_rel = ee_diff_recharge.divide(ee_bgs_recharge).multiply(100).rename('diff_recharge_rel')\n",
    "Map.addLayer(ee_diff_recharge_rel, diff_recharge_rel_vis_params, 'RK RF - LMM /LMM (rel %)', shown=False)"
   ]
  },
  {
   "cell_type": "markdown",
   "id": "d13e0974",
   "metadata": {},
   "source": [
    "### Difference RK RF - RF"
   ]
  },
  {
   "cell_type": "code",
   "execution_count": 13,
   "id": "8244191f",
   "metadata": {},
   "outputs": [],
   "source": [
    "diff_recharge_vis_params = {\n",
    "    'min': -100,'max': 100, \n",
    "    'bands':'diff_recharge', 'palette': ['red', 'yellow', 'blue']\n",
    "}\n",
    "ee_diff_recharge = ee_rk_rf_recharge.subtract(ee_rf_recharge).rename('diff_recharge')\n",
    "Map.addLayer(ee_diff_recharge, diff_recharge_vis_params, 'RK RF - RF', shown=False)\n",
    "\n",
    "diff_recharge_rel_vis_params = {\n",
    "    'min': -100,'max': 100, \n",
    "    'bands':'diff_recharge_rel', 'palette': ['red', 'pink', 'yellow', 'lightgreen', 'green', 'lightblue', 'blue']\n",
    "}\n",
    "ee_diff_recharge_rel = ee_diff_recharge.divide(ee_rf_recharge).multiply(100).rename('diff_recharge_rel')\n",
    "Map.addLayer(ee_diff_recharge_rel, diff_recharge_rel_vis_params, 'RK RF - RF/RF (rel %)', shown=False)"
   ]
  },
  {
   "cell_type": "markdown",
   "id": "9b4f423e",
   "metadata": {},
   "source": [
    "### Difference RF (zero) - LMM"
   ]
  },
  {
   "cell_type": "code",
   "execution_count": 14,
   "id": "2237520b",
   "metadata": {},
   "outputs": [],
   "source": [
    "#Map.add_raster('RF_BGS_diff_recharge.tif', colormap='RdYlGn', bands=[1], layer_name='Recharge diff')\n",
    "# create clean spatial difference with GEE\n",
    "diff_recharge_vis_params = {\n",
    "    'min': -100,'max': 100, \n",
    "    'bands':'diff_recharge', 'palette': ['red', 'yellow', 'blue']\n",
    "}\n",
    "ee_diff_recharge_z = ee_rf_recharge_z.subtract(ee_bgs_recharge).rename('diff_recharge')\n",
    "Map.addLayer(ee_diff_recharge_z, diff_recharge_vis_params, 'RF_z - LMM', shown=False)\n",
    "\n",
    "diff_recharge_rel_vis_params = {\n",
    "    'min': -100,'max': 100, \n",
    "    'bands':'diff_recharge_rel', 'palette': ['red', 'pink', 'yellow', 'lightgreen', 'green', 'lightblue', 'blue']\n",
    "}\n",
    "ee_diff_recharge_rel_z = ee_diff_recharge_z.divide(ee_bgs_recharge).multiply(100).rename('diff_recharge_rel')\n",
    "Map.addLayer(ee_diff_recharge_rel_z, diff_recharge_rel_vis_params, 'RF_z - LMM/LMM (rel %)', shown=False)"
   ]
  },
  {
   "cell_type": "markdown",
   "id": "7bd33eb4",
   "metadata": {},
   "source": [
    "## Maps at 0.1 degree"
   ]
  },
  {
   "cell_type": "markdown",
   "id": "6647f740",
   "metadata": {},
   "source": [
    "### RF based map at 0.1 deg"
   ]
  },
  {
   "cell_type": "code",
   "execution_count": 15,
   "id": "503fbbd1",
   "metadata": {},
   "outputs": [],
   "source": [
    "ee_rf_recharge_01 = ee.Image('users/pazolka/RF_recharge_01').rename('rf_recharge')\n",
    "rf_recharge_vis_params = {\n",
    "    'min': 0,'max': 300, \n",
    "    'bands':'rf_recharge', 'palette': ['red', 'pink', 'yellow', 'lightgreen', 'green', 'lightblue', 'blue']\n",
    "}\n",
    "Map.addLayer(ee_rf_recharge_01, rf_recharge_vis_params, 'RF recharge 01', shown=False)"
   ]
  },
  {
   "cell_type": "markdown",
   "id": "2792f157",
   "metadata": {},
   "source": [
    "### LMM based map at 0.1 deg"
   ]
  },
  {
   "cell_type": "code",
   "execution_count": 16,
   "id": "31ded5e1",
   "metadata": {},
   "outputs": [],
   "source": [
    "lmm_01_vis_params = {\n",
    "    'min': 0,'max': 300, \n",
    "        'bands':'lmm_01', 'palette': ['red', 'pink', 'yellow', 'lightgreen', 'green', 'lightblue', 'blue']\n",
    "}\n",
    "ee_lmm_01_recharge = ee.Image('users/pazolka/LMM_R_01').rename('lmm_01')\n",
    "Map.addLayer(ee_lmm_01_recharge, lmm_01_vis_params, 'LMM recharge 0.1', shown=False)"
   ]
  },
  {
   "cell_type": "markdown",
   "id": "3b118f9c",
   "metadata": {},
   "source": [
    "### RK RF based map at 0.1 deg"
   ]
  },
  {
   "cell_type": "code",
   "execution_count": 17,
   "id": "11e6ba39",
   "metadata": {},
   "outputs": [],
   "source": [
    "rk_rf_recharge_vis_params = {\n",
    "    'min': 0,'max': 300, \n",
    "    'bands':'rf_recharge', 'palette': ['red', 'pink', 'yellow', 'lightgreen', 'green', 'lightblue', 'blue']\n",
    "}\n",
    "ee_rk_rf_recharge_01 = ee.Image('users/pazolka/R_RKRF_recharge1').rename('rf_recharge')\n",
    "Map.addLayer(ee_rk_rf_recharge_01, rk_rf_recharge_vis_params, 'RK RF recharge 01', shown=False)"
   ]
  },
  {
   "cell_type": "markdown",
   "id": "29ef9a80",
   "metadata": {},
   "source": [
    "### Difference RF - LMM"
   ]
  },
  {
   "cell_type": "code",
   "execution_count": 18,
   "id": "1a909c34",
   "metadata": {},
   "outputs": [],
   "source": [
    "diff_recharge_vis_params = {\n",
    "    'min': -100,'max': 100, \n",
    "    'bands':'diff_recharge', 'palette': ['red', 'yellow', 'blue']\n",
    "}\n",
    "ee_diff_recharge = ee_rf_recharge_01.subtract(ee_lmm_01_recharge).rename('diff_recharge')\n",
    "Map.addLayer(ee_diff_recharge, diff_recharge_vis_params, 'RF - LMM 0.1', shown=False)\n",
    "\n",
    "diff_recharge_rel_vis_params = {\n",
    "    'min': -100,'max': 100, \n",
    "    'bands':'diff_recharge_rel', 'palette': ['red', 'pink', 'yellow', 'lightgreen', 'green', 'lightblue', 'blue']\n",
    "}\n",
    "ee_diff_recharge_rel = ee_diff_recharge.divide(ee_lmm_01_recharge).multiply(100).rename('diff_recharge_rel')\n",
    "Map.addLayer(ee_diff_recharge_rel, diff_recharge_rel_vis_params, 'RF - LMM/LMM 0.1 (%)', shown=False)"
   ]
  },
  {
   "cell_type": "markdown",
   "id": "3ac98be4",
   "metadata": {},
   "source": [
    "### Difference RK RF - RF"
   ]
  },
  {
   "cell_type": "code",
   "execution_count": 19,
   "id": "fcd2096b",
   "metadata": {},
   "outputs": [],
   "source": [
    "diff_recharge_vis_params = {\n",
    "    'min': -100,'max': 100, \n",
    "    'bands':'diff_recharge', 'palette': ['red', 'yellow', 'blue']\n",
    "}\n",
    "ee_diff_recharge = ee_rk_rf_recharge_01.subtract(ee_rf_recharge_01).rename('diff_recharge')\n",
    "Map.addLayer(ee_diff_recharge, diff_recharge_vis_params, 'RK RF - RF 01', shown=False)\n",
    "\n",
    "diff_recharge_rel_vis_params = {\n",
    "    'min': -100,'max': 100, \n",
    "    'bands':'diff_recharge_rel', 'palette': ['red', 'pink', 'yellow', 'lightgreen', 'green', 'lightblue', 'blue']\n",
    "}\n",
    "ee_diff_recharge_rel = ee_diff_recharge.divide(ee_rf_recharge_01).multiply(100).rename('diff_recharge_rel')\n",
    "Map.addLayer(ee_diff_recharge_rel, diff_recharge_rel_vis_params, 'RK RF - RF/RF 01 (%)', shown=False)"
   ]
  },
  {
   "cell_type": "code",
   "execution_count": 20,
   "id": "bf122d9c",
   "metadata": {},
   "outputs": [
    {
     "data": {
      "application/vnd.jupyter.widget-view+json": {
       "model_id": "3dd852baabe44475b341cae0b5725b54",
       "version_major": 2,
       "version_minor": 0
      },
      "text/plain": [
       "Map(center=[0, 40], controls=(WidgetControl(options=['position', 'transparent_bg'], widget=HBox(children=(Togg…"
      ]
     },
     "metadata": {},
     "output_type": "display_data"
    }
   ],
   "source": [
    "Map"
   ]
  },
  {
   "cell_type": "code",
   "execution_count": 22,
   "id": "a0f4f1bf",
   "metadata": {
    "scrolled": true
   },
   "outputs": [
    {
     "ename": "KeyboardInterrupt",
     "evalue": "",
     "output_type": "error",
     "traceback": [
      "\u001b[0;31m---------------------------------------------------------------------------\u001b[0m",
      "\u001b[0;31mKeyboardInterrupt\u001b[0m                         Traceback (most recent call last)",
      "\u001b[0;32m<ipython-input-22-5f82d737ef73>\u001b[0m in \u001b[0;36m<module>\u001b[0;34m\u001b[0m\n\u001b[1;32m      1\u001b[0m \u001b[0;31m## add continent outline for better presentation\u001b[0m\u001b[0;34m\u001b[0m\u001b[0;34m\u001b[0m\u001b[0;34m\u001b[0m\u001b[0m\n\u001b[0;32m----> 2\u001b[0;31m \u001b[0mMap\u001b[0m\u001b[0;34m.\u001b[0m\u001b[0madd_shapefile\u001b[0m\u001b[0;34m(\u001b[0m\u001b[0;34m\"CRU_precip_CGIAR_AI_data/Africa_continent_shape.shp\"\u001b[0m\u001b[0;34m,\u001b[0m \u001b[0;34m'outline'\u001b[0m\u001b[0;34m,\u001b[0m \u001b[0mstyle\u001b[0m\u001b[0;34m=\u001b[0m\u001b[0;34m{\u001b[0m\u001b[0;34m\"weight\"\u001b[0m\u001b[0;34m:\u001b[0m \u001b[0;36m2\u001b[0m\u001b[0;34m,\u001b[0m \u001b[0;34m'fill'\u001b[0m\u001b[0;34m:\u001b[0m\u001b[0;32mFalse\u001b[0m\u001b[0;34m}\u001b[0m\u001b[0;34m,\u001b[0m \u001b[0mfill_colors\u001b[0m\u001b[0;34m=\u001b[0m\u001b[0;34m[\u001b[0m\u001b[0;34m'white'\u001b[0m\u001b[0;34m]\u001b[0m\u001b[0;34m,\u001b[0m \u001b[0minfo_mode\u001b[0m\u001b[0;34m=\u001b[0m\u001b[0;34m'on_hover'\u001b[0m\u001b[0;34m)\u001b[0m\u001b[0;34m\u001b[0m\u001b[0;34m\u001b[0m\u001b[0m\n\u001b[0m",
      "\u001b[0;32m~/anaconda3/envs/gee/lib/python3.9/site-packages/geemap/geemap.py\u001b[0m in \u001b[0;36madd_shapefile\u001b[0;34m(self, in_shp, layer_name, style, hover_style, style_callback, fill_colors, info_mode)\u001b[0m\n\u001b[1;32m   4690\u001b[0m             \u001b[0;32mraise\u001b[0m \u001b[0mFileNotFoundError\u001b[0m\u001b[0;34m(\u001b[0m\u001b[0;34m\"The provided shapefile could not be found.\"\u001b[0m\u001b[0;34m)\u001b[0m\u001b[0;34m\u001b[0m\u001b[0;34m\u001b[0m\u001b[0m\n\u001b[1;32m   4691\u001b[0m \u001b[0;34m\u001b[0m\u001b[0m\n\u001b[0;32m-> 4692\u001b[0;31m         \u001b[0mgeojson\u001b[0m \u001b[0;34m=\u001b[0m \u001b[0mshp_to_geojson\u001b[0m\u001b[0;34m(\u001b[0m\u001b[0min_shp\u001b[0m\u001b[0;34m)\u001b[0m\u001b[0;34m\u001b[0m\u001b[0;34m\u001b[0m\u001b[0m\n\u001b[0m\u001b[1;32m   4693\u001b[0m         self.add_geojson(\n\u001b[1;32m   4694\u001b[0m             \u001b[0mgeojson\u001b[0m\u001b[0;34m,\u001b[0m\u001b[0;34m\u001b[0m\u001b[0;34m\u001b[0m\u001b[0m\n",
      "\u001b[0;32m~/anaconda3/envs/gee/lib/python3.9/site-packages/geemap/common.py\u001b[0m in \u001b[0;36mshp_to_geojson\u001b[0;34m(in_shp, out_json)\u001b[0m\n\u001b[1;32m   1136\u001b[0m                 \u001b[0mos\u001b[0m\u001b[0;34m.\u001b[0m\u001b[0mmakedirs\u001b[0m\u001b[0;34m(\u001b[0m\u001b[0mos\u001b[0m\u001b[0;34m.\u001b[0m\u001b[0mpath\u001b[0m\u001b[0;34m.\u001b[0m\u001b[0mdirname\u001b[0m\u001b[0;34m(\u001b[0m\u001b[0mout_json\u001b[0m\u001b[0;34m)\u001b[0m\u001b[0;34m)\u001b[0m\u001b[0;34m\u001b[0m\u001b[0;34m\u001b[0m\u001b[0m\n\u001b[1;32m   1137\u001b[0m \u001b[0;34m\u001b[0m\u001b[0m\n\u001b[0;32m-> 1138\u001b[0;31m         \u001b[0;32mif\u001b[0m \u001b[0;32mnot\u001b[0m \u001b[0mis_GCS\u001b[0m\u001b[0;34m(\u001b[0m\u001b[0min_shp\u001b[0m\u001b[0;34m)\u001b[0m\u001b[0;34m:\u001b[0m\u001b[0;34m\u001b[0m\u001b[0;34m\u001b[0m\u001b[0m\n\u001b[0m\u001b[1;32m   1139\u001b[0m             \u001b[0;32mtry\u001b[0m\u001b[0;34m:\u001b[0m\u001b[0;34m\u001b[0m\u001b[0;34m\u001b[0m\u001b[0m\n\u001b[1;32m   1140\u001b[0m                 \u001b[0;32mimport\u001b[0m \u001b[0mgeopandas\u001b[0m \u001b[0;32mas\u001b[0m \u001b[0mgpd\u001b[0m\u001b[0;34m\u001b[0m\u001b[0;34m\u001b[0m\u001b[0m\n",
      "\u001b[0;32m~/anaconda3/envs/gee/lib/python3.9/site-packages/geemap/common.py\u001b[0m in \u001b[0;36mis_GCS\u001b[0;34m(in_shp)\u001b[0m\n\u001b[1;32m   7043\u001b[0m         \u001b[0;32mwith\u001b[0m \u001b[0mopen\u001b[0m\u001b[0;34m(\u001b[0m\u001b[0min_prj\u001b[0m\u001b[0;34m)\u001b[0m \u001b[0;32mas\u001b[0m \u001b[0mf\u001b[0m\u001b[0;34m:\u001b[0m\u001b[0;34m\u001b[0m\u001b[0;34m\u001b[0m\u001b[0m\n\u001b[1;32m   7044\u001b[0m             \u001b[0mesri_wkt\u001b[0m \u001b[0;34m=\u001b[0m \u001b[0mf\u001b[0m\u001b[0;34m.\u001b[0m\u001b[0mread\u001b[0m\u001b[0;34m(\u001b[0m\u001b[0;34m)\u001b[0m\u001b[0;34m\u001b[0m\u001b[0;34m\u001b[0m\u001b[0m\n\u001b[0;32m-> 7045\u001b[0;31m         \u001b[0mepsg4326\u001b[0m \u001b[0;34m=\u001b[0m \u001b[0mpycrs\u001b[0m\u001b[0;34m.\u001b[0m\u001b[0mparse\u001b[0m\u001b[0;34m.\u001b[0m\u001b[0mfrom_epsg_code\u001b[0m\u001b[0;34m(\u001b[0m\u001b[0;36m4326\u001b[0m\u001b[0;34m)\u001b[0m\u001b[0;34m.\u001b[0m\u001b[0mto_proj4\u001b[0m\u001b[0;34m(\u001b[0m\u001b[0;34m)\u001b[0m\u001b[0;34m\u001b[0m\u001b[0;34m\u001b[0m\u001b[0m\n\u001b[0m\u001b[1;32m   7046\u001b[0m         \u001b[0;32mtry\u001b[0m\u001b[0;34m:\u001b[0m\u001b[0;34m\u001b[0m\u001b[0;34m\u001b[0m\u001b[0m\n\u001b[1;32m   7047\u001b[0m             \u001b[0mcrs\u001b[0m \u001b[0;34m=\u001b[0m \u001b[0mpycrs\u001b[0m\u001b[0;34m.\u001b[0m\u001b[0mparse\u001b[0m\u001b[0;34m.\u001b[0m\u001b[0mfrom_esri_wkt\u001b[0m\u001b[0;34m(\u001b[0m\u001b[0mesri_wkt\u001b[0m\u001b[0;34m)\u001b[0m\u001b[0;34m.\u001b[0m\u001b[0mto_proj4\u001b[0m\u001b[0;34m(\u001b[0m\u001b[0;34m)\u001b[0m\u001b[0;34m\u001b[0m\u001b[0;34m\u001b[0m\u001b[0m\n",
      "\u001b[0;32m~/anaconda3/envs/gee/lib/python3.9/site-packages/pycrs/parse.py\u001b[0m in \u001b[0;36mfrom_epsg_code\u001b[0;34m(code)\u001b[0m\n\u001b[1;32m     39\u001b[0m     \u001b[0;31m# must go online (or look up local table) to get crs details\u001b[0m\u001b[0;34m\u001b[0m\u001b[0;34m\u001b[0m\u001b[0;34m\u001b[0m\u001b[0m\n\u001b[1;32m     40\u001b[0m     \u001b[0mcode\u001b[0m \u001b[0;34m=\u001b[0m \u001b[0mstr\u001b[0m\u001b[0;34m(\u001b[0m\u001b[0mcode\u001b[0m\u001b[0;34m)\u001b[0m\u001b[0;34m\u001b[0m\u001b[0;34m\u001b[0m\u001b[0m\n\u001b[0;32m---> 41\u001b[0;31m     \u001b[0mproj4\u001b[0m \u001b[0;34m=\u001b[0m \u001b[0mutils\u001b[0m\u001b[0;34m.\u001b[0m\u001b[0mcrscode_to_string\u001b[0m\u001b[0;34m(\u001b[0m\u001b[0;34m\"epsg\"\u001b[0m\u001b[0;34m,\u001b[0m \u001b[0mcode\u001b[0m\u001b[0;34m,\u001b[0m \u001b[0;34m\"proj4\"\u001b[0m\u001b[0;34m)\u001b[0m\u001b[0;34m\u001b[0m\u001b[0;34m\u001b[0m\u001b[0m\n\u001b[0m\u001b[1;32m     42\u001b[0m     \u001b[0mcrs\u001b[0m \u001b[0;34m=\u001b[0m \u001b[0mfrom_proj4\u001b[0m\u001b[0;34m(\u001b[0m\u001b[0mproj4\u001b[0m\u001b[0;34m)\u001b[0m\u001b[0;34m\u001b[0m\u001b[0;34m\u001b[0m\u001b[0m\n\u001b[1;32m     43\u001b[0m     \u001b[0;32mreturn\u001b[0m \u001b[0mcrs\u001b[0m\u001b[0;34m\u001b[0m\u001b[0;34m\u001b[0m\u001b[0m\n",
      "\u001b[0;32m~/anaconda3/envs/gee/lib/python3.9/site-packages/pycrs/utils.py\u001b[0m in \u001b[0;36mcrscode_to_string\u001b[0;34m(codetype, code, format)\u001b[0m\n\u001b[1;32m     97\u001b[0m         \u001b[0mlink\u001b[0m \u001b[0;34m=\u001b[0m \u001b[0;34m'https://epsg.io/{}.{}'\u001b[0m\u001b[0;34m.\u001b[0m\u001b[0mformat\u001b[0m\u001b[0;34m(\u001b[0m\u001b[0mcode\u001b[0m\u001b[0;34m,\u001b[0m \u001b[0mformat\u001b[0m\u001b[0;34m)\u001b[0m\u001b[0;34m\u001b[0m\u001b[0;34m\u001b[0m\u001b[0m\n\u001b[1;32m     98\u001b[0m         \u001b[0mreq\u001b[0m \u001b[0;34m=\u001b[0m \u001b[0murllib2\u001b[0m\u001b[0;34m.\u001b[0m\u001b[0mRequest\u001b[0m\u001b[0;34m(\u001b[0m\u001b[0mlink\u001b[0m\u001b[0;34m,\u001b[0m \u001b[0mheaders\u001b[0m\u001b[0;34m=\u001b[0m\u001b[0;34m{\u001b[0m\u001b[0;34m'User-Agent'\u001b[0m\u001b[0;34m:\u001b[0m\u001b[0;34m'Mozilla/5.0 (Windows; U; Windows NT 5.1; en-US; rv:1.9.0.7) Gecko/2009021910 Firefox/3.0.7'\u001b[0m\u001b[0;34m}\u001b[0m\u001b[0;34m)\u001b[0m\u001b[0;34m\u001b[0m\u001b[0;34m\u001b[0m\u001b[0m\n\u001b[0;32m---> 99\u001b[0;31m         \u001b[0mresult\u001b[0m \u001b[0;34m=\u001b[0m \u001b[0murllib2\u001b[0m\u001b[0;34m.\u001b[0m\u001b[0murlopen\u001b[0m\u001b[0;34m(\u001b[0m\u001b[0mreq\u001b[0m\u001b[0;34m)\u001b[0m\u001b[0;34m.\u001b[0m\u001b[0mread\u001b[0m\u001b[0;34m(\u001b[0m\u001b[0;34m)\u001b[0m\u001b[0;34m\u001b[0m\u001b[0;34m\u001b[0m\u001b[0m\n\u001b[0m\u001b[1;32m    100\u001b[0m     \u001b[0;32melse\u001b[0m\u001b[0;34m:\u001b[0m\u001b[0;34m\u001b[0m\u001b[0;34m\u001b[0m\u001b[0m\n\u001b[1;32m    101\u001b[0m         \u001b[0;31m# use spatialreference.org\u001b[0m\u001b[0;34m\u001b[0m\u001b[0;34m\u001b[0m\u001b[0;34m\u001b[0m\u001b[0m\n",
      "\u001b[0;32m~/anaconda3/envs/gee/lib/python3.9/urllib/request.py\u001b[0m in \u001b[0;36murlopen\u001b[0;34m(url, data, timeout, cafile, capath, cadefault, context)\u001b[0m\n\u001b[1;32m    212\u001b[0m     \u001b[0;32melse\u001b[0m\u001b[0;34m:\u001b[0m\u001b[0;34m\u001b[0m\u001b[0;34m\u001b[0m\u001b[0m\n\u001b[1;32m    213\u001b[0m         \u001b[0mopener\u001b[0m \u001b[0;34m=\u001b[0m \u001b[0m_opener\u001b[0m\u001b[0;34m\u001b[0m\u001b[0;34m\u001b[0m\u001b[0m\n\u001b[0;32m--> 214\u001b[0;31m     \u001b[0;32mreturn\u001b[0m \u001b[0mopener\u001b[0m\u001b[0;34m.\u001b[0m\u001b[0mopen\u001b[0m\u001b[0;34m(\u001b[0m\u001b[0murl\u001b[0m\u001b[0;34m,\u001b[0m \u001b[0mdata\u001b[0m\u001b[0;34m,\u001b[0m \u001b[0mtimeout\u001b[0m\u001b[0;34m)\u001b[0m\u001b[0;34m\u001b[0m\u001b[0;34m\u001b[0m\u001b[0m\n\u001b[0m\u001b[1;32m    215\u001b[0m \u001b[0;34m\u001b[0m\u001b[0m\n\u001b[1;32m    216\u001b[0m \u001b[0;32mdef\u001b[0m \u001b[0minstall_opener\u001b[0m\u001b[0;34m(\u001b[0m\u001b[0mopener\u001b[0m\u001b[0;34m)\u001b[0m\u001b[0;34m:\u001b[0m\u001b[0;34m\u001b[0m\u001b[0;34m\u001b[0m\u001b[0m\n",
      "\u001b[0;32m~/anaconda3/envs/gee/lib/python3.9/urllib/request.py\u001b[0m in \u001b[0;36mopen\u001b[0;34m(self, fullurl, data, timeout)\u001b[0m\n\u001b[1;32m    515\u001b[0m \u001b[0;34m\u001b[0m\u001b[0m\n\u001b[1;32m    516\u001b[0m         \u001b[0msys\u001b[0m\u001b[0;34m.\u001b[0m\u001b[0maudit\u001b[0m\u001b[0;34m(\u001b[0m\u001b[0;34m'urllib.Request'\u001b[0m\u001b[0;34m,\u001b[0m \u001b[0mreq\u001b[0m\u001b[0;34m.\u001b[0m\u001b[0mfull_url\u001b[0m\u001b[0;34m,\u001b[0m \u001b[0mreq\u001b[0m\u001b[0;34m.\u001b[0m\u001b[0mdata\u001b[0m\u001b[0;34m,\u001b[0m \u001b[0mreq\u001b[0m\u001b[0;34m.\u001b[0m\u001b[0mheaders\u001b[0m\u001b[0;34m,\u001b[0m \u001b[0mreq\u001b[0m\u001b[0;34m.\u001b[0m\u001b[0mget_method\u001b[0m\u001b[0;34m(\u001b[0m\u001b[0;34m)\u001b[0m\u001b[0;34m)\u001b[0m\u001b[0;34m\u001b[0m\u001b[0;34m\u001b[0m\u001b[0m\n\u001b[0;32m--> 517\u001b[0;31m         \u001b[0mresponse\u001b[0m \u001b[0;34m=\u001b[0m \u001b[0mself\u001b[0m\u001b[0;34m.\u001b[0m\u001b[0m_open\u001b[0m\u001b[0;34m(\u001b[0m\u001b[0mreq\u001b[0m\u001b[0;34m,\u001b[0m \u001b[0mdata\u001b[0m\u001b[0;34m)\u001b[0m\u001b[0;34m\u001b[0m\u001b[0;34m\u001b[0m\u001b[0m\n\u001b[0m\u001b[1;32m    518\u001b[0m \u001b[0;34m\u001b[0m\u001b[0m\n\u001b[1;32m    519\u001b[0m         \u001b[0;31m# post-process response\u001b[0m\u001b[0;34m\u001b[0m\u001b[0;34m\u001b[0m\u001b[0;34m\u001b[0m\u001b[0m\n",
      "\u001b[0;32m~/anaconda3/envs/gee/lib/python3.9/urllib/request.py\u001b[0m in \u001b[0;36m_open\u001b[0;34m(self, req, data)\u001b[0m\n\u001b[1;32m    532\u001b[0m \u001b[0;34m\u001b[0m\u001b[0m\n\u001b[1;32m    533\u001b[0m         \u001b[0mprotocol\u001b[0m \u001b[0;34m=\u001b[0m \u001b[0mreq\u001b[0m\u001b[0;34m.\u001b[0m\u001b[0mtype\u001b[0m\u001b[0;34m\u001b[0m\u001b[0;34m\u001b[0m\u001b[0m\n\u001b[0;32m--> 534\u001b[0;31m         result = self._call_chain(self.handle_open, protocol, protocol +\n\u001b[0m\u001b[1;32m    535\u001b[0m                                   '_open', req)\n\u001b[1;32m    536\u001b[0m         \u001b[0;32mif\u001b[0m \u001b[0mresult\u001b[0m\u001b[0;34m:\u001b[0m\u001b[0;34m\u001b[0m\u001b[0;34m\u001b[0m\u001b[0m\n",
      "\u001b[0;32m~/anaconda3/envs/gee/lib/python3.9/urllib/request.py\u001b[0m in \u001b[0;36m_call_chain\u001b[0;34m(self, chain, kind, meth_name, *args)\u001b[0m\n\u001b[1;32m    492\u001b[0m         \u001b[0;32mfor\u001b[0m \u001b[0mhandler\u001b[0m \u001b[0;32min\u001b[0m \u001b[0mhandlers\u001b[0m\u001b[0;34m:\u001b[0m\u001b[0;34m\u001b[0m\u001b[0;34m\u001b[0m\u001b[0m\n\u001b[1;32m    493\u001b[0m             \u001b[0mfunc\u001b[0m \u001b[0;34m=\u001b[0m \u001b[0mgetattr\u001b[0m\u001b[0;34m(\u001b[0m\u001b[0mhandler\u001b[0m\u001b[0;34m,\u001b[0m \u001b[0mmeth_name\u001b[0m\u001b[0;34m)\u001b[0m\u001b[0;34m\u001b[0m\u001b[0;34m\u001b[0m\u001b[0m\n\u001b[0;32m--> 494\u001b[0;31m             \u001b[0mresult\u001b[0m \u001b[0;34m=\u001b[0m \u001b[0mfunc\u001b[0m\u001b[0;34m(\u001b[0m\u001b[0;34m*\u001b[0m\u001b[0margs\u001b[0m\u001b[0;34m)\u001b[0m\u001b[0;34m\u001b[0m\u001b[0;34m\u001b[0m\u001b[0m\n\u001b[0m\u001b[1;32m    495\u001b[0m             \u001b[0;32mif\u001b[0m \u001b[0mresult\u001b[0m \u001b[0;32mis\u001b[0m \u001b[0;32mnot\u001b[0m \u001b[0;32mNone\u001b[0m\u001b[0;34m:\u001b[0m\u001b[0;34m\u001b[0m\u001b[0;34m\u001b[0m\u001b[0m\n\u001b[1;32m    496\u001b[0m                 \u001b[0;32mreturn\u001b[0m \u001b[0mresult\u001b[0m\u001b[0;34m\u001b[0m\u001b[0;34m\u001b[0m\u001b[0m\n",
      "\u001b[0;32m~/anaconda3/envs/gee/lib/python3.9/urllib/request.py\u001b[0m in \u001b[0;36mhttps_open\u001b[0;34m(self, req)\u001b[0m\n\u001b[1;32m   1387\u001b[0m \u001b[0;34m\u001b[0m\u001b[0m\n\u001b[1;32m   1388\u001b[0m         \u001b[0;32mdef\u001b[0m \u001b[0mhttps_open\u001b[0m\u001b[0;34m(\u001b[0m\u001b[0mself\u001b[0m\u001b[0;34m,\u001b[0m \u001b[0mreq\u001b[0m\u001b[0;34m)\u001b[0m\u001b[0;34m:\u001b[0m\u001b[0;34m\u001b[0m\u001b[0;34m\u001b[0m\u001b[0m\n\u001b[0;32m-> 1389\u001b[0;31m             return self.do_open(http.client.HTTPSConnection, req,\n\u001b[0m\u001b[1;32m   1390\u001b[0m                 context=self._context, check_hostname=self._check_hostname)\n\u001b[1;32m   1391\u001b[0m \u001b[0;34m\u001b[0m\u001b[0m\n",
      "\u001b[0;32m~/anaconda3/envs/gee/lib/python3.9/urllib/request.py\u001b[0m in \u001b[0;36mdo_open\u001b[0;34m(self, http_class, req, **http_conn_args)\u001b[0m\n\u001b[1;32m   1344\u001b[0m         \u001b[0;32mtry\u001b[0m\u001b[0;34m:\u001b[0m\u001b[0;34m\u001b[0m\u001b[0;34m\u001b[0m\u001b[0m\n\u001b[1;32m   1345\u001b[0m             \u001b[0;32mtry\u001b[0m\u001b[0;34m:\u001b[0m\u001b[0;34m\u001b[0m\u001b[0;34m\u001b[0m\u001b[0m\n\u001b[0;32m-> 1346\u001b[0;31m                 h.request(req.get_method(), req.selector, req.data, headers,\n\u001b[0m\u001b[1;32m   1347\u001b[0m                           encode_chunked=req.has_header('Transfer-encoding'))\n\u001b[1;32m   1348\u001b[0m             \u001b[0;32mexcept\u001b[0m \u001b[0mOSError\u001b[0m \u001b[0;32mas\u001b[0m \u001b[0merr\u001b[0m\u001b[0;34m:\u001b[0m \u001b[0;31m# timeout error\u001b[0m\u001b[0;34m\u001b[0m\u001b[0;34m\u001b[0m\u001b[0m\n",
      "\u001b[0;32m~/anaconda3/envs/gee/lib/python3.9/http/client.py\u001b[0m in \u001b[0;36mrequest\u001b[0;34m(self, method, url, body, headers, encode_chunked)\u001b[0m\n\u001b[1;32m   1251\u001b[0m                 encode_chunked=False):\n\u001b[1;32m   1252\u001b[0m         \u001b[0;34m\"\"\"Send a complete request to the server.\"\"\"\u001b[0m\u001b[0;34m\u001b[0m\u001b[0;34m\u001b[0m\u001b[0m\n\u001b[0;32m-> 1253\u001b[0;31m         \u001b[0mself\u001b[0m\u001b[0;34m.\u001b[0m\u001b[0m_send_request\u001b[0m\u001b[0;34m(\u001b[0m\u001b[0mmethod\u001b[0m\u001b[0;34m,\u001b[0m \u001b[0murl\u001b[0m\u001b[0;34m,\u001b[0m \u001b[0mbody\u001b[0m\u001b[0;34m,\u001b[0m \u001b[0mheaders\u001b[0m\u001b[0;34m,\u001b[0m \u001b[0mencode_chunked\u001b[0m\u001b[0;34m)\u001b[0m\u001b[0;34m\u001b[0m\u001b[0;34m\u001b[0m\u001b[0m\n\u001b[0m\u001b[1;32m   1254\u001b[0m \u001b[0;34m\u001b[0m\u001b[0m\n\u001b[1;32m   1255\u001b[0m     \u001b[0;32mdef\u001b[0m \u001b[0m_send_request\u001b[0m\u001b[0;34m(\u001b[0m\u001b[0mself\u001b[0m\u001b[0;34m,\u001b[0m \u001b[0mmethod\u001b[0m\u001b[0;34m,\u001b[0m \u001b[0murl\u001b[0m\u001b[0;34m,\u001b[0m \u001b[0mbody\u001b[0m\u001b[0;34m,\u001b[0m \u001b[0mheaders\u001b[0m\u001b[0;34m,\u001b[0m \u001b[0mencode_chunked\u001b[0m\u001b[0;34m)\u001b[0m\u001b[0;34m:\u001b[0m\u001b[0;34m\u001b[0m\u001b[0;34m\u001b[0m\u001b[0m\n",
      "\u001b[0;32m~/anaconda3/envs/gee/lib/python3.9/http/client.py\u001b[0m in \u001b[0;36m_send_request\u001b[0;34m(self, method, url, body, headers, encode_chunked)\u001b[0m\n\u001b[1;32m   1297\u001b[0m             \u001b[0;31m# default charset of iso-8859-1.\u001b[0m\u001b[0;34m\u001b[0m\u001b[0;34m\u001b[0m\u001b[0;34m\u001b[0m\u001b[0m\n\u001b[1;32m   1298\u001b[0m             \u001b[0mbody\u001b[0m \u001b[0;34m=\u001b[0m \u001b[0m_encode\u001b[0m\u001b[0;34m(\u001b[0m\u001b[0mbody\u001b[0m\u001b[0;34m,\u001b[0m \u001b[0;34m'body'\u001b[0m\u001b[0;34m)\u001b[0m\u001b[0;34m\u001b[0m\u001b[0;34m\u001b[0m\u001b[0m\n\u001b[0;32m-> 1299\u001b[0;31m         \u001b[0mself\u001b[0m\u001b[0;34m.\u001b[0m\u001b[0mendheaders\u001b[0m\u001b[0;34m(\u001b[0m\u001b[0mbody\u001b[0m\u001b[0;34m,\u001b[0m \u001b[0mencode_chunked\u001b[0m\u001b[0;34m=\u001b[0m\u001b[0mencode_chunked\u001b[0m\u001b[0;34m)\u001b[0m\u001b[0;34m\u001b[0m\u001b[0;34m\u001b[0m\u001b[0m\n\u001b[0m\u001b[1;32m   1300\u001b[0m \u001b[0;34m\u001b[0m\u001b[0m\n\u001b[1;32m   1301\u001b[0m     \u001b[0;32mdef\u001b[0m \u001b[0mgetresponse\u001b[0m\u001b[0;34m(\u001b[0m\u001b[0mself\u001b[0m\u001b[0;34m)\u001b[0m\u001b[0;34m:\u001b[0m\u001b[0;34m\u001b[0m\u001b[0;34m\u001b[0m\u001b[0m\n",
      "\u001b[0;32m~/anaconda3/envs/gee/lib/python3.9/http/client.py\u001b[0m in \u001b[0;36mendheaders\u001b[0;34m(self, message_body, encode_chunked)\u001b[0m\n\u001b[1;32m   1246\u001b[0m         \u001b[0;32melse\u001b[0m\u001b[0;34m:\u001b[0m\u001b[0;34m\u001b[0m\u001b[0;34m\u001b[0m\u001b[0m\n\u001b[1;32m   1247\u001b[0m             \u001b[0;32mraise\u001b[0m \u001b[0mCannotSendHeader\u001b[0m\u001b[0;34m(\u001b[0m\u001b[0;34m)\u001b[0m\u001b[0;34m\u001b[0m\u001b[0;34m\u001b[0m\u001b[0m\n\u001b[0;32m-> 1248\u001b[0;31m         \u001b[0mself\u001b[0m\u001b[0;34m.\u001b[0m\u001b[0m_send_output\u001b[0m\u001b[0;34m(\u001b[0m\u001b[0mmessage_body\u001b[0m\u001b[0;34m,\u001b[0m \u001b[0mencode_chunked\u001b[0m\u001b[0;34m=\u001b[0m\u001b[0mencode_chunked\u001b[0m\u001b[0;34m)\u001b[0m\u001b[0;34m\u001b[0m\u001b[0;34m\u001b[0m\u001b[0m\n\u001b[0m\u001b[1;32m   1249\u001b[0m \u001b[0;34m\u001b[0m\u001b[0m\n\u001b[1;32m   1250\u001b[0m     def request(self, method, url, body=None, headers={}, *,\n",
      "\u001b[0;32m~/anaconda3/envs/gee/lib/python3.9/http/client.py\u001b[0m in \u001b[0;36m_send_output\u001b[0;34m(self, message_body, encode_chunked)\u001b[0m\n\u001b[1;32m   1006\u001b[0m         \u001b[0mmsg\u001b[0m \u001b[0;34m=\u001b[0m \u001b[0;34mb\"\\r\\n\"\u001b[0m\u001b[0;34m.\u001b[0m\u001b[0mjoin\u001b[0m\u001b[0;34m(\u001b[0m\u001b[0mself\u001b[0m\u001b[0;34m.\u001b[0m\u001b[0m_buffer\u001b[0m\u001b[0;34m)\u001b[0m\u001b[0;34m\u001b[0m\u001b[0;34m\u001b[0m\u001b[0m\n\u001b[1;32m   1007\u001b[0m         \u001b[0;32mdel\u001b[0m \u001b[0mself\u001b[0m\u001b[0;34m.\u001b[0m\u001b[0m_buffer\u001b[0m\u001b[0;34m[\u001b[0m\u001b[0;34m:\u001b[0m\u001b[0;34m]\u001b[0m\u001b[0;34m\u001b[0m\u001b[0;34m\u001b[0m\u001b[0m\n\u001b[0;32m-> 1008\u001b[0;31m         \u001b[0mself\u001b[0m\u001b[0;34m.\u001b[0m\u001b[0msend\u001b[0m\u001b[0;34m(\u001b[0m\u001b[0mmsg\u001b[0m\u001b[0;34m)\u001b[0m\u001b[0;34m\u001b[0m\u001b[0;34m\u001b[0m\u001b[0m\n\u001b[0m\u001b[1;32m   1009\u001b[0m \u001b[0;34m\u001b[0m\u001b[0m\n\u001b[1;32m   1010\u001b[0m         \u001b[0;32mif\u001b[0m \u001b[0mmessage_body\u001b[0m \u001b[0;32mis\u001b[0m \u001b[0;32mnot\u001b[0m \u001b[0;32mNone\u001b[0m\u001b[0;34m:\u001b[0m\u001b[0;34m\u001b[0m\u001b[0;34m\u001b[0m\u001b[0m\n",
      "\u001b[0;32m~/anaconda3/envs/gee/lib/python3.9/http/client.py\u001b[0m in \u001b[0;36msend\u001b[0;34m(self, data)\u001b[0m\n\u001b[1;32m    946\u001b[0m         \u001b[0;32mif\u001b[0m \u001b[0mself\u001b[0m\u001b[0;34m.\u001b[0m\u001b[0msock\u001b[0m \u001b[0;32mis\u001b[0m \u001b[0;32mNone\u001b[0m\u001b[0;34m:\u001b[0m\u001b[0;34m\u001b[0m\u001b[0;34m\u001b[0m\u001b[0m\n\u001b[1;32m    947\u001b[0m             \u001b[0;32mif\u001b[0m \u001b[0mself\u001b[0m\u001b[0;34m.\u001b[0m\u001b[0mauto_open\u001b[0m\u001b[0;34m:\u001b[0m\u001b[0;34m\u001b[0m\u001b[0;34m\u001b[0m\u001b[0m\n\u001b[0;32m--> 948\u001b[0;31m                 \u001b[0mself\u001b[0m\u001b[0;34m.\u001b[0m\u001b[0mconnect\u001b[0m\u001b[0;34m(\u001b[0m\u001b[0;34m)\u001b[0m\u001b[0;34m\u001b[0m\u001b[0;34m\u001b[0m\u001b[0m\n\u001b[0m\u001b[1;32m    949\u001b[0m             \u001b[0;32melse\u001b[0m\u001b[0;34m:\u001b[0m\u001b[0;34m\u001b[0m\u001b[0;34m\u001b[0m\u001b[0m\n\u001b[1;32m    950\u001b[0m                 \u001b[0;32mraise\u001b[0m \u001b[0mNotConnected\u001b[0m\u001b[0;34m(\u001b[0m\u001b[0;34m)\u001b[0m\u001b[0;34m\u001b[0m\u001b[0;34m\u001b[0m\u001b[0m\n",
      "\u001b[0;32m~/anaconda3/envs/gee/lib/python3.9/http/client.py\u001b[0m in \u001b[0;36mconnect\u001b[0;34m(self)\u001b[0m\n\u001b[1;32m   1413\u001b[0m             \u001b[0;34m\"Connect to a host on a given (SSL) port.\"\u001b[0m\u001b[0;34m\u001b[0m\u001b[0;34m\u001b[0m\u001b[0m\n\u001b[1;32m   1414\u001b[0m \u001b[0;34m\u001b[0m\u001b[0m\n\u001b[0;32m-> 1415\u001b[0;31m             \u001b[0msuper\u001b[0m\u001b[0;34m(\u001b[0m\u001b[0;34m)\u001b[0m\u001b[0;34m.\u001b[0m\u001b[0mconnect\u001b[0m\u001b[0;34m(\u001b[0m\u001b[0;34m)\u001b[0m\u001b[0;34m\u001b[0m\u001b[0;34m\u001b[0m\u001b[0m\n\u001b[0m\u001b[1;32m   1416\u001b[0m \u001b[0;34m\u001b[0m\u001b[0m\n\u001b[1;32m   1417\u001b[0m             \u001b[0;32mif\u001b[0m \u001b[0mself\u001b[0m\u001b[0;34m.\u001b[0m\u001b[0m_tunnel_host\u001b[0m\u001b[0;34m:\u001b[0m\u001b[0;34m\u001b[0m\u001b[0;34m\u001b[0m\u001b[0m\n",
      "\u001b[0;32m~/anaconda3/envs/gee/lib/python3.9/http/client.py\u001b[0m in \u001b[0;36mconnect\u001b[0;34m(self)\u001b[0m\n\u001b[1;32m    917\u001b[0m     \u001b[0;32mdef\u001b[0m \u001b[0mconnect\u001b[0m\u001b[0;34m(\u001b[0m\u001b[0mself\u001b[0m\u001b[0;34m)\u001b[0m\u001b[0;34m:\u001b[0m\u001b[0;34m\u001b[0m\u001b[0;34m\u001b[0m\u001b[0m\n\u001b[1;32m    918\u001b[0m         \u001b[0;34m\"\"\"Connect to the host and port specified in __init__.\"\"\"\u001b[0m\u001b[0;34m\u001b[0m\u001b[0;34m\u001b[0m\u001b[0m\n\u001b[0;32m--> 919\u001b[0;31m         self.sock = self._create_connection(\n\u001b[0m\u001b[1;32m    920\u001b[0m             (self.host,self.port), self.timeout, self.source_address)\n\u001b[1;32m    921\u001b[0m         \u001b[0mself\u001b[0m\u001b[0;34m.\u001b[0m\u001b[0msock\u001b[0m\u001b[0;34m.\u001b[0m\u001b[0msetsockopt\u001b[0m\u001b[0;34m(\u001b[0m\u001b[0msocket\u001b[0m\u001b[0;34m.\u001b[0m\u001b[0mIPPROTO_TCP\u001b[0m\u001b[0;34m,\u001b[0m \u001b[0msocket\u001b[0m\u001b[0;34m.\u001b[0m\u001b[0mTCP_NODELAY\u001b[0m\u001b[0;34m,\u001b[0m \u001b[0;36m1\u001b[0m\u001b[0;34m)\u001b[0m\u001b[0;34m\u001b[0m\u001b[0;34m\u001b[0m\u001b[0m\n",
      "\u001b[0;32m~/anaconda3/envs/gee/lib/python3.9/socket.py\u001b[0m in \u001b[0;36mcreate_connection\u001b[0;34m(address, timeout, source_address)\u001b[0m\n\u001b[1;32m    820\u001b[0m     \u001b[0mhost\u001b[0m\u001b[0;34m,\u001b[0m \u001b[0mport\u001b[0m \u001b[0;34m=\u001b[0m \u001b[0maddress\u001b[0m\u001b[0;34m\u001b[0m\u001b[0;34m\u001b[0m\u001b[0m\n\u001b[1;32m    821\u001b[0m     \u001b[0merr\u001b[0m \u001b[0;34m=\u001b[0m \u001b[0;32mNone\u001b[0m\u001b[0;34m\u001b[0m\u001b[0;34m\u001b[0m\u001b[0m\n\u001b[0;32m--> 822\u001b[0;31m     \u001b[0;32mfor\u001b[0m \u001b[0mres\u001b[0m \u001b[0;32min\u001b[0m \u001b[0mgetaddrinfo\u001b[0m\u001b[0;34m(\u001b[0m\u001b[0mhost\u001b[0m\u001b[0;34m,\u001b[0m \u001b[0mport\u001b[0m\u001b[0;34m,\u001b[0m \u001b[0;36m0\u001b[0m\u001b[0;34m,\u001b[0m \u001b[0mSOCK_STREAM\u001b[0m\u001b[0;34m)\u001b[0m\u001b[0;34m:\u001b[0m\u001b[0;34m\u001b[0m\u001b[0;34m\u001b[0m\u001b[0m\n\u001b[0m\u001b[1;32m    823\u001b[0m         \u001b[0maf\u001b[0m\u001b[0;34m,\u001b[0m \u001b[0msocktype\u001b[0m\u001b[0;34m,\u001b[0m \u001b[0mproto\u001b[0m\u001b[0;34m,\u001b[0m \u001b[0mcanonname\u001b[0m\u001b[0;34m,\u001b[0m \u001b[0msa\u001b[0m \u001b[0;34m=\u001b[0m \u001b[0mres\u001b[0m\u001b[0;34m\u001b[0m\u001b[0;34m\u001b[0m\u001b[0m\n\u001b[1;32m    824\u001b[0m         \u001b[0msock\u001b[0m \u001b[0;34m=\u001b[0m \u001b[0;32mNone\u001b[0m\u001b[0;34m\u001b[0m\u001b[0;34m\u001b[0m\u001b[0m\n",
      "\u001b[0;32m~/anaconda3/envs/gee/lib/python3.9/socket.py\u001b[0m in \u001b[0;36mgetaddrinfo\u001b[0;34m(host, port, family, type, proto, flags)\u001b[0m\n\u001b[1;32m    951\u001b[0m     \u001b[0;31m# and socket type values to enum constants.\u001b[0m\u001b[0;34m\u001b[0m\u001b[0;34m\u001b[0m\u001b[0;34m\u001b[0m\u001b[0m\n\u001b[1;32m    952\u001b[0m     \u001b[0maddrlist\u001b[0m \u001b[0;34m=\u001b[0m \u001b[0;34m[\u001b[0m\u001b[0;34m]\u001b[0m\u001b[0;34m\u001b[0m\u001b[0;34m\u001b[0m\u001b[0m\n\u001b[0;32m--> 953\u001b[0;31m     \u001b[0;32mfor\u001b[0m \u001b[0mres\u001b[0m \u001b[0;32min\u001b[0m \u001b[0m_socket\u001b[0m\u001b[0;34m.\u001b[0m\u001b[0mgetaddrinfo\u001b[0m\u001b[0;34m(\u001b[0m\u001b[0mhost\u001b[0m\u001b[0;34m,\u001b[0m \u001b[0mport\u001b[0m\u001b[0;34m,\u001b[0m \u001b[0mfamily\u001b[0m\u001b[0;34m,\u001b[0m \u001b[0mtype\u001b[0m\u001b[0;34m,\u001b[0m \u001b[0mproto\u001b[0m\u001b[0;34m,\u001b[0m \u001b[0mflags\u001b[0m\u001b[0;34m)\u001b[0m\u001b[0;34m:\u001b[0m\u001b[0;34m\u001b[0m\u001b[0;34m\u001b[0m\u001b[0m\n\u001b[0m\u001b[1;32m    954\u001b[0m         \u001b[0maf\u001b[0m\u001b[0;34m,\u001b[0m \u001b[0msocktype\u001b[0m\u001b[0;34m,\u001b[0m \u001b[0mproto\u001b[0m\u001b[0;34m,\u001b[0m \u001b[0mcanonname\u001b[0m\u001b[0;34m,\u001b[0m \u001b[0msa\u001b[0m \u001b[0;34m=\u001b[0m \u001b[0mres\u001b[0m\u001b[0;34m\u001b[0m\u001b[0;34m\u001b[0m\u001b[0m\n\u001b[1;32m    955\u001b[0m         addrlist.append((_intenum_converter(af, AddressFamily),\n",
      "\u001b[0;31mKeyboardInterrupt\u001b[0m: "
     ]
    }
   ],
   "source": [
    "## add continent outline for better presentation\n",
    "Map.add_shapefile(\"CRU_precip_CGIAR_AI_data/Africa_continent_shape.shp\", 'outline', style={\"weight\": 2, 'fill':False}, fill_colors=['white'], info_mode='on_hover')"
   ]
  },
  {
   "cell_type": "code",
   "execution_count": null,
   "id": "db2544ba",
   "metadata": {},
   "outputs": [],
   "source": []
  }
 ],
 "metadata": {
  "kernelspec": {
   "display_name": "Python 3",
   "language": "python",
   "name": "python3"
  },
  "language_info": {
   "codemirror_mode": {
    "name": "ipython",
    "version": 3
   },
   "file_extension": ".py",
   "mimetype": "text/x-python",
   "name": "python",
   "nbconvert_exporter": "python",
   "pygments_lexer": "ipython3",
   "version": "3.9.4"
  }
 },
 "nbformat": 4,
 "nbformat_minor": 5
}
