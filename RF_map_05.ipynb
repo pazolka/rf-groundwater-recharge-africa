{
 "cells": [
  {
   "cell_type": "markdown",
   "id": "16918e1d",
   "metadata": {},
   "source": [
    "# Random Forest\n",
    "Total dataset size: 134 samples <br>\n",
    "Training set: 134 samples\n",
    "\n",
    "Features used (after importance analysis):\n",
    "- LTA precipitation (mmpa)\n",
    "- LTA wet days\n",
    "- LTA_PET_mm\n",
    "- Aridity idx\n",
    "- NDVI\n",
    "- DEM\n",
    "- LTA soil moisture - 10 cm (m3 m-3) "
   ]
  },
  {
   "cell_type": "code",
   "execution_count": 1,
   "id": "fef0dfd0",
   "metadata": {},
   "outputs": [
    {
     "data": {
      "text/html": [
       "<div>\n",
       "<style scoped>\n",
       "    .dataframe tbody tr th:only-of-type {\n",
       "        vertical-align: middle;\n",
       "    }\n",
       "\n",
       "    .dataframe tbody tr th {\n",
       "        vertical-align: top;\n",
       "    }\n",
       "\n",
       "    .dataframe thead th {\n",
       "        text-align: right;\n",
       "    }\n",
       "</style>\n",
       "<table border=\"1\" class=\"dataframe\">\n",
       "  <thead>\n",
       "    <tr style=\"text-align: right;\">\n",
       "      <th></th>\n",
       "      <th>Recharge_mmpa</th>\n",
       "      <th>LTA_CHIRPS_mmpa</th>\n",
       "      <th>LTA_GPCC_mmpa</th>\n",
       "      <th>LTA_P_mmpa</th>\n",
       "      <th>LTA_WD_days</th>\n",
       "      <th>LTA_PET_mm</th>\n",
       "      <th>Aridity</th>\n",
       "      <th>NDVI</th>\n",
       "      <th>Aquifer_group</th>\n",
       "      <th>Soil_group</th>\n",
       "      <th>Landcover_ext</th>\n",
       "      <th>Landcover</th>\n",
       "      <th>DEM</th>\n",
       "      <th>SM10_m3m3</th>\n",
       "      <th>SM10_kgm2</th>\n",
       "      <th>Lat</th>\n",
       "      <th>Long</th>\n",
       "      <th>ID</th>\n",
       "    </tr>\n",
       "  </thead>\n",
       "  <tbody>\n",
       "  </tbody>\n",
       "</table>\n",
       "</div>"
      ],
      "text/plain": [
       "Empty DataFrame\n",
       "Columns: [Recharge_mmpa, LTA_CHIRPS_mmpa, LTA_GPCC_mmpa, LTA_P_mmpa, LTA_WD_days, LTA_PET_mm, Aridity, NDVI, Aquifer_group, Soil_group, Landcover_ext, Landcover, DEM, SM10_m3m3, SM10_kgm2, Lat, Long, ID]\n",
       "Index: []"
      ]
     },
     "execution_count": 1,
     "metadata": {},
     "output_type": "execute_result"
    }
   ],
   "source": [
    "import pandas as pd\n",
    "import numpy as np\n",
    "from matplotlib import cm\n",
    "import matplotlib.pyplot as plt\n",
    "from sklearn.preprocessing import LabelEncoder\n",
    "from sklearn.model_selection import train_test_split\n",
    "from sklearn.ensemble import RandomForestRegressor\n",
    "from sklearn import metrics\n",
    "%matplotlib inline\n",
    "from matplotlib import colors\n",
    "from matplotlib.ticker import PercentFormatter\n",
    "import rasterio\n",
    "from utils import getAllCoordinates\n",
    "import json\n",
    "\n",
    "# Prepare all BGS points as training points\n",
    "\n",
    "# read file (data + coordinates)\n",
    "file = pd.read_csv('poc_ext.csv')\n",
    "# OMIT ZERO RECHARGE SAMPLES\n",
    "file = file[file['Recharge_mmpa']!= 0.1]\n",
    "#file = file[file['Recharge_mmpa']< 800]\n",
    "# drop unimportant columns\n",
    "data = file.drop(columns=['ID', 'Lat', 'Long', 'Aquifer_group', 'Soil_group', 'Landcover', 'Landcover_ext','LTA_GPCC_mmpa', 'LTA_CHIRPS_mmpa', 'SM10_kgm2', 'LTA_WD_days', 'DEM'])\n",
    "# Labels are the values we want to predict\n",
    "labels = np.log10(data['Recharge_mmpa'])\n",
    "#labels = data['Recharge_mmpa']\n",
    "data = data.drop('Recharge_mmpa', axis = 1)\n",
    "# Add for reference\n",
    "data['ID'] = file['ID']\n",
    "# Saving feature names for later use\n",
    "feature_list = list(data.columns)\n",
    "# Convert to numpy array\n",
    "features = np.array(data)\n",
    "\n",
    "file[file['Recharge_mmpa'] == 0.1]"
   ]
  },
  {
   "cell_type": "code",
   "execution_count": 2,
   "id": "81290320",
   "metadata": {},
   "outputs": [
    {
     "data": {
      "text/html": [
       "<div>\n",
       "<style scoped>\n",
       "    .dataframe tbody tr th:only-of-type {\n",
       "        vertical-align: middle;\n",
       "    }\n",
       "\n",
       "    .dataframe tbody tr th {\n",
       "        vertical-align: top;\n",
       "    }\n",
       "\n",
       "    .dataframe thead th {\n",
       "        text-align: right;\n",
       "    }\n",
       "</style>\n",
       "<table border=\"1\" class=\"dataframe\">\n",
       "  <thead>\n",
       "    <tr style=\"text-align: right;\">\n",
       "      <th></th>\n",
       "      <th>LTA_P_mmpa</th>\n",
       "      <th>LTA_PET_mm</th>\n",
       "      <th>Aridity</th>\n",
       "      <th>NDVI</th>\n",
       "      <th>SM10_m3m3</th>\n",
       "      <th>ID</th>\n",
       "    </tr>\n",
       "  </thead>\n",
       "  <tbody>\n",
       "    <tr>\n",
       "      <th>LTA_P_mmpa</th>\n",
       "      <td>1.000000</td>\n",
       "      <td>-0.534214</td>\n",
       "      <td>0.973336</td>\n",
       "      <td>0.843510</td>\n",
       "      <td>0.932252</td>\n",
       "      <td>-0.050985</td>\n",
       "    </tr>\n",
       "    <tr>\n",
       "      <th>LTA_PET_mm</th>\n",
       "      <td>-0.534214</td>\n",
       "      <td>1.000000</td>\n",
       "      <td>-0.625877</td>\n",
       "      <td>-0.696296</td>\n",
       "      <td>-0.580156</td>\n",
       "      <td>0.009623</td>\n",
       "    </tr>\n",
       "    <tr>\n",
       "      <th>Aridity</th>\n",
       "      <td>0.973336</td>\n",
       "      <td>-0.625877</td>\n",
       "      <td>1.000000</td>\n",
       "      <td>0.840664</td>\n",
       "      <td>0.926042</td>\n",
       "      <td>-0.045108</td>\n",
       "    </tr>\n",
       "    <tr>\n",
       "      <th>NDVI</th>\n",
       "      <td>0.843510</td>\n",
       "      <td>-0.696296</td>\n",
       "      <td>0.840664</td>\n",
       "      <td>1.000000</td>\n",
       "      <td>0.812939</td>\n",
       "      <td>0.016159</td>\n",
       "    </tr>\n",
       "    <tr>\n",
       "      <th>SM10_m3m3</th>\n",
       "      <td>0.932252</td>\n",
       "      <td>-0.580156</td>\n",
       "      <td>0.926042</td>\n",
       "      <td>0.812939</td>\n",
       "      <td>1.000000</td>\n",
       "      <td>-0.020052</td>\n",
       "    </tr>\n",
       "    <tr>\n",
       "      <th>ID</th>\n",
       "      <td>-0.050985</td>\n",
       "      <td>0.009623</td>\n",
       "      <td>-0.045108</td>\n",
       "      <td>0.016159</td>\n",
       "      <td>-0.020052</td>\n",
       "      <td>1.000000</td>\n",
       "    </tr>\n",
       "  </tbody>\n",
       "</table>\n",
       "</div>"
      ],
      "text/plain": [
       "            LTA_P_mmpa  LTA_PET_mm   Aridity      NDVI  SM10_m3m3        ID\n",
       "LTA_P_mmpa    1.000000   -0.534214  0.973336  0.843510   0.932252 -0.050985\n",
       "LTA_PET_mm   -0.534214    1.000000 -0.625877 -0.696296  -0.580156  0.009623\n",
       "Aridity       0.973336   -0.625877  1.000000  0.840664   0.926042 -0.045108\n",
       "NDVI          0.843510   -0.696296  0.840664  1.000000   0.812939  0.016159\n",
       "SM10_m3m3     0.932252   -0.580156  0.926042  0.812939   1.000000 -0.020052\n",
       "ID           -0.050985    0.009623 -0.045108  0.016159  -0.020052  1.000000"
      ]
     },
     "execution_count": 2,
     "metadata": {},
     "output_type": "execute_result"
    }
   ],
   "source": [
    "correlation_matrix = data.corr()\n",
    "correlation_matrix"
   ]
  },
  {
   "cell_type": "code",
   "execution_count": 3,
   "id": "ef7cc1d3",
   "metadata": {},
   "outputs": [
    {
     "data": {
      "text/html": [
       "<div>\n",
       "<style scoped>\n",
       "    .dataframe tbody tr th:only-of-type {\n",
       "        vertical-align: middle;\n",
       "    }\n",
       "\n",
       "    .dataframe tbody tr th {\n",
       "        vertical-align: top;\n",
       "    }\n",
       "\n",
       "    .dataframe thead th {\n",
       "        text-align: right;\n",
       "    }\n",
       "</style>\n",
       "<table border=\"1\" class=\"dataframe\">\n",
       "  <thead>\n",
       "    <tr style=\"text-align: right;\">\n",
       "      <th></th>\n",
       "      <th>LTA_P_mmpa</th>\n",
       "      <th>LTA_PET_mm</th>\n",
       "      <th>Aridity</th>\n",
       "      <th>NDVI</th>\n",
       "      <th>SM10_m3m3</th>\n",
       "      <th>ID</th>\n",
       "    </tr>\n",
       "  </thead>\n",
       "  <tbody>\n",
       "    <tr>\n",
       "      <th>0</th>\n",
       "      <td>1234.743356</td>\n",
       "      <td>1265.000000</td>\n",
       "      <td>0.977426</td>\n",
       "      <td>0.548899</td>\n",
       "      <td>0.317942</td>\n",
       "      <td>1</td>\n",
       "    </tr>\n",
       "    <tr>\n",
       "      <th>1</th>\n",
       "      <td>555.876675</td>\n",
       "      <td>1386.030028</td>\n",
       "      <td>0.403442</td>\n",
       "      <td>0.417538</td>\n",
       "      <td>0.210401</td>\n",
       "      <td>2</td>\n",
       "    </tr>\n",
       "    <tr>\n",
       "      <th>2</th>\n",
       "      <td>1376.716688</td>\n",
       "      <td>1337.440024</td>\n",
       "      <td>1.029575</td>\n",
       "      <td>0.687945</td>\n",
       "      <td>0.312940</td>\n",
       "      <td>3</td>\n",
       "    </tr>\n",
       "    <tr>\n",
       "      <th>3</th>\n",
       "      <td>518.196676</td>\n",
       "      <td>1590.610029</td>\n",
       "      <td>0.326188</td>\n",
       "      <td>0.268559</td>\n",
       "      <td>0.229384</td>\n",
       "      <td>4</td>\n",
       "    </tr>\n",
       "    <tr>\n",
       "      <th>4</th>\n",
       "      <td>1344.580024</td>\n",
       "      <td>1298.693353</td>\n",
       "      <td>1.038857</td>\n",
       "      <td>0.593882</td>\n",
       "      <td>0.330358</td>\n",
       "      <td>5</td>\n",
       "    </tr>\n",
       "    <tr>\n",
       "      <th>...</th>\n",
       "      <td>...</td>\n",
       "      <td>...</td>\n",
       "      <td>...</td>\n",
       "      <td>...</td>\n",
       "      <td>...</td>\n",
       "      <td>...</td>\n",
       "    </tr>\n",
       "    <tr>\n",
       "      <th>129</th>\n",
       "      <td>655.280013</td>\n",
       "      <td>1356.070025</td>\n",
       "      <td>0.486649</td>\n",
       "      <td>0.403724</td>\n",
       "      <td>0.323871</td>\n",
       "      <td>130</td>\n",
       "    </tr>\n",
       "    <tr>\n",
       "      <th>130</th>\n",
       "      <td>816.720013</td>\n",
       "      <td>1266.233355</td>\n",
       "      <td>0.648767</td>\n",
       "      <td>0.479056</td>\n",
       "      <td>0.227937</td>\n",
       "      <td>131</td>\n",
       "    </tr>\n",
       "    <tr>\n",
       "      <th>131</th>\n",
       "      <td>510.140009</td>\n",
       "      <td>1922.536704</td>\n",
       "      <td>0.265403</td>\n",
       "      <td>0.327490</td>\n",
       "      <td>0.194245</td>\n",
       "      <td>132</td>\n",
       "    </tr>\n",
       "    <tr>\n",
       "      <th>132</th>\n",
       "      <td>1215.073356</td>\n",
       "      <td>1149.026683</td>\n",
       "      <td>1.058098</td>\n",
       "      <td>0.447078</td>\n",
       "      <td>0.279276</td>\n",
       "      <td>133</td>\n",
       "    </tr>\n",
       "    <tr>\n",
       "      <th>133</th>\n",
       "      <td>555.313341</td>\n",
       "      <td>1395.100021</td>\n",
       "      <td>0.398908</td>\n",
       "      <td>0.561435</td>\n",
       "      <td>0.231864</td>\n",
       "      <td>316</td>\n",
       "    </tr>\n",
       "  </tbody>\n",
       "</table>\n",
       "<p>127 rows × 6 columns</p>\n",
       "</div>"
      ],
      "text/plain": [
       "      LTA_P_mmpa   LTA_PET_mm   Aridity      NDVI  SM10_m3m3   ID\n",
       "0    1234.743356  1265.000000  0.977426  0.548899   0.317942    1\n",
       "1     555.876675  1386.030028  0.403442  0.417538   0.210401    2\n",
       "2    1376.716688  1337.440024  1.029575  0.687945   0.312940    3\n",
       "3     518.196676  1590.610029  0.326188  0.268559   0.229384    4\n",
       "4    1344.580024  1298.693353  1.038857  0.593882   0.330358    5\n",
       "..           ...          ...       ...       ...        ...  ...\n",
       "129   655.280013  1356.070025  0.486649  0.403724   0.323871  130\n",
       "130   816.720013  1266.233355  0.648767  0.479056   0.227937  131\n",
       "131   510.140009  1922.536704  0.265403  0.327490   0.194245  132\n",
       "132  1215.073356  1149.026683  1.058098  0.447078   0.279276  133\n",
       "133   555.313341  1395.100021  0.398908  0.561435   0.231864  316\n",
       "\n",
       "[127 rows x 6 columns]"
      ]
     },
     "execution_count": 3,
     "metadata": {},
     "output_type": "execute_result"
    }
   ],
   "source": [
    "data"
   ]
  },
  {
   "cell_type": "markdown",
   "id": "0cce87bd",
   "metadata": {},
   "source": [
    "# Run RF for the whole domain"
   ]
  },
  {
   "cell_type": "code",
   "execution_count": 7,
   "id": "6d7c1470",
   "metadata": {},
   "outputs": [],
   "source": [
    "# get all coordinates of the smallest raster - workaround as rasters have slightly different shapes\n",
    "coords, T0, out_shape = getAllCoordinates('Recharge_files/Africa_bgs_LTA_AnnPrecip.tif')"
   ]
  },
  {
   "cell_type": "code",
   "execution_count": 8,
   "id": "8214217f",
   "metadata": {
    "scrolled": true
   },
   "outputs": [],
   "source": [
    "# read rasters\n",
    "pet_src = rasterio.open('Recharge_files/Africa_bgs_LTA_AnnPET.tif')\n",
    "p_src = rasterio.open('Recharge_files/Africa_bgs_LTA_AnnPrecip.tif')\n",
    "ndvi_src = rasterio.open('Recharge_files/Africa_NDVI.tif')\n",
    "ai_src = rasterio.open('Recharge_files/Africa_bgs_aridity_index.tif')\n",
    "sm_src = rasterio.open('Low_res_data_05/LTA_FLDAS_Soil_moisture_Afr_05.tif')\n",
    "\n",
    "# get raster values at 0.5x0.5 grid + flatten\n",
    "pet_samples = [item for sublist in list(pet_src.sample(coords)) for item in sublist]\n",
    "p_samples = [item for sublist in list(p_src.sample(coords)) for item in sublist]\n",
    "ndvi_samples = [item for sublist in list(ndvi_src.sample(coords)) for item in sublist]\n",
    "ai_samples = [item for sublist in list(ai_src.sample(coords)) for item in sublist]\n",
    "sm_samples = [item for sublist in list(sm_src.sample(coords)) for item in sublist]"
   ]
  },
  {
   "cell_type": "code",
   "execution_count": 9,
   "id": "59095877",
   "metadata": {},
   "outputs": [],
   "source": [
    "# combine predictors in a dataframe\n",
    "raw_ds = pd.DataFrame({'LTA_P_mmpa': p_samples, 'LTA_PET_mm': pet_samples,\n",
    "                       'Aridity': ai_samples, 'NDVI': ndvi_samples,\n",
    "                       #'Landcover': lc_samples,\n",
    "                       #'DEM': dem_samples,\n",
    "                       'SM10_m3m3': sm_samples})\n",
    "\n",
    "# take rows with valid predictor data (land only)\n",
    "filtered_ds = raw_ds[(raw_ds['LTA_P_mmpa'] >= -1000)\n",
    "                     & (raw_ds['LTA_PET_mm'] >= -1000) & (raw_ds['Aridity'] >= -1000) & (raw_ds['SM10_m3m3'] > 0)\n",
    "                     # & (raw_ds['Landcover'] > 0)\n",
    "                     # & (raw_ds['DEM'] >= -1000)\n",
    "                     & (raw_ds['NDVI'] >= -1000)]\n",
    "\n",
    "# convert dataframe to numpy array\n",
    "domain_features = np.array(filtered_ds)\n",
    "\n",
    "params = {'n_estimators': 2000,\n",
    " 'min_samples_split': 10,\n",
    " 'min_samples_leaf': 1,\n",
    " 'max_features': 0.33,\n",
    " 'max_depth': 80,\n",
    " 'bootstrap': True}\n",
    "\n",
    "# # optimised hyperparameters for RF with zero-recharge points\n",
    "# params = {'n_estimators': 2000,\n",
    "#  'min_samples_split': 2,\n",
    "#  'min_samples_leaf': 2,\n",
    "#  'max_features': 0.33,\n",
    "#  'max_depth': 10,\n",
    "#  'bootstrap': True}\n",
    "\n",
    "# apply random forest\n",
    "# instantiate model\n",
    "final_rf = RandomForestRegressor(**params, oob_score=True)"
   ]
  },
  {
   "cell_type": "code",
   "execution_count": 10,
   "id": "c7e91c3f",
   "metadata": {},
   "outputs": [],
   "source": [
    "# train the model on entire BGS dataset\n",
    "final_rf.fit(features[:,:-1], labels)\n",
    "# use the forest's predict method on the whole domain\n",
    "pred_recharge = final_rf.predict(domain_features)\n",
    "# apply to training set again\n",
    "train_predictions = final_rf.predict(features[:,:-1])"
   ]
  },
  {
   "cell_type": "code",
   "execution_count": 11,
   "id": "0b4095ca",
   "metadata": {},
   "outputs": [
    {
     "name": "stdout",
     "output_type": "stream",
     "text": [
      "OOB score 0.6844204513170282\n"
     ]
    }
   ],
   "source": [
    "print(f'OOB score {final_rf.oob_score_}')"
   ]
  },
  {
   "cell_type": "code",
   "execution_count": 12,
   "id": "c669c2d2",
   "metadata": {},
   "outputs": [
    {
     "name": "stderr",
     "output_type": "stream",
     "text": [
      "<ipython-input-12-342f8dd9e9da>:2: SettingWithCopyWarning: \n",
      "A value is trying to be set on a copy of a slice from a DataFrame.\n",
      "Try using .loc[row_indexer,col_indexer] = value instead\n",
      "\n",
      "See the caveats in the documentation: https://pandas.pydata.org/pandas-docs/stable/user_guide/indexing.html#returning-a-view-versus-a-copy\n",
      "  filtered_ds['pred_recharge_mmpa'] = 10**pred_recharge\n"
     ]
    }
   ],
   "source": [
    "# merge with the features dataframe and back transform\n",
    "filtered_ds['pred_recharge_mmpa'] = 10**pred_recharge\n",
    "# fill gaps in the dataframe - revert to 0.5x0.5 grid\n",
    "reindx_ds = filtered_ds.reindex(range(len(raw_ds)), fill_value=-9999)\n",
    "recharge_grid = np.array(reindx_ds['pred_recharge_mmpa']).reshape(out_shape)\n",
    "\n",
    "# attempt to save to a raster\n",
    "# config\n",
    "out_meta = {'driver': 'GTiff', \"dtype\": 'float32', \"height\": recharge_grid.shape[0], \"width\": recharge_grid.shape[1],\n",
    "            \"count\": 1, \"transform\": T0, 'nodata': -9999, 'crs': rasterio.crs.CRS({\"init\": \"epsg:4326\"})}\n",
    "\n",
    "#output = np.concatenate((recharge_grid[np.newaxis, :, :], diff[np.newaxis, :, :]), axis=0)\n",
    "\n",
    "# save\n",
    "with rasterio.open(\"Low_res_data_05/RF_recharge.tif\", \"w\", **out_meta) as dest:\n",
    "    dest.write(recharge_grid[np.newaxis, :, :])"
   ]
  },
  {
   "cell_type": "code",
   "execution_count": 13,
   "id": "72ce669d",
   "metadata": {},
   "outputs": [
    {
     "name": "stdout",
     "output_type": "stream",
     "text": [
      "Variable: LTA_P_mmpa           Importance: 0.24\n",
      "Variable: SM10_m3m3            Importance: 0.23\n",
      "Variable: Aridity              Importance: 0.21\n",
      "Variable: NDVI                 Importance: 0.19\n",
      "Variable: LTA_PET_mm           Importance: 0.12\n"
     ]
    }
   ],
   "source": [
    "# Get numerical feature importances\n",
    "importances = list(final_rf.feature_importances_)\n",
    "# List of tuples with variable and importance\n",
    "feature_importances = [(feature, round(importance, 2)) for feature, importance in zip(feature_list, importances)]\n",
    "# Sort the feature importances by most Aimportant first\n",
    "feature_importances = sorted(feature_importances, key = lambda x: x[1], reverse = True)\n",
    "# Print out the feature and importances \n",
    "[print('Variable: {:20} Importance: {}'.format(*pair)) for pair in feature_importances];"
   ]
  },
  {
   "cell_type": "code",
   "execution_count": 14,
   "id": "074a99e7",
   "metadata": {},
   "outputs": [
    {
     "data": {
      "text/plain": [
       "277.9571519465418"
      ]
     },
     "execution_count": 14,
     "metadata": {},
     "output_type": "execute_result"
    }
   ],
   "source": [
    "10**np.max(pred_recharge)"
   ]
  },
  {
   "cell_type": "code",
   "execution_count": 15,
   "id": "22da7bc2",
   "metadata": {
    "scrolled": true
   },
   "outputs": [
    {
     "name": "stdout",
     "output_type": "stream",
     "text": [
      "              Coords  Observations  RF recharge  BGS recharge\n",
      "0       (4.48, 8.49)         253.0   183.010422    139.130249\n",
      "1    (30.09, -20.27)          22.0    21.970335     25.397594\n",
      "2      (32.96, 0.46)         245.0   152.603012    133.193283\n",
      "3     (39.82, 13.54)         185.0    43.747753     63.007080\n",
      "4         (2.3, 6.5)         120.0   176.307388    125.447845\n",
      "..               ...           ...          ...           ...\n",
      "129    (27.7, -26.0)         100.0    72.549965     39.552135\n",
      "130  (30.55, -17.71)          80.0    84.424156     59.158382\n",
      "131   (-17.0, 14.72)           8.0    19.252087     20.644716\n",
      "132     (38.64, 9.4)         160.0   150.166214    141.219238\n",
      "133   (33.74, -5.96)          41.0    55.480339     42.370590\n",
      "\n",
      "[127 rows x 4 columns]\n"
     ]
    }
   ],
   "source": [
    "# compare BGS linear model and random forest\n",
    "point_coords = [(i,j) for (i,j) in zip(file['Long'], file['Lat'])]\n",
    "obs = file['Recharge_mmpa']\n",
    "rf_rech_src = rasterio.open('Low_res_data_05/RF_recharge.tif')\n",
    "bgs_rech_src = rasterio.open('139265/Africa_Recharge_Map/Africa_recharge.tif')\n",
    "rf_rech_samples = [item for sublist in list(rf_rech_src.sample(point_coords, indexes=1)) for item in sublist]\n",
    "bgs_rech_samples = [item for sublist in list(bgs_rech_src.sample(point_coords)) for item in sublist]\n",
    "\n",
    "summary = pd.DataFrame({'Coords': point_coords, 'Observations': obs, 'RF recharge': rf_rech_samples, \n",
    "              'BGS recharge': bgs_rech_samples})\n",
    "\n",
    "print(summary)\n",
    "summary.to_csv(\"summary_z.csv\")"
   ]
  },
  {
   "cell_type": "code",
   "execution_count": 16,
   "id": "3fbd0658",
   "metadata": {},
   "outputs": [
    {
     "name": "stdout",
     "output_type": "stream",
     "text": [
      "             Coords  Observations  RF recharge  BGS recharge\n",
      "81  (-17.29, 14.77)          22.0    15.220143 -3.402823e+38\n",
      "88   (11.03, 37.04)          12.0 -9999.000000 -3.402823e+38\n",
      "BGS vs obs R^2: 0.8120500991058428\n",
      "RF vs obs R^2: 0.8256176760926065\n",
      "RF vs BGS R^2: 0.9362790108939115\n"
     ]
    }
   ],
   "source": [
    "# problem: some observations are outside of the domain!\n",
    "print(summary[(summary['BGS recharge'] < 0) | (summary['RF recharge'] < 0)])\n",
    "# ignore these point for now\n",
    "summary = summary[(summary['BGS recharge'] >= 0) & (summary['RF recharge'] >= 0)]\n",
    "# R2 applied to log recharge!\n",
    "print('BGS vs obs R^2:', metrics.r2_score(np.log10(summary['Observations'].values), np.log10(summary['BGS recharge'].values)))\n",
    "print('RF vs obs R^2:', metrics.r2_score(np.log10(summary['Observations'].values), np.log10(summary['RF recharge'].values)))\n",
    "print('RF vs BGS R^2:', metrics.r2_score(np.log10(summary['RF recharge'].values), np.log10(summary['BGS recharge'].values)))"
   ]
  },
  {
   "cell_type": "code",
   "execution_count": 17,
   "id": "334e8167",
   "metadata": {},
   "outputs": [
    {
     "data": {
      "text/plain": [
       "(0.0, 1000.0)"
      ]
     },
     "execution_count": 17,
     "metadata": {},
     "output_type": "execute_result"
    },
    {
     "data": {
      "image/png": "[encoded data removed]",
      "text/plain": [
       "<Figure size 1224x360 with 3 Axes>"
      ]
     },
     "metadata": {
      "needs_background": "light"
     },
     "output_type": "display_data"
    }
   ],
   "source": [
    "fig, axs = plt.subplots(1,3,figsize=(17,5))\n",
    "axs = axs.flatten()\n",
    "axs[0].plot(summary['Observations'], summary['BGS recharge'],marker='o',linestyle='')\n",
    "axs[0].plot(range(0,1000), range(0,1000), 'r')\n",
    "axs[0].set_xlabel('Observed recharge (mmpa) ')\n",
    "axs[0].set_ylabel('Predicted recharge (mmpa) ')\n",
    "axs[0].set_xlim([0,1000])\n",
    "axs[0].set_title('Observations vs LMM Model')\n",
    "axs[0].set_ylim([0,1000])\n",
    "\n",
    "axs[1].plot(summary['Observations'], summary['RF recharge'],marker='o',linestyle='')\n",
    "axs[1].plot(range(0,1000), range(0,1000), 'r')\n",
    "axs[1].set_xlabel('Observed recharge (mmpa) ')\n",
    "axs[1].set_ylabel('RF recharge (mmpa) ')\n",
    "axs[1].set_xlim([0,1000])\n",
    "axs[1].set_title('Observations vs RF Model')\n",
    "axs[1].set_ylim([0,1000])\n",
    "\n",
    "axs[2].plot(summary['RF recharge'], summary['BGS recharge'],marker='o',linestyle='')\n",
    "axs[2].plot(range(0,1000), range(0,1000), 'r')\n",
    "axs[2].set_xlabel('RF recharge (mmpa) ')\n",
    "axs[2].set_ylabel('LMM recharge (mmpa) ')\n",
    "axs[2].set_xlim([0,1000])\n",
    "axs[2].set_title('RF Model vs LMM Model')\n",
    "axs[2].set_ylim([0,1000])"
   ]
  },
  {
   "cell_type": "markdown",
   "id": "a4eef422",
   "metadata": {},
   "source": [
    "# Visualise"
   ]
  },
  {
   "cell_type": "code",
   "execution_count": 2,
   "id": "676358db",
   "metadata": {},
   "outputs": [],
   "source": [
    "import geemap\n",
    "import ee\n",
    "ee.Initialize()\n",
    "\n",
    "# center over Africa\n",
    "Map = geemap.Map(center=[0,40], zoom=2)\n",
    "\n",
    "# add BGS recharge to the map\n",
    "bgs_recharge_vis_params = {\n",
    "    'min': 0,'max': 300, \n",
    "    'bands':'bgs_recharge', 'palette': ['red', 'pink', 'yellow', 'lightgreen', 'green', 'lightblue', 'blue']\n",
    "}\n",
    "ee_bgs_recharge = ee.Image('users/pazolka/BGS_Africa_recharge_05').rename('bgs_recharge')\n",
    "Map.addLayer(ee_bgs_recharge, bgs_recharge_vis_params, 'LMM recharge', shown=False)\n",
    "# fix for clean colorbar\n",
    "bgs_recharge_vis_params['bands'] = 'LMM recharge (mmpa)'\n",
    "Map.add_colorbar(bgs_recharge_vis_params)"
   ]
  },
  {
   "cell_type": "code",
   "execution_count": 2,
   "id": "fbd15060",
   "metadata": {},
   "outputs": [],
   "source": [
    "rf_recharge_vis_params = {\n",
    "    'min': 0,'max': 1, \n",
    "    'bands':'rf_recharge', 'palette': ['red', 'pink', 'white', 'lightblue', 'blue']\n",
    "}\n",
    "ee_rf_recharge_z = ee.Image('users/pazolka/Africa_ai').rename('rf_recharge')\n",
    "Map.addLayer(ee_rf_recharge_z, rf_recharge_vis_params, 'AI', shown=False)"
   ]
  },
  {
   "cell_type": "code",
   "execution_count": 18,
   "id": "5acf805c",
   "metadata": {},
   "outputs": [],
   "source": [
    "# add all training sample points to the layer\n",
    "train_points = []\n",
    "\n",
    "for (f,r,p) in zip(features, labels, train_predictions):\n",
    "    entry = file[file['ID'] == f[-1]]\n",
    "    lat = entry['Lat'].item()\n",
    "    lon = entry['Long'].item()\n",
    "    res = 10**p-10**r\n",
    "    train_points.append(ee.Feature(ee.Geometry.Point(lon,lat), \n",
    "                             {'id': entry.ID.item(), \n",
    "                              'residual': res,\n",
    "                              'residual_rel': res/10**r, \n",
    "                              'recharge_mmpa': entry.Recharge_mmpa.item(),\n",
    "                              'model_recharge': 10**p,\n",
    "                              'bgs_pcp_mmpa': entry.LTA_P_mmpa.item(),\n",
    "                              'bgs_ai': entry.Aridity.item(),\n",
    "                              'dem': entry.DEM.item()\n",
    "                             }))\n",
    "train_pc = ee.FeatureCollection(train_points);\n",
    "Map.add_ee_layer(train_pc, {'color': 'lightgreen'}, 'Train sample points', shown=False)"
   ]
  },
  {
   "cell_type": "code",
   "execution_count": 19,
   "id": "9a5c83f2",
   "metadata": {},
   "outputs": [],
   "source": [
    "# add train sample points with high negative residual to the layer\n",
    "train_pc_lres = ee.FeatureCollection(train_pc.filter(ee.Filter.eq('recharge_mmpa', 0.1)))\n",
    "Map.add_ee_layer(train_pc_lres, {'color': '#FF00FF'}, 'Zero-recharge points', shown=False)\n",
    "\n",
    "# # add train sample points with high residual to the layer\n",
    "# train_pc_hres = ee.FeatureCollection(train_pc.filter(ee.Filter.gt('residual', 100)))\n",
    "# Map.add_ee_layer(train_pc_hres, {'color': '#FF0000'}, 'Train sample points: high residual', shown=False)"
   ]
  },
  {
   "cell_type": "code",
   "execution_count": null,
   "id": "5b23c10b",
   "metadata": {},
   "outputs": [],
   "source": [
    "# legend\n",
    "legend_keys = ['Training and testing samples', 'Zero-recharge samples']\n",
    "legend_colors = ['#90ee90', '#FF00FF']\n",
    "\n",
    "Map.add_legend(legend_title=\"Groundwater recharge samples\", legend_keys=legend_keys, legend_colors=legend_colors, position='bottomleft')"
   ]
  },
  {
   "cell_type": "code",
   "execution_count": 29,
   "id": "c6eb5863",
   "metadata": {},
   "outputs": [],
   "source": [
    "# import LTA precipitation raster\n",
    "Map.add_raster('Recharge_files/Africa_bgs_LTA_AnnPrecip.tif', colormap='Spectral', bands=[1], layer_name='BGS Precip')\n",
    "\n",
    "# import PET raster\n",
    "#Map.add_raster('Recharge_files/Africa_bgs_LTA_AnnPET.tif', colormap='RdYlBu', bands=[1], layer_name='BGS PET')\n",
    "\n",
    "# import aridity raster\n",
    "#Map.add_raster('Recharge_files/Africa_bgs_aridity_index.tif', colormap='RdBu', bands=[1], layer_name='BGS Aridity')\n",
    "\n",
    "# import NDVI raster\n",
    "#ap.add_raster('Recharge_files/Africa_NDVI.tif', colormap='RdYlGn', bands=[1], layer_name='BGS NDVI')\n",
    "\n",
    "# import resampled soil moisture (0-10cm) raster\n",
    "#Map.add_raster('Low_res_data_05/LTA_FLDAS_Soil_moisture_Afr_05.tif', colormap='BrBG', bands=[1], layer_name='Soil moisture')\n",
    "\n",
    "# import resampled LC raster\n",
    "#Map.add_raster('Low_res_data_05/landcover_Afr_05.tif', colormap='BrBG', bands=[1], layer_name='Land cover')"
   ]
  },
  {
   "cell_type": "code",
   "execution_count": null,
   "id": "2d1330eb",
   "metadata": {},
   "outputs": [],
   "source": [
    "# # BGS recharge\n",
    "#Map.add_raster('Low_res_data_05/BGS_Africa_recharge_05.tif', colormap='RdYlGn', bands=[1], layer_name='BGS recharge 0.5')"
   ]
  },
  {
   "cell_type": "code",
   "execution_count": 3,
   "id": "469e79e4",
   "metadata": {},
   "outputs": [],
   "source": [
    "# visualise RF results\n",
    "#Map.add_raster('RF_recharge.tif', colormap='RdYlGn', bands=[1], layer_name='RF recharge')\n",
    "# add GEE for seamless inspection\n",
    "rf_recharge_vis_params = {\n",
    "    'min': 0,'max': 300, \n",
    "    'bands':'rf_recharge', 'palette': ['red', 'pink', 'yellow', 'lightgreen', 'green', 'lightblue', 'blue']\n",
    "}\n",
    "ee_rf_recharge = ee.Image('users/pazolka/RF_recharge').rename('rf_recharge')\n",
    "Map.addLayer(ee_rf_recharge, rf_recharge_vis_params, 'RF recharge', shown=False)\n",
    "# fix for clean colorbar\n",
    "rf_recharge_vis_params['bands'] = 'RF recharge (mmpa)'\n",
    "Map.add_colorbar(rf_recharge_vis_params)"
   ]
  },
  {
   "cell_type": "code",
   "execution_count": 24,
   "id": "a1b30659",
   "metadata": {},
   "outputs": [],
   "source": [
    "rf_recharge_vis_params = {\n",
    "    'min': 0.15,'max': 0.5, \n",
    "    'bands':'rf_recharge', 'palette': ['red', 'pink', 'yellow', 'lightgreen', 'green', 'lightblue', 'blue']\n",
    "}\n",
    "\n",
    "ee_rf_recharge = ee.Image('users/pazolka/Soil_moisture_Afr_01').rename('rf_recharge')\n",
    "Map.addLayer(ee_rf_recharge, rf_recharge_vis_params, 'SM', shown=True)"
   ]
  },
  {
   "cell_type": "code",
   "execution_count": null,
   "id": "aaf41da1",
   "metadata": {},
   "outputs": [],
   "source": [
    "# visualise RF results\n",
    "#Map.add_raster('RF_recharge.tif', colormap='RdYlGn', bands=[1], layer_name='RF recharge')\n",
    "# add GEE for seamless inspection\n",
    "rf_recharge_vis_params = {\n",
    "    'min': 0,'max': 300, \n",
    "    'bands':'rf_recharge', 'palette': ['red', 'pink', 'yellow', 'lightgreen', 'green', 'lightblue', 'blue']\n",
    "}\n",
    "ee_rf_recharge_z = ee.Image('users/pazolka/RF_recharge_zero').rename('rf_recharge')\n",
    "Map.addLayer(ee_rf_recharge_z, rf_recharge_vis_params, 'RF recharge zeros', shown=False)\n",
    "\n",
    "rf_recharge_z_vis_params = {\n",
    "    'min': -100,'max': 100, \n",
    "    'bands':'rf_recharge', 'palette': ['red', 'pink', 'yellow', 'lightgreen', 'green', 'lightblue', 'blue']\n",
    "}\n",
    "Map.addLayer(ee_rf_recharge_z.subtract(ee_rf_recharge).divide(ee_rf_recharge).multiply(100), rf_recharge_z_vis_params, 'Difference RF_zeros - RF/RF', shown=False)"
   ]
  },
  {
   "cell_type": "code",
   "execution_count": null,
   "id": "f984e520",
   "metadata": {},
   "outputs": [],
   "source": [
    "#Map.add_raster('RF_BGS_diff_recharge.tif', colormap='RdYlGn', bands=[1], layer_name='Recharge diff')\n",
    "# create clean spatial difference with GEE\n",
    "diff_recharge_vis_params = {\n",
    "    'min': -100,'max': 100, \n",
    "    'bands':'diff_recharge', 'palette': ['red', 'yellow', 'blue']\n",
    "}\n",
    "ee_diff_recharge = ee_rf_recharge.subtract(ee_bgs_recharge).rename('diff_recharge')\n",
    "Map.addLayer(ee_diff_recharge, diff_recharge_vis_params, 'diff recharge', shown=False)\n",
    "# fix for clean colorbar\n",
    "diff_recharge_vis_params['bands'] = 'RF - LMM recharge (mmpa)'\n",
    "Map.add_colorbar(diff_recharge_vis_params, label=\"RF - LMM\")\n",
    "\n",
    "diff_recharge_rel_vis_params = {\n",
    "    'min': -100,'max': 100, \n",
    "    'bands':'diff_recharge_rel', 'palette': ['red', 'pink', 'yellow', 'lightgreen', 'green', 'lightblue', 'blue']\n",
    "}\n",
    "ee_diff_recharge_rel = ee_diff_recharge.divide(ee_bgs_recharge).multiply(100).rename('diff_recharge_rel')\n",
    "Map.addLayer(ee_diff_recharge_rel, diff_recharge_rel_vis_params, 'diff recharge (rel %)', shown=False)\n",
    "# fix for clean colorbar\n",
    "diff_recharge_rel_vis_params['bands'] = '(RF-LMM)/LMM (%)'\n",
    "Map.add_colorbar(diff_recharge_rel_vis_params, label=\"(RF-LMM)/LMM * 100%\")"
   ]
  },
  {
   "cell_type": "code",
   "execution_count": null,
   "id": "1cd15e27",
   "metadata": {},
   "outputs": [],
   "source": [
    "#Map.add_raster('RF_BGS_diff_recharge.tif', colormap='RdYlGn', bands=[1], layer_name='Recharge diff')\n",
    "# create clean spatial difference with GEE\n",
    "diff_recharge_vis_params = {\n",
    "    'min': -100,'max': 100, \n",
    "    'bands':'diff_recharge', 'palette': ['red', 'yellow', 'blue']\n",
    "}\n",
    "ee_diff_recharge_z = ee_rf_recharge_z.subtract(ee_bgs_recharge).rename('diff_recharge')\n",
    "Map.addLayer(ee_diff_recharge_z, diff_recharge_vis_params, 'diff recharge zero', shown=False)\n",
    "\n",
    "diff_recharge_rel_vis_params = {\n",
    "    'min': -100,'max': 100, \n",
    "    'bands':'diff_recharge_rel', 'palette': ['red', 'pink', 'yellow', 'lightgreen', 'green', 'lightblue', 'blue']\n",
    "}\n",
    "ee_diff_recharge_rel_z = ee_diff_recharge_z.divide(ee_bgs_recharge).multiply(100).rename('diff_recharge_rel')\n",
    "Map.addLayer(ee_diff_recharge_rel_z, diff_recharge_rel_vis_params, 'diff recharge (rel %) zero', shown=False)"
   ]
  },
  {
   "cell_type": "code",
   "execution_count": 25,
   "id": "732693fa",
   "metadata": {},
   "outputs": [],
   "source": [
    "ee_rf_recharge_01 = ee.Image('users/pazolka/RF_recharge_01').rename('rf_recharge')\n",
    "rf_recharge_vis_params = {\n",
    "    'min': 0,'max': 300, \n",
    "    'bands':'rf_recharge', 'palette': ['red', 'pink', 'yellow', 'lightgreen', 'green', 'lightblue', 'blue']\n",
    "}\n",
    "Map.addLayer(ee_rf_recharge_01, rf_recharge_vis_params, 'RF recharge 01', shown=False)"
   ]
  },
  {
   "cell_type": "code",
   "execution_count": 3,
   "id": "7e1083e8",
   "metadata": {},
   "outputs": [],
   "source": [
    "# replicate BGS study\n",
    "bgs_recharge_vis_params['bands'] = 'bgs_recharge'\n",
    "ee_bgs_recharge_replica = ee.Image('users/pazolka/BGS_repl').rename('bgs_recharge')\n",
    "Map.addLayer(ee_bgs_recharge_replica, bgs_recharge_vis_params, 'BGS replica', shown=False)"
   ]
  },
  {
   "cell_type": "code",
   "execution_count": 4,
   "id": "ef7fb57e",
   "metadata": {
    "scrolled": false
   },
   "outputs": [
    {
     "data": {
      "application/vnd.jupyter.widget-view+json": {
       "model_id": "42df082fe83a486c84e0155df13da0ef",
       "version_major": 2,
       "version_minor": 0
      },
      "text/plain": [
       "Map(center=[0, 40], controls=(WidgetControl(options=['position', 'transparent_bg'], widget=HBox(children=(Togg…"
      ]
     },
     "metadata": {},
     "output_type": "display_data"
    }
   ],
   "source": [
    "Map"
   ]
  },
  {
   "cell_type": "code",
   "execution_count": null,
   "id": "7be7b747",
   "metadata": {},
   "outputs": [],
   "source": [
    "Map.add_shapefile(\"CRU_precip_CGIAR_AI_data/Africa_continent_shape.shp\", style={\"weight\": 2, 'fill':False}, fill_colors=['white'], info_mode='on_hover')"
   ]
  },
  {
   "cell_type": "code",
   "execution_count": null,
   "id": "85dd048c",
   "metadata": {},
   "outputs": [],
   "source": [
    "# with rasterio.open('Recharge_files/Africa_bgs_aridity_index.tif') as src:\n",
    "#     print(np.unique(src.read()))\n",
    "# pcp_vis = {'min': 0,'max': 2.7715831e+00}\n",
    "# pcp_vis['bands'] = 'Aridity index'\n",
    "# Map.add_colorbar(pcp_vis, cmap='terrain_r')"
   ]
  },
  {
   "cell_type": "code",
   "execution_count": null,
   "id": "1d0dea32",
   "metadata": {},
   "outputs": [],
   "source": []
  }
 ],
 "metadata": {
  "kernelspec": {
   "display_name": "Python 3",
   "language": "python",
   "name": "python3"
  },
  "language_info": {
   "codemirror_mode": {
    "name": "ipython",
    "version": 3
   },
   "file_extension": ".py",
   "mimetype": "text/x-python",
   "name": "python",
   "nbconvert_exporter": "python",
   "pygments_lexer": "ipython3",
   "version": "3.9.4"
  }
 },
 "nbformat": 4,
 "nbformat_minor": 5
}
