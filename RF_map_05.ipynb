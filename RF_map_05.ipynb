{
 "cells": [
  {
   "cell_type": "markdown",
   "id": "16918e1d",
   "metadata": {},
   "source": [
    "# Random Forest\n",
    "Total dataset size: 134 samples <br>\n",
    "Training set: 134 samples\n",
    "\n",
    "Features used (after importance analysis):\n",
    "- LTA precipitation (mmpa)\n",
    "- LTA wet days\n",
    "- LTA_PET_mm\n",
    "- Aridity idx\n",
    "- NDVI\n",
    "- DEM\n",
    "- LTA soil moisture - 10 cm (m3 m-3) "
   ]
  },
  {
   "cell_type": "code",
   "execution_count": 20,
   "id": "fef0dfd0",
   "metadata": {
    "scrolled": true
   },
   "outputs": [
    {
     "data": {
      "text/html": [
       "<div>\n",
       "<style scoped>\n",
       "    .dataframe tbody tr th:only-of-type {\n",
       "        vertical-align: middle;\n",
       "    }\n",
       "\n",
       "    .dataframe tbody tr th {\n",
       "        vertical-align: top;\n",
       "    }\n",
       "\n",
       "    .dataframe thead th {\n",
       "        text-align: right;\n",
       "    }\n",
       "</style>\n",
       "<table border=\"1\" class=\"dataframe\">\n",
       "  <thead>\n",
       "    <tr style=\"text-align: right;\">\n",
       "      <th></th>\n",
       "      <th>LTA_P_mmpa</th>\n",
       "      <th>LTA_PET_mm</th>\n",
       "      <th>Aridity</th>\n",
       "      <th>NDVI</th>\n",
       "      <th>SM10_m3m3</th>\n",
       "      <th>ID</th>\n",
       "    </tr>\n",
       "  </thead>\n",
       "  <tbody>\n",
       "    <tr>\n",
       "      <th>0</th>\n",
       "      <td>1234.743356</td>\n",
       "      <td>1265.000000</td>\n",
       "      <td>0.977426</td>\n",
       "      <td>0.548899</td>\n",
       "      <td>0.317942</td>\n",
       "      <td>1</td>\n",
       "    </tr>\n",
       "    <tr>\n",
       "      <th>1</th>\n",
       "      <td>555.876675</td>\n",
       "      <td>1386.030028</td>\n",
       "      <td>0.403442</td>\n",
       "      <td>0.417538</td>\n",
       "      <td>0.210401</td>\n",
       "      <td>2</td>\n",
       "    </tr>\n",
       "    <tr>\n",
       "      <th>2</th>\n",
       "      <td>1376.716688</td>\n",
       "      <td>1337.440024</td>\n",
       "      <td>1.029575</td>\n",
       "      <td>0.687945</td>\n",
       "      <td>0.312940</td>\n",
       "      <td>3</td>\n",
       "    </tr>\n",
       "    <tr>\n",
       "      <th>3</th>\n",
       "      <td>518.196676</td>\n",
       "      <td>1590.610029</td>\n",
       "      <td>0.326188</td>\n",
       "      <td>0.268559</td>\n",
       "      <td>0.229384</td>\n",
       "      <td>4</td>\n",
       "    </tr>\n",
       "    <tr>\n",
       "      <th>4</th>\n",
       "      <td>1344.580024</td>\n",
       "      <td>1298.693353</td>\n",
       "      <td>1.038857</td>\n",
       "      <td>0.593882</td>\n",
       "      <td>0.330358</td>\n",
       "      <td>5</td>\n",
       "    </tr>\n",
       "    <tr>\n",
       "      <th>...</th>\n",
       "      <td>...</td>\n",
       "      <td>...</td>\n",
       "      <td>...</td>\n",
       "      <td>...</td>\n",
       "      <td>...</td>\n",
       "      <td>...</td>\n",
       "    </tr>\n",
       "    <tr>\n",
       "      <th>129</th>\n",
       "      <td>655.280013</td>\n",
       "      <td>1356.070025</td>\n",
       "      <td>0.486649</td>\n",
       "      <td>0.403724</td>\n",
       "      <td>0.323871</td>\n",
       "      <td>130</td>\n",
       "    </tr>\n",
       "    <tr>\n",
       "      <th>130</th>\n",
       "      <td>816.720013</td>\n",
       "      <td>1266.233355</td>\n",
       "      <td>0.648767</td>\n",
       "      <td>0.479056</td>\n",
       "      <td>0.227937</td>\n",
       "      <td>131</td>\n",
       "    </tr>\n",
       "    <tr>\n",
       "      <th>131</th>\n",
       "      <td>510.140009</td>\n",
       "      <td>1922.536704</td>\n",
       "      <td>0.265403</td>\n",
       "      <td>0.327490</td>\n",
       "      <td>0.194245</td>\n",
       "      <td>132</td>\n",
       "    </tr>\n",
       "    <tr>\n",
       "      <th>132</th>\n",
       "      <td>1215.073356</td>\n",
       "      <td>1149.026683</td>\n",
       "      <td>1.058098</td>\n",
       "      <td>0.447078</td>\n",
       "      <td>0.279276</td>\n",
       "      <td>133</td>\n",
       "    </tr>\n",
       "    <tr>\n",
       "      <th>133</th>\n",
       "      <td>555.313341</td>\n",
       "      <td>1395.100021</td>\n",
       "      <td>0.398908</td>\n",
       "      <td>0.561435</td>\n",
       "      <td>0.231864</td>\n",
       "      <td>316</td>\n",
       "    </tr>\n",
       "  </tbody>\n",
       "</table>\n",
       "<p>127 rows × 6 columns</p>\n",
       "</div>"
      ],
      "text/plain": [
       "      LTA_P_mmpa   LTA_PET_mm   Aridity      NDVI  SM10_m3m3   ID\n",
       "0    1234.743356  1265.000000  0.977426  0.548899   0.317942    1\n",
       "1     555.876675  1386.030028  0.403442  0.417538   0.210401    2\n",
       "2    1376.716688  1337.440024  1.029575  0.687945   0.312940    3\n",
       "3     518.196676  1590.610029  0.326188  0.268559   0.229384    4\n",
       "4    1344.580024  1298.693353  1.038857  0.593882   0.330358    5\n",
       "..           ...          ...       ...       ...        ...  ...\n",
       "129   655.280013  1356.070025  0.486649  0.403724   0.323871  130\n",
       "130   816.720013  1266.233355  0.648767  0.479056   0.227937  131\n",
       "131   510.140009  1922.536704  0.265403  0.327490   0.194245  132\n",
       "132  1215.073356  1149.026683  1.058098  0.447078   0.279276  133\n",
       "133   555.313341  1395.100021  0.398908  0.561435   0.231864  316\n",
       "\n",
       "[127 rows x 6 columns]"
      ]
     },
     "execution_count": 20,
     "metadata": {},
     "output_type": "execute_result"
    }
   ],
   "source": [
    "import pandas as pd\n",
    "import numpy as np\n",
    "from matplotlib import cm\n",
    "import matplotlib.pyplot as plt\n",
    "from sklearn.preprocessing import LabelEncoder\n",
    "from sklearn.model_selection import train_test_split\n",
    "from sklearn.ensemble import RandomForestRegressor\n",
    "from sklearn import metrics\n",
    "%matplotlib inline\n",
    "from matplotlib import colors\n",
    "from matplotlib.ticker import PercentFormatter\n",
    "import rasterio\n",
    "from utils import getAllCoordinates\n",
    "import json\n",
    "from sklearn.model_selection import cross_val_score\n",
    "from sklearn.metrics.pairwise import haversine_distances\n",
    "from math import radians\n",
    "\n",
    "# Prepare all BGS points as training points\n",
    "\n",
    "# read file (data + coordinates)\n",
    "file = pd.read_csv('poc_ext.csv')\n",
    "# OMIT ZERO RECHARGE SAMPLES - comment if zero-recharge sites should be included\n",
    "file = file[file['Recharge_mmpa']!= 0.1]\n",
    "#file = file[file['Recharge_mmpa']< 800]\n",
    "# drop unimportant columns\n",
    "data = file.drop(columns=['ID', 'Lat', 'Long', 'Aquifer_group', 'Soil_group', 'Landcover', 'Landcover_ext','LTA_GPCC_mmpa', 'LTA_CHIRPS_mmpa', 'SM10_kgm2', 'LTA_WD_days', 'DEM'])\n",
    "# Labels are the values we want to predict\n",
    "labels = np.log10(data['Recharge_mmpa'])\n",
    "#labels = data['Recharge_mmpa']\n",
    "data = data.drop('Recharge_mmpa', axis = 1)\n",
    "# Add for reference\n",
    "data['ID'] = file['ID']\n",
    "# Convert to numpy array\n",
    "\n",
    "# ======== for RFsp ============\n",
    "# sample_coords_rad = [list(c) for c in zip(file['Lat'].apply(radians), file['Long'].apply(radians))]\n",
    "# result = haversine_distances(sample_coords_rad)\n",
    "# result_km = result * 6371000/1000\n",
    "# features_n_distances = pd.concat([pd.DataFrame(np.transpose(result_km), columns=list(range(1,128)), index=data.index), data], axis=1)\n",
    "# feature_list = list(features_n_distances.columns)\n",
    "# features = np.array(features_n_distances)\n",
    "\n",
    "# Saving feature names for later use\n",
    "feature_list = list(data.columns)\n",
    "features = np.array(data)\n",
    "\n",
    "data"
   ]
  },
  {
   "cell_type": "code",
   "execution_count": 2,
   "id": "81290320",
   "metadata": {},
   "outputs": [
    {
     "data": {
      "text/html": [
       "<div>\n",
       "<style scoped>\n",
       "    .dataframe tbody tr th:only-of-type {\n",
       "        vertical-align: middle;\n",
       "    }\n",
       "\n",
       "    .dataframe tbody tr th {\n",
       "        vertical-align: top;\n",
       "    }\n",
       "\n",
       "    .dataframe thead th {\n",
       "        text-align: right;\n",
       "    }\n",
       "</style>\n",
       "<table border=\"1\" class=\"dataframe\">\n",
       "  <thead>\n",
       "    <tr style=\"text-align: right;\">\n",
       "      <th></th>\n",
       "      <th>LTA_P_mmpa</th>\n",
       "      <th>LTA_PET_mm</th>\n",
       "      <th>Aridity</th>\n",
       "      <th>NDVI</th>\n",
       "      <th>SM10_m3m3</th>\n",
       "      <th>ID</th>\n",
       "    </tr>\n",
       "  </thead>\n",
       "  <tbody>\n",
       "    <tr>\n",
       "      <th>LTA_P_mmpa</th>\n",
       "      <td>1.000000</td>\n",
       "      <td>-0.534214</td>\n",
       "      <td>0.973336</td>\n",
       "      <td>0.843510</td>\n",
       "      <td>0.932252</td>\n",
       "      <td>-0.050985</td>\n",
       "    </tr>\n",
       "    <tr>\n",
       "      <th>LTA_PET_mm</th>\n",
       "      <td>-0.534214</td>\n",
       "      <td>1.000000</td>\n",
       "      <td>-0.625877</td>\n",
       "      <td>-0.696296</td>\n",
       "      <td>-0.580156</td>\n",
       "      <td>0.009623</td>\n",
       "    </tr>\n",
       "    <tr>\n",
       "      <th>Aridity</th>\n",
       "      <td>0.973336</td>\n",
       "      <td>-0.625877</td>\n",
       "      <td>1.000000</td>\n",
       "      <td>0.840664</td>\n",
       "      <td>0.926042</td>\n",
       "      <td>-0.045108</td>\n",
       "    </tr>\n",
       "    <tr>\n",
       "      <th>NDVI</th>\n",
       "      <td>0.843510</td>\n",
       "      <td>-0.696296</td>\n",
       "      <td>0.840664</td>\n",
       "      <td>1.000000</td>\n",
       "      <td>0.812939</td>\n",
       "      <td>0.016159</td>\n",
       "    </tr>\n",
       "    <tr>\n",
       "      <th>SM10_m3m3</th>\n",
       "      <td>0.932252</td>\n",
       "      <td>-0.580156</td>\n",
       "      <td>0.926042</td>\n",
       "      <td>0.812939</td>\n",
       "      <td>1.000000</td>\n",
       "      <td>-0.020052</td>\n",
       "    </tr>\n",
       "    <tr>\n",
       "      <th>ID</th>\n",
       "      <td>-0.050985</td>\n",
       "      <td>0.009623</td>\n",
       "      <td>-0.045108</td>\n",
       "      <td>0.016159</td>\n",
       "      <td>-0.020052</td>\n",
       "      <td>1.000000</td>\n",
       "    </tr>\n",
       "  </tbody>\n",
       "</table>\n",
       "</div>"
      ],
      "text/plain": [
       "            LTA_P_mmpa  LTA_PET_mm   Aridity      NDVI  SM10_m3m3        ID\n",
       "LTA_P_mmpa    1.000000   -0.534214  0.973336  0.843510   0.932252 -0.050985\n",
       "LTA_PET_mm   -0.534214    1.000000 -0.625877 -0.696296  -0.580156  0.009623\n",
       "Aridity       0.973336   -0.625877  1.000000  0.840664   0.926042 -0.045108\n",
       "NDVI          0.843510   -0.696296  0.840664  1.000000   0.812939  0.016159\n",
       "SM10_m3m3     0.932252   -0.580156  0.926042  0.812939   1.000000 -0.020052\n",
       "ID           -0.050985    0.009623 -0.045108  0.016159  -0.020052  1.000000"
      ]
     },
     "execution_count": 2,
     "metadata": {},
     "output_type": "execute_result"
    }
   ],
   "source": [
    "correlation_matrix = data.corr()\n",
    "correlation_matrix"
   ]
  },
  {
   "cell_type": "markdown",
   "id": "0cce87bd",
   "metadata": {},
   "source": [
    "# Run RF for the whole domain"
   ]
  },
  {
   "cell_type": "code",
   "execution_count": 3,
   "id": "6d7c1470",
   "metadata": {},
   "outputs": [],
   "source": [
    "# get all coordinates of the smallest raster - workaround as rasters have slightly different shapes\n",
    "coords, T0, out_shape = getAllCoordinates('Recharge_files/Africa_bgs_LTA_AnnPrecip.tif')\n",
    "coords_np = np.array([*coords])"
   ]
  },
  {
   "cell_type": "code",
   "execution_count": 4,
   "id": "8214217f",
   "metadata": {
    "scrolled": true
   },
   "outputs": [],
   "source": [
    "# read rasters\n",
    "pet_src = rasterio.open('Recharge_files/Africa_bgs_LTA_AnnPET.tif')\n",
    "p_src = rasterio.open('Recharge_files/Africa_bgs_LTA_AnnPrecip.tif')\n",
    "ndvi_src = rasterio.open('Recharge_files/Africa_NDVI.tif')\n",
    "ai_src = rasterio.open('Recharge_files/Africa_bgs_aridity_index.tif')\n",
    "sm_src = rasterio.open('Low_res_data_05/LTA_FLDAS_Soil_moisture_Afr_05.tif')\n",
    "\n",
    "# get raster values at 0.5x0.5 grid + flatten\n",
    "pet_samples = [item for sublist in list(pet_src.sample(coords)) for item in sublist]\n",
    "p_samples = [item for sublist in list(p_src.sample(coords)) for item in sublist]\n",
    "ndvi_samples = [item for sublist in list(ndvi_src.sample(coords)) for item in sublist]\n",
    "ai_samples = [item for sublist in list(ai_src.sample(coords)) for item in sublist]\n",
    "sm_samples = [item for sublist in list(sm_src.sample(coords)) for item in sublist]"
   ]
  },
  {
   "cell_type": "code",
   "execution_count": 5,
   "id": "59095877",
   "metadata": {},
   "outputs": [],
   "source": [
    "# combine predictors in a dataframe\n",
    "raw_ds = pd.DataFrame({'LTA_P_mmpa': p_samples, 'LTA_PET_mm': pet_samples,\n",
    "                       'Aridity': ai_samples, 'NDVI': ndvi_samples,\n",
    "                       #'Landcover': lc_samples,\n",
    "                       #'DEM': dem_samples,\n",
    "                       'SM10_m3m3': sm_samples, 'Lat': coords_np[:,0], 'Lon': coords_np[:,1]})\n",
    "\n",
    "# take rows with valid predictor data (land only)\n",
    "filtered_ds = raw_ds[(raw_ds['LTA_P_mmpa'] >= -1000)\n",
    "                     & (raw_ds['LTA_PET_mm'] >= -1000) & (raw_ds['Aridity'] >= -1000) & (raw_ds['SM10_m3m3'] > 0)\n",
    "                     # & (raw_ds['Landcover'] > 0)\n",
    "                     # & (raw_ds['DEM'] >= -1000)\n",
    "                     & (raw_ds['NDVI'] >= -1000)]\n",
    "\n",
    "params = {'n_estimators': 2000,\n",
    " 'min_samples_split': 10,\n",
    " 'min_samples_leaf': 1,\n",
    " 'max_features': 0.33,\n",
    " 'max_depth': 80,\n",
    " 'bootstrap': True}\n",
    "\n",
    "# optimised hyperparameters for RF with zero-recharge points\n",
    "# params = {'n_estimators': 2000,\n",
    "#  'min_samples_split': 2,\n",
    "#  'min_samples_leaf': 2,\n",
    "#  'max_features': 0.33,\n",
    "#  'max_depth': 10,\n",
    "#  'bootstrap': True}"
   ]
  },
  {
   "cell_type": "code",
   "execution_count": 6,
   "id": "f6e50a7b",
   "metadata": {},
   "outputs": [],
   "source": [
    "# ============ for RFsp ==================\n",
    "# sample_coords_rad = [list(c) for c in zip(file['Lat'].apply(radians), file['Long'].apply(radians))]\n",
    "# domain_coords_rad = [list(c) for c in zip(filtered_ds['Lat'].apply(radians), filtered_ds['Lon'].apply(radians))]\n",
    "# result = haversine_distances(sample_coords_rad, domain_coords_rad)\n",
    "# result_km = result * 6371000/1000\n",
    "# predictors_n_distances = pd.concat([pd.DataFrame(np.transpose(result_km), columns=list(range(1,128)), index=filtered_ds.index), filtered_ds], axis=1)\n",
    "# predictors_n_distances"
   ]
  },
  {
   "cell_type": "code",
   "execution_count": 7,
   "id": "113f1835",
   "metadata": {},
   "outputs": [
    {
     "data": {
      "text/plain": [
       "array([[6.16320007e+02, 1.17996338e+03, 5.23716927e-01, 6.67900383e-01,\n",
       "        2.83147454e-01],\n",
       "       [6.02160034e+02, 1.23114001e+03, 4.90119904e-01, 5.97497880e-01,\n",
       "        2.52911627e-01],\n",
       "       [6.64390015e+02, 1.26000330e+03, 5.28561354e-01, 5.29737592e-01,\n",
       "        2.65965372e-01],\n",
       "       ...,\n",
       "       [6.44410034e+02, 1.11967004e+03, 5.78621864e-01, 5.45690835e-01,\n",
       "        2.35114634e-01],\n",
       "       [4.63203339e+02, 1.08768665e+03, 4.28617209e-01, 5.10673344e-01,\n",
       "        2.36798123e-01],\n",
       "       [4.92330017e+02, 1.14116333e+03, 4.34005886e-01, 4.67423260e-01,\n",
       "        2.23894745e-01]])"
      ]
     },
     "execution_count": 7,
     "metadata": {},
     "output_type": "execute_result"
    }
   ],
   "source": [
    "# convert dataframe to numpy array\n",
    "# ============ for RFsp ===================\n",
    "#domain_features = np.array(predictors_n_distances)[:,:-2]\n",
    "domain_features = np.array(filtered_ds)[:,:-2]\n",
    "domain_features"
   ]
  },
  {
   "cell_type": "markdown",
   "id": "c203dbea",
   "metadata": {},
   "source": [
    "## Run random forest regression only"
   ]
  },
  {
   "cell_type": "code",
   "execution_count": 8,
   "id": "c7e91c3f",
   "metadata": {},
   "outputs": [],
   "source": [
    "# instantiate random forest model\n",
    "final_rf = RandomForestRegressor(**params, oob_score=True)\n",
    "# train the model on entire BGS dataset\n",
    "final_rf.fit(features[:,:-1], labels)\n",
    "# use the forest's predict method on the whole domain\n",
    "pred_recharge = final_rf.predict(domain_features)\n",
    "# apply to training set again\n",
    "train_predictions = final_rf.predict(features[:,:-1])"
   ]
  },
  {
   "cell_type": "code",
   "execution_count": 9,
   "id": "0b4095ca",
   "metadata": {},
   "outputs": [
    {
     "name": "stdout",
     "output_type": "stream",
     "text": [
      "OOB score 0.6793785907410294\n"
     ]
    }
   ],
   "source": [
    "print(f'OOB score {final_rf.oob_score_}')"
   ]
  },
  {
   "cell_type": "code",
   "execution_count": 10,
   "id": "c669c2d2",
   "metadata": {},
   "outputs": [
    {
     "name": "stderr",
     "output_type": "stream",
     "text": [
      "<ipython-input-10-71768f2be9c6>:2: SettingWithCopyWarning: \n",
      "A value is trying to be set on a copy of a slice from a DataFrame.\n",
      "Try using .loc[row_indexer,col_indexer] = value instead\n",
      "\n",
      "See the caveats in the documentation: https://pandas.pydata.org/pandas-docs/stable/user_guide/indexing.html#returning-a-view-versus-a-copy\n",
      "  filtered_ds['pred_recharge_mmpa'] = 10**pred_recharge\n"
     ]
    }
   ],
   "source": [
    "# merge with the features dataframe and back transform\n",
    "filtered_ds['pred_recharge_mmpa'] = 10**pred_recharge\n",
    "# fill gaps in the dataframe - revert to 0.5x0.5 grid\n",
    "reindx_ds = filtered_ds.reindex(range(len(raw_ds)), fill_value=-9999)\n",
    "recharge_grid = np.array(reindx_ds['pred_recharge_mmpa']).reshape(out_shape)\n",
    "\n",
    "# attempt to save to a raster\n",
    "# config\n",
    "out_meta = {'driver': 'GTiff', \"dtype\": 'float32', \"height\": recharge_grid.shape[0], \"width\": recharge_grid.shape[1],\n",
    "            \"count\": 1, \"transform\": T0, 'nodata': -9999, 'crs': rasterio.crs.CRS({\"init\": \"epsg:4326\"})}\n",
    "\n",
    "#output = np.concatenate((recharge_grid[np.newaxis, :, :], diff[np.newaxis, :, :]), axis=0)\n",
    "\n",
    "# save\n",
    "with rasterio.open(\"Low_res_data_05/RF_recharge.tif\", \"w\", **out_meta) as dest:\n",
    "#with rasterio.open(\"Low_res_data_05/RF_recharge_zero.tif\", \"w\", **out_meta) as dest:\n",
    "    dest.write(recharge_grid[np.newaxis, :, :])"
   ]
  },
  {
   "cell_type": "code",
   "execution_count": 11,
   "id": "72ce669d",
   "metadata": {},
   "outputs": [
    {
     "name": "stdout",
     "output_type": "stream",
     "text": [
      "Variable: Aridity              Importance: 0.24\n",
      "Variable: LTA_P_mmpa           Importance: 0.23\n",
      "Variable: SM10_m3m3            Importance: 0.22\n",
      "Variable: NDVI                 Importance: 0.19\n",
      "Variable: LTA_PET_mm           Importance: 0.12\n"
     ]
    }
   ],
   "source": [
    "# Get numerical feature importances\n",
    "#importances = list(final_rf.feature_importances_)\n",
    "importances = list(final_rf.feature_importances_)\n",
    "# List of tuples with variable and importance\n",
    "feature_importances = [(feature, round(importance, 2)) for feature, importance in zip(feature_list, importances)]\n",
    "# Sort the feature importances by most Aimportant first\n",
    "feature_importances = sorted(feature_importances, key = lambda x: x[1], reverse = True)\n",
    "# Print out the feature and importances \n",
    "[print('Variable: {:20} Importance: {}'.format(*pair)) for pair in feature_importances];"
   ]
  },
  {
   "cell_type": "code",
   "execution_count": 12,
   "id": "074a99e7",
   "metadata": {},
   "outputs": [
    {
     "name": "stdout",
     "output_type": "stream",
     "text": [
      "Max predicted recharge: 280.703419696725\n"
     ]
    }
   ],
   "source": [
    "print(f'Max predicted recharge: {10**np.max(pred_recharge)}')"
   ]
  },
  {
   "cell_type": "code",
   "execution_count": 13,
   "id": "8f4e6f33",
   "metadata": {},
   "outputs": [
    {
     "name": "stdout",
     "output_type": "stream",
     "text": [
      "R-squared based on fivefold cross-validation: 0.6727732347272812\n"
     ]
    }
   ],
   "source": [
    "# report R-squared based on fivefold cross validation\n",
    "print(f'R-squared based on fivefold cross-validation: {np.mean(cross_val_score(final_rf, features[:,:-1], labels, cv=5))}')"
   ]
  },
  {
   "cell_type": "markdown",
   "id": "f7e138d1",
   "metadata": {},
   "source": [
    "## Regression Kriging (skgstat)"
   ]
  },
  {
   "cell_type": "code",
   "execution_count": 14,
   "id": "dd42ad7a",
   "metadata": {},
   "outputs": [
    {
     "name": "stderr",
     "output_type": "stream",
     "text": [
      "/home/anna/anaconda3/envs/gee/lib/python3.9/site-packages/skgstat/plotting/variogram_plot.py:123: UserWarning: Matplotlib is currently using module://matplotlib_inline.backend_inline, which is a non-GUI backend, so cannot show the figure.\n",
      "  fig.show()\n",
      "<ipython-input-14-7757f8e494e6>:35: SettingWithCopyWarning: \n",
      "A value is trying to be set on a copy of a slice from a DataFrame.\n",
      "Try using .loc[row_indexer,col_indexer] = value instead\n",
      "\n",
      "See the caveats in the documentation: https://pandas.pydata.org/pandas-docs/stable/user_guide/indexing.html#returning-a-view-versus-a-copy\n",
      "  filtered_ds['pred_recharge_mmpa'] = 10**final_rech\n"
     ]
    },
    {
     "data": {
      "image/png": "[encoded data removed]",
      "text/plain": [
       "<Figure size 576x360 with 2 Axes>"
      ]
     },
     "metadata": {
      "needs_background": "light"
     },
     "output_type": "display_data"
    }
   ],
   "source": [
    "import skgstat as skg\n",
    "import gstools as gs\n",
    "\n",
    "# coords of sample sites\n",
    "p = file.iloc[:, [-2,-3]].to_numpy()\n",
    "\n",
    "# instantiate random forest model\n",
    "final_rf = RandomForestRegressor(**params, oob_score=True)\n",
    "# train the model on entire BGS dataset\n",
    "final_rf.fit(features[:,:-1], labels)\n",
    "# use the forest's predict method on the whole domain\n",
    "pred_recharge = final_rf.predict(domain_features)\n",
    "# apply to training set again\n",
    "train_predictions = final_rf.predict(features[:,:-1])\n",
    "\n",
    "# calculate residuals\n",
    "residuals = train_predictions-labels\n",
    "# create variogram\n",
    "vg = skg.Variogram(p, residuals, maxlag=0.8, use_nugget=True)\n",
    "vg.plot()\n",
    "\n",
    "from skgstat import OrdinaryKriging\n",
    "ok = OrdinaryKriging(vg, min_points=3, max_points=20, mode='exact')\n",
    "krig_res = ok.transform(filtered_ds[['Lon']], filtered_ds[['Lat']])\n",
    "final_rech = pred_recharge + krig_res\n",
    "# bin_center, gamma = vg.get_empirical(bin_center=True)\n",
    "# fit_model = gs.Spherical(dim=2)\n",
    "# fit_model.fit_variogram(bin_center, gamma, nugget=True)\n",
    "# ax = fit_model.plot(x_max=max(bin_center))\n",
    "# ax.scatter(bin_center, gamma)\n",
    "# print(fit_model)\n",
    "#field = kg.structured(filtered_ds.iloc[:,[-1,-2]].to_numpy())\n",
    "\n",
    "# merge with the features dataframe and back transform\n",
    "filtered_ds['pred_recharge_mmpa'] = 10**final_rech\n",
    "# fill gaps in the dataframe - revert to 0.5x0.5 grid\n",
    "reindx_ds = filtered_ds.reindex(range(len(raw_ds)), fill_value=-9999)\n",
    "recharge_grid = np.array(reindx_ds['pred_recharge_mmpa']).reshape(out_shape)\n",
    "\n",
    "# save to a raster\n",
    "# config\n",
    "out_meta = {'driver': 'GTiff', \"dtype\": 'float32', \"height\": recharge_grid.shape[0], \"width\": recharge_grid.shape[1],\n",
    "            \"count\": 1, \"transform\": T0, 'nodata': -9999, 'crs': rasterio.crs.CRS({\"init\": \"epsg:4326\"})}\n",
    "\n",
    "# save\n",
    "with rasterio.open(\"Low_res_data_05/RK_RF_recharge.tif\", \"w\", **out_meta) as dest:\n",
    "#with rasterio.open(\"Low_res_data_05/RK_RF_recharge_zero.tif\", \"w\", **out_meta) as dest:\n",
    "    dest.write(recharge_grid[np.newaxis, :, :])"
   ]
  },
  {
   "cell_type": "code",
   "execution_count": 15,
   "id": "9e70e978",
   "metadata": {},
   "outputs": [
    {
     "name": "stdout",
     "output_type": "stream",
     "text": [
      "Max predicted recharge: 275.8064628117263\n"
     ]
    }
   ],
   "source": [
    "print(f'Max predicted recharge: {10**np.max(final_rech)}')"
   ]
  },
  {
   "cell_type": "markdown",
   "id": "0fed6369",
   "metadata": {},
   "source": [
    "## Result comparison\n",
    "- random forest (RF)\n",
    "- random forest with residual kriging (RK RF)\n",
    "- linear mixed model by MacDonald et al 2021 - BGS (LMM)"
   ]
  },
  {
   "cell_type": "code",
   "execution_count": 16,
   "id": "133cb3de",
   "metadata": {},
   "outputs": [
    {
     "name": "stdout",
     "output_type": "stream",
     "text": [
      "       Lon    Lat  Observations          RF  RF (zeros)       RK RF  \\\n",
      "ID                                                                    \n",
      "1     4.48   8.49         253.0  183.822311  193.559540  166.653091   \n",
      "2    30.09 -20.27          22.0   21.844559   21.927847   17.236904   \n",
      "3    32.96   0.46         245.0  155.904663  165.033447  170.175919   \n",
      "4    39.82  13.54         185.0   43.265011   54.231293   56.001213   \n",
      "5     2.30   6.50         120.0  178.283707  178.881226  162.207062   \n",
      "..     ...    ...           ...         ...         ...         ...   \n",
      "130  27.70 -26.00         100.0   70.699287   74.499443   55.032993   \n",
      "131  30.55 -17.71          80.0   83.761658   85.879532   67.512444   \n",
      "132 -17.00  14.72           8.0   19.679653   18.820465   17.272642   \n",
      "133  38.64   9.40         160.0  155.454346  152.367432  188.027954   \n",
      "134  33.74  -5.96          41.0   56.359318   54.513725   54.955242   \n",
      "\n",
      "     RK RF (zeros)         LMM  \n",
      "ID                              \n",
      "1       180.421249  139.130249  \n",
      "2        17.711319   25.397594  \n",
      "3       160.833374  133.193283  \n",
      "4        72.049057   63.007080  \n",
      "5       172.434113  125.447845  \n",
      "..             ...         ...  \n",
      "130      63.890831   39.552135  \n",
      "131      69.621681   59.158382  \n",
      "132      15.766924   20.644716  \n",
      "133     199.492920  141.219238  \n",
      "134      47.233181   42.370590  \n",
      "\n",
      "[127 rows x 8 columns]\n"
     ]
    }
   ],
   "source": [
    "# compare LMM and random forest results\n",
    "point_coords = [(i,j) for (i,j) in zip(file['Long'], file['Lat'])]\n",
    "obs = file['Recharge_mmpa']\n",
    "rf_rech_src = rasterio.open('Low_res_data_05/RF_recharge.tif')\n",
    "rf_rech_zeros_src = rasterio.open('Low_res_data_05/RF_recharge_zero.tif')\n",
    "rk_rf_rech_src = rasterio.open('Low_res_data_05/RK_RF_recharge.tif')\n",
    "rk_rf_rech_zeros_src = rasterio.open('Low_res_data_05/RK_RF_recharge_zero.tif')\n",
    "bgs_rech_src = rasterio.open('139265/Africa_Recharge_Map/Africa_recharge.tif')\n",
    "\n",
    "rf_rech_samples = [item for sublist in list(rf_rech_src.sample(point_coords, indexes=1)) for item in sublist]\n",
    "rf_rech_zeros_samples = [item for sublist in list(rf_rech_zeros_src.sample(point_coords, indexes=1)) for item in sublist]\n",
    "rk_rf_rech_samples = [item for sublist in list(rk_rf_rech_src.sample(point_coords, indexes=1)) for item in sublist]\n",
    "rk_rf_rech_zeros_samples = [item for sublist in list(rk_rf_rech_zeros_src.sample(point_coords, indexes=1)) for item in sublist]\n",
    "bgs_rech_samples = [item for sublist in list(bgs_rech_src.sample(point_coords)) for item in sublist]\n",
    "\n",
    "summary = pd.DataFrame({'Lon': file['Long'], 'Lat': file['Lat'],'Observations': obs, 'RF': rf_rech_samples,\n",
    "                        'RF (zeros)': rf_rech_zeros_samples, 'RK RF': rk_rf_rech_samples,\n",
    "                        'RK RF (zeros)': rk_rf_rech_zeros_samples, \n",
    "                        'LMM': bgs_rech_samples})\n",
    "\n",
    "summary.index.names = ['ID']\n",
    "summary.index += 1\n",
    "print(summary)\n",
    "summary.to_csv(\"summary.csv\")\n",
    "#summary.to_csv(\"summary_z.csv\")"
   ]
  },
  {
   "cell_type": "code",
   "execution_count": 17,
   "id": "8b9e262e",
   "metadata": {},
   "outputs": [
    {
     "name": "stdout",
     "output_type": "stream",
     "text": [
      "      Lon    Lat  Observations           RF   RF (zeros)        RK RF  \\\n",
      "ID                                                                      \n",
      "82 -17.29  14.77          22.0    14.922181    15.774782    14.526643   \n",
      "89  11.03  37.04          12.0 -9999.000000 -9999.000000 -9999.000000   \n",
      "\n",
      "    RK RF (zeros)           LMM  \n",
      "ID                               \n",
      "82      14.222162 -3.402823e+38  \n",
      "89   -9999.000000 -3.402823e+38  \n",
      "\n",
      "R squared\n",
      "LMM vs obs R^2: 0.8120500991058428\n",
      "RF vs obs R^2: 0.825112404773784\n",
      "RF (zeros) vs obs R^2: 0.8454503214872942\n",
      "RK RF vs obs R^2: 0.8144529266724925\n",
      "RK RF (zeros) vs obs R^2: 0.8404067631736079\n",
      "RF vs LMM R^2: 0.9373063172053173\n",
      "RK RF vs LMM R^2: 0.9183287327497419\n"
     ]
    }
   ],
   "source": [
    "# problem: some observations are outside of the domain!\n",
    "print(summary[(summary['LMM'] < 0) | (summary['RF'] < 0)])\n",
    "# ignore these point for now\n",
    "summary = summary[(summary['LMM'] >= 0) & (summary['RF'] >= 0)]\n",
    "# R2 applied to log recharge!\n",
    "print('\\nR squared')\n",
    "print('LMM vs obs R^2:', metrics.r2_score(np.log10(summary['Observations'].values), np.log10(summary['LMM'].values)))\n",
    "print('RF vs obs R^2:', metrics.r2_score(np.log10(summary['Observations'].values), np.log10(summary['RF'].values)))\n",
    "print('RF (zeros) vs obs R^2:', metrics.r2_score(np.log10(summary['Observations'].values), np.log10(summary['RF (zeros)'].values)))\n",
    "print('RK RF vs obs R^2:', metrics.r2_score(np.log10(summary['Observations'].values), np.log10(summary['RK RF'].values)))\n",
    "print('RK RF (zeros) vs obs R^2:', metrics.r2_score(np.log10(summary['Observations'].values), np.log10(summary['RK RF (zeros)'].values)))\n",
    "\n",
    "print('RF vs LMM R^2:', metrics.r2_score(np.log10(summary['RF'].values), np.log10(summary['LMM'].values)))\n",
    "print('RK RF vs LMM R^2:', metrics.r2_score(np.log10(summary['RK RF'].values), np.log10(summary['LMM'].values)))"
   ]
  },
  {
   "cell_type": "code",
   "execution_count": 18,
   "id": "334e8167",
   "metadata": {},
   "outputs": [
    {
     "data": {
      "text/plain": [
       "(0.0, 1000.0)"
      ]
     },
     "execution_count": 18,
     "metadata": {},
     "output_type": "execute_result"
    },
    {
     "data": {
      "image/png": "[encoded data removed]",
      "text/plain": [
       "<Figure size 1224x360 with 3 Axes>"
      ]
     },
     "metadata": {
      "needs_background": "light"
     },
     "output_type": "display_data"
    }
   ],
   "source": [
    "fig, axs = plt.subplots(1,3,figsize=(17,5))\n",
    "fig.suptitle('Random Forest performance')\n",
    "axs = axs.flatten()\n",
    "axs[0].plot(summary['Observations'], summary['LMM'],marker='o',linestyle='')\n",
    "axs[0].plot(range(0,1000), range(0,1000), 'r')\n",
    "axs[0].set_xlabel('Observed recharge (mmpa) ')\n",
    "axs[0].set_ylabel('Predicted recharge (mmpa) ')\n",
    "axs[0].set_xlim([0,1000])\n",
    "axs[0].set_title('Observations vs LMM Model')\n",
    "axs[0].set_ylim([0,1000])\n",
    "\n",
    "axs[1].plot(summary['Observations'], summary['RF'],marker='o',linestyle='')\n",
    "axs[1].plot(range(0,1000), range(0,1000), 'r')\n",
    "axs[1].set_xlabel('Observed recharge (mmpa) ')\n",
    "axs[1].set_ylabel('RF recharge (mmpa) ')\n",
    "axs[1].set_xlim([0,1000])\n",
    "axs[1].set_title('Observations vs RF Model')\n",
    "axs[1].set_ylim([0,1000])\n",
    "\n",
    "axs[2].plot(summary['RF'], summary['LMM'],marker='o',linestyle='')\n",
    "axs[2].plot(range(0,1000), range(0,1000), 'r')\n",
    "axs[2].set_xlabel('RF recharge (mmpa) ')\n",
    "axs[2].set_ylabel('LMM recharge (mmpa) ')\n",
    "axs[2].set_xlim([0,1000])\n",
    "axs[2].set_title('RF Model vs LMM Model')\n",
    "axs[2].set_ylim([0,1000])"
   ]
  },
  {
   "cell_type": "code",
   "execution_count": 19,
   "id": "746eda22",
   "metadata": {},
   "outputs": [
    {
     "data": {
      "text/plain": [
       "(0.0, 1000.0)"
      ]
     },
     "execution_count": 19,
     "metadata": {},
     "output_type": "execute_result"
    },
    {
     "data": {
      "image/png": "[encoded data removed]",
      "text/plain": [
       "<Figure size 1224x360 with 3 Axes>"
      ]
     },
     "metadata": {
      "needs_background": "light"
     },
     "output_type": "display_data"
    }
   ],
   "source": [
    "fig, axs = plt.subplots(1,3,figsize=(17,5))\n",
    "fig.suptitle('Random Forest + residual kriging - performance')\n",
    "axs = axs.flatten()\n",
    "axs[0].plot(summary['Observations'], summary['LMM'],marker='o',linestyle='')\n",
    "axs[0].plot(range(0,1000), range(0,1000), 'r')\n",
    "axs[0].set_xlabel('Observed recharge (mmpa) ')\n",
    "axs[0].set_ylabel('Predicted recharge (mmpa) ')\n",
    "axs[0].set_xlim([0,1000])\n",
    "axs[0].set_title('Observations vs LMM Model')\n",
    "axs[0].set_ylim([0,1000])\n",
    "\n",
    "axs[1].plot(summary['Observations'], summary['RK RF'],marker='o',linestyle='')\n",
    "axs[1].plot(range(0,1000), range(0,1000), 'r')\n",
    "axs[1].set_xlabel('Observed recharge (mmpa) ')\n",
    "axs[1].set_ylabel('RK RF recharge (mmpa) ')\n",
    "axs[1].set_xlim([0,1000])\n",
    "axs[1].set_title('Observations vs RK RF Model')\n",
    "axs[1].set_ylim([0,1000])\n",
    "\n",
    "axs[2].plot(summary['RK RF'], summary['LMM'],marker='o',linestyle='')\n",
    "axs[2].plot(range(0,1000), range(0,1000), 'r')\n",
    "axs[2].set_xlabel('RK RF recharge (mmpa) ')\n",
    "axs[2].set_ylabel('LMM recharge (mmpa) ')\n",
    "axs[2].set_xlim([0,1000])\n",
    "axs[2].set_title('RK RF Model vs LMM Model')\n",
    "axs[2].set_ylim([0,1000])"
   ]
  },
  {
   "cell_type": "code",
   "execution_count": null,
   "id": "45e319c3",
   "metadata": {},
   "outputs": [],
   "source": []
  }
 ],
 "metadata": {
  "kernelspec": {
   "display_name": "Python 3",
   "language": "python",
   "name": "python3"
  },
  "language_info": {
   "codemirror_mode": {
    "name": "ipython",
    "version": 3
   },
   "file_extension": ".py",
   "mimetype": "text/x-python",
   "name": "python",
   "nbconvert_exporter": "python",
   "pygments_lexer": "ipython3",
   "version": "3.9.4"
  }
 },
 "nbformat": 4,
 "nbformat_minor": 5
}
