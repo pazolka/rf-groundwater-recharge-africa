{
 "cells": [
  {
   "cell_type": "markdown",
   "id": "16918e1d",
   "metadata": {},
   "source": [
    "# Random Forest\n",
    "Total dataset size: 134 samples <br>\n",
    "Training set: 134 samples\n",
    "\n",
    "Features used (after importance analysis):\n",
    "- LTA precipitation (mmpa)\n",
    "- LTA wet days\n",
    "- LTA_PET_mm\n",
    "- Aridity idx\n",
    "- NDVI\n",
    "- DEM\n",
    "- LTA soil moisture - 10 cm (kg m-2) "
   ]
  },
  {
   "cell_type": "code",
   "execution_count": 92,
   "id": "fef0dfd0",
   "metadata": {},
   "outputs": [],
   "source": [
    "import pandas as pd\n",
    "import numpy as np\n",
    "from matplotlib import cm\n",
    "import matplotlib.pyplot as plt\n",
    "from sklearn.preprocessing import LabelEncoder\n",
    "from sklearn.model_selection import train_test_split\n",
    "from sklearn.ensemble import RandomForestRegressor\n",
    "from sklearn import metrics\n",
    "%matplotlib inline\n",
    "from matplotlib import colors\n",
    "from matplotlib.ticker import PercentFormatter\n",
    "import rasterio\n",
    "from utils import getAllCoordinates\n",
    "import json\n",
    "\n",
    "# Prepare all BGS points as training points\n",
    "\n",
    "# read file (data + coordinates)\n",
    "file = pd.read_csv('High_res_data_01/poc_01.csv')\n",
    "# OMIT ZERO RECHARGE SAMPLES\n",
    "file = file[file['Recharge_mmpa']!= 0.1]\n",
    "#file = file[file['Recharge_mmpa']< 800]\n",
    "# drop unimportant columns\n",
    "data = file.drop(columns=['ID', 'Lat', 'Long', 'Landcover_ext', 'DEM'])\n",
    "# Labels are the values we want to predict\n",
    "labels = np.log10(data['Recharge_mmpa'])\n",
    "data = data.drop('Recharge_mmpa', axis = 1)\n",
    "# Add for reference\n",
    "data['ID'] = file['ID']\n",
    "# Saving feature names for later use\n",
    "feature_list = list(data.columns)\n",
    "# Convert to numpy array\n",
    "features = np.array(data)"
   ]
  },
  {
   "cell_type": "code",
   "execution_count": 93,
   "id": "81290320",
   "metadata": {},
   "outputs": [
    {
     "data": {
      "text/html": [
       "<div>\n",
       "<style scoped>\n",
       "    .dataframe tbody tr th:only-of-type {\n",
       "        vertical-align: middle;\n",
       "    }\n",
       "\n",
       "    .dataframe tbody tr th {\n",
       "        vertical-align: top;\n",
       "    }\n",
       "\n",
       "    .dataframe thead th {\n",
       "        text-align: right;\n",
       "    }\n",
       "</style>\n",
       "<table border=\"1\" class=\"dataframe\">\n",
       "  <thead>\n",
       "    <tr style=\"text-align: right;\">\n",
       "      <th></th>\n",
       "      <th>LTA_CHIRPS_mmpa</th>\n",
       "      <th>LTA_PET_mm</th>\n",
       "      <th>Aridity</th>\n",
       "      <th>NDVI</th>\n",
       "      <th>SM10_m3m3</th>\n",
       "      <th>ID</th>\n",
       "    </tr>\n",
       "  </thead>\n",
       "  <tbody>\n",
       "    <tr>\n",
       "      <th>LTA_CHIRPS_mmpa</th>\n",
       "      <td>1.000000</td>\n",
       "      <td>-0.702076</td>\n",
       "      <td>0.960139</td>\n",
       "      <td>0.800415</td>\n",
       "      <td>0.025803</td>\n",
       "      <td>0.000726</td>\n",
       "    </tr>\n",
       "    <tr>\n",
       "      <th>LTA_PET_mm</th>\n",
       "      <td>-0.702076</td>\n",
       "      <td>1.000000</td>\n",
       "      <td>-0.770768</td>\n",
       "      <td>-0.784442</td>\n",
       "      <td>0.121237</td>\n",
       "      <td>0.059164</td>\n",
       "    </tr>\n",
       "    <tr>\n",
       "      <th>Aridity</th>\n",
       "      <td>0.960139</td>\n",
       "      <td>-0.770768</td>\n",
       "      <td>1.000000</td>\n",
       "      <td>0.799033</td>\n",
       "      <td>-0.005604</td>\n",
       "      <td>-0.037322</td>\n",
       "    </tr>\n",
       "    <tr>\n",
       "      <th>NDVI</th>\n",
       "      <td>0.800415</td>\n",
       "      <td>-0.784442</td>\n",
       "      <td>0.799033</td>\n",
       "      <td>1.000000</td>\n",
       "      <td>0.068252</td>\n",
       "      <td>0.015778</td>\n",
       "    </tr>\n",
       "    <tr>\n",
       "      <th>SM10_m3m3</th>\n",
       "      <td>0.025803</td>\n",
       "      <td>0.121237</td>\n",
       "      <td>-0.005604</td>\n",
       "      <td>0.068252</td>\n",
       "      <td>1.000000</td>\n",
       "      <td>-0.037817</td>\n",
       "    </tr>\n",
       "    <tr>\n",
       "      <th>ID</th>\n",
       "      <td>0.000726</td>\n",
       "      <td>0.059164</td>\n",
       "      <td>-0.037322</td>\n",
       "      <td>0.015778</td>\n",
       "      <td>-0.037817</td>\n",
       "      <td>1.000000</td>\n",
       "    </tr>\n",
       "  </tbody>\n",
       "</table>\n",
       "</div>"
      ],
      "text/plain": [
       "                 LTA_CHIRPS_mmpa  LTA_PET_mm   Aridity      NDVI  SM10_m3m3  \\\n",
       "LTA_CHIRPS_mmpa         1.000000   -0.702076  0.960139  0.800415   0.025803   \n",
       "LTA_PET_mm             -0.702076    1.000000 -0.770768 -0.784442   0.121237   \n",
       "Aridity                 0.960139   -0.770768  1.000000  0.799033  -0.005604   \n",
       "NDVI                    0.800415   -0.784442  0.799033  1.000000   0.068252   \n",
       "SM10_m3m3               0.025803    0.121237 -0.005604  0.068252   1.000000   \n",
       "ID                      0.000726    0.059164 -0.037322  0.015778  -0.037817   \n",
       "\n",
       "                       ID  \n",
       "LTA_CHIRPS_mmpa  0.000726  \n",
       "LTA_PET_mm       0.059164  \n",
       "Aridity         -0.037322  \n",
       "NDVI             0.015778  \n",
       "SM10_m3m3       -0.037817  \n",
       "ID               1.000000  "
      ]
     },
     "execution_count": 93,
     "metadata": {},
     "output_type": "execute_result"
    }
   ],
   "source": [
    "correlation_matrix = data.corr()\n",
    "correlation_matrix"
   ]
  },
  {
   "cell_type": "markdown",
   "id": "0cce87bd",
   "metadata": {},
   "source": [
    "# Run RF for the whole domain"
   ]
  },
  {
   "cell_type": "markdown",
   "id": "dd0405a2",
   "metadata": {},
   "source": [
    "### Find hyperparameters"
   ]
  },
  {
   "cell_type": "code",
   "execution_count": 104,
   "id": "32ebe21e",
   "metadata": {},
   "outputs": [
    {
     "name": "stdout",
     "output_type": "stream",
     "text": [
      "Fitting 3 folds for each of 100 candidates, totalling 300 fits\n"
     ]
    },
    {
     "data": {
      "text/plain": [
       "{'n_estimators': 2000,\n",
       " 'min_samples_split': 15,\n",
       " 'min_samples_leaf': 1,\n",
       " 'max_features': 'auto',\n",
       " 'max_depth': 60}"
      ]
     },
     "execution_count": 104,
     "metadata": {},
     "output_type": "execute_result"
    }
   ],
   "source": [
    "from sklearn.model_selection import RandomizedSearchCV\n",
    "\n",
    "estimator = RandomForestRegressor()\n",
    "# Number of trees in random forest\n",
    "n_estimators = [2000] * 10\n",
    "# Number of features to consider at every split\n",
    "max_features = ['auto', 'sqrt', 0.33]\n",
    "# Maximum number of levels in tree\n",
    "max_depth = [int(x) for x in np.linspace(10, 100, num = 10)]\n",
    "max_depth.append(None)\n",
    "# Minimum number of samples required to split a node\n",
    "min_samples_split = [2, 5, 10, 15]\n",
    "# Minimum number of samples required at each leaf node\n",
    "min_samples_leaf = [1, 2, 3, 4]\n",
    "# Method of selecting samples for training each tree\n",
    "#bootstrap = [True, False]\n",
    "\n",
    "# Create the random grid\n",
    "random_grid = {'n_estimators': n_estimators,\n",
    "               'max_features': max_features,\n",
    "               'max_depth': max_depth,\n",
    "               'min_samples_split': min_samples_split,\n",
    "               'min_samples_leaf': min_samples_leaf,\n",
    "               #'bootstrap': bootstrap\n",
    "              }\n",
    "\n",
    "# Random search of parameters, using 3 fold cross validation, \n",
    "# search across 100 different combinations, and use all available cores\n",
    "rf_random = RandomizedSearchCV(estimator=estimator, param_distributions=random_grid,\n",
    "                              n_iter = 100, scoring='neg_mean_absolute_error', \n",
    "                              cv = 3, verbose=2, random_state=42, n_jobs=-1)\n",
    "\n",
    "# Fit the random search model\n",
    "rf_random.fit(features[:, :-1], labels)\n",
    "\n",
    "rf_random.best_params_"
   ]
  },
  {
   "cell_type": "code",
   "execution_count": 94,
   "id": "6d7c1470",
   "metadata": {},
   "outputs": [],
   "source": [
    "# get all coordinates of the smallest raster - workaround as rasters have slightly different shapes\n",
    "coords, T0, out_shape = getAllCoordinates('High_res_data_01/NDVI_Afr_01.tif', grid=0.1)"
   ]
  },
  {
   "cell_type": "code",
   "execution_count": 95,
   "id": "8214217f",
   "metadata": {
    "scrolled": true
   },
   "outputs": [
    {
     "ename": "KeyboardInterrupt",
     "evalue": "",
     "output_type": "error",
     "traceback": [
      "\u001b[0;31m---------------------------------------------------------------------------\u001b[0m",
      "\u001b[0;31mKeyboardInterrupt\u001b[0m                         Traceback (most recent call last)",
      "\u001b[0;32m<ipython-input-95-1c57c8740b49>\u001b[0m in \u001b[0;36m<module>\u001b[0;34m\u001b[0m\n\u001b[1;32m      7\u001b[0m \u001b[0;34m\u001b[0m\u001b[0m\n\u001b[1;32m      8\u001b[0m \u001b[0;31m# get raster values at 0.5x0.5 grid + flatten\u001b[0m\u001b[0;34m\u001b[0m\u001b[0;34m\u001b[0m\u001b[0;34m\u001b[0m\u001b[0m\n\u001b[0;32m----> 9\u001b[0;31m \u001b[0mpet_samples\u001b[0m \u001b[0;34m=\u001b[0m \u001b[0;34m[\u001b[0m\u001b[0mitem\u001b[0m \u001b[0;32mfor\u001b[0m \u001b[0msublist\u001b[0m \u001b[0;32min\u001b[0m \u001b[0mlist\u001b[0m\u001b[0;34m(\u001b[0m\u001b[0mpet_src\u001b[0m\u001b[0;34m.\u001b[0m\u001b[0msample\u001b[0m\u001b[0;34m(\u001b[0m\u001b[0mcoords\u001b[0m\u001b[0;34m)\u001b[0m\u001b[0;34m)\u001b[0m \u001b[0;32mfor\u001b[0m \u001b[0mitem\u001b[0m \u001b[0;32min\u001b[0m \u001b[0msublist\u001b[0m\u001b[0;34m]\u001b[0m\u001b[0;34m\u001b[0m\u001b[0;34m\u001b[0m\u001b[0m\n\u001b[0m\u001b[1;32m     10\u001b[0m \u001b[0mp_samples\u001b[0m \u001b[0;34m=\u001b[0m \u001b[0;34m[\u001b[0m\u001b[0mitem\u001b[0m \u001b[0;32mfor\u001b[0m \u001b[0msublist\u001b[0m \u001b[0;32min\u001b[0m \u001b[0mlist\u001b[0m\u001b[0;34m(\u001b[0m\u001b[0mp_src\u001b[0m\u001b[0;34m.\u001b[0m\u001b[0msample\u001b[0m\u001b[0;34m(\u001b[0m\u001b[0mcoords\u001b[0m\u001b[0;34m)\u001b[0m\u001b[0;34m)\u001b[0m \u001b[0;32mfor\u001b[0m \u001b[0mitem\u001b[0m \u001b[0;32min\u001b[0m \u001b[0msublist\u001b[0m\u001b[0;34m]\u001b[0m\u001b[0;34m\u001b[0m\u001b[0;34m\u001b[0m\u001b[0m\n\u001b[1;32m     11\u001b[0m \u001b[0mndvi_samples\u001b[0m \u001b[0;34m=\u001b[0m \u001b[0;34m[\u001b[0m\u001b[0mitem\u001b[0m \u001b[0;32mfor\u001b[0m \u001b[0msublist\u001b[0m \u001b[0;32min\u001b[0m \u001b[0mlist\u001b[0m\u001b[0;34m(\u001b[0m\u001b[0mndvi_src\u001b[0m\u001b[0;34m.\u001b[0m\u001b[0msample\u001b[0m\u001b[0;34m(\u001b[0m\u001b[0mcoords\u001b[0m\u001b[0;34m)\u001b[0m\u001b[0;34m)\u001b[0m \u001b[0;32mfor\u001b[0m \u001b[0mitem\u001b[0m \u001b[0;32min\u001b[0m \u001b[0msublist\u001b[0m\u001b[0;34m]\u001b[0m\u001b[0;34m\u001b[0m\u001b[0;34m\u001b[0m\u001b[0m\n",
      "\u001b[0;32m~/anaconda3/envs/gee/lib/python3.9/site-packages/rasterio/sample.py\u001b[0m in \u001b[0;36msample_gen\u001b[0;34m(dataset, xy, indexes, masked)\u001b[0m\n\u001b[1;32m     52\u001b[0m         \u001b[0;32melse\u001b[0m\u001b[0;34m:\u001b[0m\u001b[0;34m\u001b[0m\u001b[0;34m\u001b[0m\u001b[0m\n\u001b[1;32m     53\u001b[0m             \u001b[0mwindow\u001b[0m \u001b[0;34m=\u001b[0m \u001b[0mWindow\u001b[0m\u001b[0;34m(\u001b[0m\u001b[0mcol_off\u001b[0m\u001b[0;34m,\u001b[0m \u001b[0mrow_off\u001b[0m\u001b[0;34m,\u001b[0m \u001b[0;36m1\u001b[0m\u001b[0;34m,\u001b[0m \u001b[0;36m1\u001b[0m\u001b[0;34m)\u001b[0m\u001b[0;34m\u001b[0m\u001b[0;34m\u001b[0m\u001b[0m\n\u001b[0;32m---> 54\u001b[0;31m             \u001b[0mdata\u001b[0m \u001b[0;34m=\u001b[0m \u001b[0mread\u001b[0m\u001b[0;34m(\u001b[0m\u001b[0mindexes\u001b[0m\u001b[0;34m,\u001b[0m \u001b[0mwindow\u001b[0m\u001b[0;34m=\u001b[0m\u001b[0mwindow\u001b[0m\u001b[0;34m,\u001b[0m \u001b[0mmasked\u001b[0m\u001b[0;34m=\u001b[0m\u001b[0mmasked\u001b[0m\u001b[0;34m)\u001b[0m\u001b[0;34m\u001b[0m\u001b[0;34m\u001b[0m\u001b[0m\n\u001b[0m\u001b[1;32m     55\u001b[0m             \u001b[0;32myield\u001b[0m \u001b[0mdata\u001b[0m\u001b[0;34m[\u001b[0m\u001b[0;34m:\u001b[0m\u001b[0;34m,\u001b[0m \u001b[0;36m0\u001b[0m\u001b[0;34m,\u001b[0m \u001b[0;36m0\u001b[0m\u001b[0;34m]\u001b[0m\u001b[0;34m\u001b[0m\u001b[0;34m\u001b[0m\u001b[0m\n",
      "\u001b[0;32mrasterio/_io.pyx\u001b[0m in \u001b[0;36mrasterio._io.DatasetReaderBase.read\u001b[0;34m()\u001b[0m\n",
      "\u001b[0;32mrasterio/_io.pyx\u001b[0m in \u001b[0;36mrasterio._io.DatasetReaderBase._read\u001b[0;34m()\u001b[0m\n",
      "\u001b[0;32mrasterio/shim_rasterioex.pxi\u001b[0m in \u001b[0;36mrasterio._shim.io_multi_band\u001b[0;34m()\u001b[0m\n",
      "\u001b[0;32m~/anaconda3/envs/gee/lib/python3.9/site-packages/numpy/core/_dtype.py\u001b[0m in \u001b[0;36m_name_get\u001b[0;34m(dtype)\u001b[0m\n\u001b[1;32m    319\u001b[0m \u001b[0;34m\u001b[0m\u001b[0m\n\u001b[1;32m    320\u001b[0m \u001b[0;34m\u001b[0m\u001b[0m\n\u001b[0;32m--> 321\u001b[0;31m \u001b[0;32mdef\u001b[0m \u001b[0m_name_get\u001b[0m\u001b[0;34m(\u001b[0m\u001b[0mdtype\u001b[0m\u001b[0;34m)\u001b[0m\u001b[0;34m:\u001b[0m\u001b[0;34m\u001b[0m\u001b[0;34m\u001b[0m\u001b[0m\n\u001b[0m\u001b[1;32m    322\u001b[0m     \u001b[0;31m# provides dtype.name.__get__, documented as returning a \"bit name\"\u001b[0m\u001b[0;34m\u001b[0m\u001b[0;34m\u001b[0m\u001b[0;34m\u001b[0m\u001b[0m\n\u001b[1;32m    323\u001b[0m \u001b[0;34m\u001b[0m\u001b[0m\n",
      "\u001b[0;31mKeyboardInterrupt\u001b[0m: "
     ]
    }
   ],
   "source": [
    "# read rasters\n",
    "pet_src = rasterio.open('High_res_data_01/LTA_PET_Afr_01.tif')\n",
    "p_src = rasterio.open('High_res_data_01/LTA_CHIRPS_clipped_01.tif')\n",
    "ndvi_src = rasterio.open('High_res_data_01/NDVI_Afr_01.tif')\n",
    "ai_src = rasterio.open('High_res_data_01/LTA_AI_Afr_01_scaled.tif')\n",
    "sm_src = rasterio.open('High_res_data_01/Soil_moisture_Afr_01.tif')\n",
    "\n",
    "# get raster values at 0.5x0.5 grid + flatten\n",
    "pet_samples = [item for sublist in list(pet_src.sample(coords)) for item in sublist]\n",
    "p_samples = [item for sublist in list(p_src.sample(coords)) for item in sublist]\n",
    "ndvi_samples = [item for sublist in list(ndvi_src.sample(coords)) for item in sublist]\n",
    "ai_samples = [item/10000 for sublist in list(ai_src.sample(coords)) for item in sublist]\n",
    "sm_samples = [item for sublist in list(sm_src.sample(coords)) for item in sublist]"
   ]
  },
  {
   "cell_type": "code",
   "execution_count": 152,
   "id": "fa52976b",
   "metadata": {},
   "outputs": [
    {
     "data": {
      "text/plain": [
       "[0.2495819]"
      ]
     },
     "execution_count": 152,
     "metadata": {},
     "output_type": "execute_result"
    }
   ],
   "source": [
    "[item for sublist in list(sm_src.sample([(27.1447, -25.9933)])) for item in sublist]"
   ]
  },
  {
   "cell_type": "code",
   "execution_count": 105,
   "id": "59095877",
   "metadata": {},
   "outputs": [],
   "source": [
    "# combine predictors in a dataframe\n",
    "raw_ds = pd.DataFrame({'LTA_CHIRPS_mmpa': p_samples, 'LTA_PET_mm': pet_samples, 'Aridity': ai_samples, \n",
    "                       'NDVI': ndvi_samples, \n",
    "                       'SM10_m3m3': sm_samples, \n",
    "                      })\n",
    "\n",
    "# take rows with valid predictor data (land only)\n",
    "filtered_ds = raw_ds[(raw_ds['LTA_CHIRPS_mmpa'] >= 0) & (raw_ds['LTA_PET_mm'] >= -1000) \n",
    "                     & (raw_ds['Aridity'] >= -1000) & (raw_ds['NDVI'] >= -1000) \n",
    "                     & (raw_ds['SM10_m3m3'] > 0)]\n",
    "\n",
    "# convert dataframe to numpy array\n",
    "domain_features = np.array(filtered_ds)\n",
    "\n",
    "params = {'n_estimators': 2000,\n",
    "         'min_samples_split': 15,\n",
    "         'min_samples_leaf': 1,\n",
    "         'max_features': 'auto',\n",
    "         'max_depth': 60,\n",
    "         'bootstrap': True}\n",
    "\n",
    "# instantiate random forest model\n",
    "final_rf = RandomForestRegressor(**params, oob_score=True)"
   ]
  },
  {
   "cell_type": "code",
   "execution_count": 106,
   "id": "c7e91c3f",
   "metadata": {},
   "outputs": [],
   "source": [
    "# train the model on entire BGS dataset\n",
    "final_rf.fit(features[:,:-1], labels)\n",
    "# use the forest's predict method on the whole domain\n",
    "pred_recharge = final_rf.predict(domain_features)\n",
    "# apply to training set again\n",
    "train_predictions = final_rf.predict(features[:,:-1])"
   ]
  },
  {
   "cell_type": "code",
   "execution_count": 107,
   "id": "0b4095ca",
   "metadata": {},
   "outputs": [
    {
     "name": "stdout",
     "output_type": "stream",
     "text": [
      "OOB score 0.6605295472515099\n"
     ]
    }
   ],
   "source": [
    "print(f'OOB score {final_rf.oob_score_}')"
   ]
  },
  {
   "cell_type": "code",
   "execution_count": 108,
   "id": "c669c2d2",
   "metadata": {},
   "outputs": [],
   "source": [
    "# merge with the features dataframe and back transform\n",
    "filtered_ds['pred_recharge_mmpa'] = 10**pred_recharge\n",
    "# fill gaps in the dataframe - revert to 0.1x0.1 grid\n",
    "reindx_ds = filtered_ds.reindex(range(len(raw_ds)), fill_value=-9999)\n",
    "recharge_grid = np.array(reindx_ds['pred_recharge_mmpa']).reshape(out_shape)\n",
    "\n",
    "# attempt to save to a raster\n",
    "# config\n",
    "out_meta = {'driver': 'GTiff', \"dtype\": 'float32', \"height\": recharge_grid.shape[0], \"width\": recharge_grid.shape[1],\n",
    "            \"count\": 1, \"transform\": T0, 'nodata': -9999, 'crs': rasterio.crs.CRS({\"init\": \"epsg:4326\"})}\n",
    "\n",
    "# save\n",
    "with rasterio.open(\"High_res_data_01/RF_recharge_01.tif\", \"w\", **out_meta) as dest:\n",
    "    dest.write(recharge_grid[np.newaxis, :, :])"
   ]
  },
  {
   "cell_type": "code",
   "execution_count": 109,
   "id": "72ce669d",
   "metadata": {
    "scrolled": true
   },
   "outputs": [
    {
     "name": "stdout",
     "output_type": "stream",
     "text": [
      "Variable: SM10_m3m3            Importance: 0.42\n",
      "Variable: LTA_CHIRPS_mmpa      Importance: 0.31\n",
      "Variable: Aridity              Importance: 0.2\n",
      "Variable: NDVI                 Importance: 0.05\n",
      "Variable: LTA_PET_mm           Importance: 0.02\n"
     ]
    }
   ],
   "source": [
    "# Get numerical feature importances\n",
    "importances = list(final_rf.feature_importances_)\n",
    "# List of tuples with variable and importance\n",
    "feature_importances = [(feature, round(importance, 2)) for feature, importance in zip(feature_list, importances)]\n",
    "# Sort the feature importances by most Aimportant first\n",
    "feature_importances = sorted(feature_importances, key = lambda x: x[1], reverse = True)\n",
    "# Print out the feature and importances \n",
    "[print('Variable: {:20} Importance: {}'.format(*pair)) for pair in feature_importances];"
   ]
  },
  {
   "cell_type": "code",
   "execution_count": 110,
   "id": "074a99e7",
   "metadata": {},
   "outputs": [
    {
     "data": {
      "text/plain": [
       "281.2224758064236"
      ]
     },
     "execution_count": 110,
     "metadata": {},
     "output_type": "execute_result"
    }
   ],
   "source": [
    "10**np.max(pred_recharge)"
   ]
  },
  {
   "cell_type": "code",
   "execution_count": 111,
   "id": "22da7bc2",
   "metadata": {
    "scrolled": true
   },
   "outputs": [
    {
     "name": "stdout",
     "output_type": "stream",
     "text": [
      "              Coords  Observations  RF recharge  BGS recharge\n",
      "0       (4.48, 8.49)         253.0   199.785324    139.130249\n",
      "1    (30.09, -20.27)          22.0    20.758734     25.397594\n",
      "2      (32.96, 0.46)         245.0   196.980682    133.193283\n",
      "3     (39.82, 13.54)         185.0    71.827690     63.007080\n",
      "4         (2.3, 6.5)         120.0   187.392258    125.447845\n",
      "..               ...           ...          ...           ...\n",
      "129    (27.7, -26.0)         100.0    81.264709     39.552135\n",
      "130  (30.55, -17.71)          80.0    67.540504     59.158382\n",
      "131   (-17.0, 14.72)           8.0    10.407059     20.644716\n",
      "132     (38.64, 9.4)         160.0   108.369766    141.219238\n",
      "133   (33.74, -5.96)          41.0    63.051952     42.370590\n",
      "\n",
      "[127 rows x 4 columns]\n"
     ]
    }
   ],
   "source": [
    "# compare BGS linear model and random forest\n",
    "point_coords = [(i,j) for (i,j) in zip(file['Long'], file['Lat'])]\n",
    "obs = file['Recharge_mmpa']\n",
    "rf_rech_src = rasterio.open('High_res_data_01/RF_recharge_01.tif')\n",
    "bgs_rech_src = rasterio.open('139265/Africa_Recharge_Map/Africa_recharge.tif')\n",
    "rf_rech_samples = [item for sublist in list(rf_rech_src.sample(point_coords, indexes=1)) for item in sublist]\n",
    "bgs_rech_samples = [item for sublist in list(bgs_rech_src.sample(point_coords)) for item in sublist]\n",
    "\n",
    "summary = pd.DataFrame({'Coords': point_coords, 'Observations': obs, 'RF recharge': rf_rech_samples, \n",
    "              'BGS recharge': bgs_rech_samples})\n",
    "\n",
    "print(summary)"
   ]
  },
  {
   "cell_type": "code",
   "execution_count": 113,
   "id": "3fbd0658",
   "metadata": {},
   "outputs": [
    {
     "name": "stdout",
     "output_type": "stream",
     "text": [
      "Empty DataFrame\n",
      "Columns: [Coords, Observations, RF recharge, BGS recharge]\n",
      "Index: []\n",
      "BGS vs obs R^2: 0.49735709640811243\n",
      "RF vs obs R^2: 0.5288906656551365\n",
      "RF vs BGS R^2: 0.8261767688880194\n"
     ]
    }
   ],
   "source": [
    "# problem: some observations are outside of the domain!\n",
    "print(summary[(summary['BGS recharge'] < 0) | (summary['RF recharge'] < 0)])\n",
    "# ignore these point for now\n",
    "summary = summary[(summary['BGS recharge'] >= 0) & (summary['RF recharge'] >= 0)]\n",
    "print('BGS vs obs R^2:', metrics.r2_score(summary['Observations'], summary['BGS recharge']))\n",
    "print('RF vs obs R^2:', metrics.r2_score(summary['Observations'], summary['RF recharge']))\n",
    "print('RF vs BGS R^2:', metrics.r2_score(summary['RF recharge'], summary['BGS recharge']))"
   ]
  },
  {
   "cell_type": "code",
   "execution_count": 114,
   "id": "334e8167",
   "metadata": {},
   "outputs": [
    {
     "data": {
      "text/plain": [
       "(0.0, 1000.0)"
      ]
     },
     "execution_count": 114,
     "metadata": {},
     "output_type": "execute_result"
    },
    {
     "data": {
      "image/png": "[encoded data removed]",
      "text/plain": [
       "<Figure size 1440x360 with 3 Axes>"
      ]
     },
     "metadata": {
      "needs_background": "light"
     },
     "output_type": "display_data"
    }
   ],
   "source": [
    "fig, axs = plt.subplots(1,3,figsize=(20,5))\n",
    "axs = axs.flatten()\n",
    "axs[0].plot(summary['Observations'], summary['BGS recharge'],marker='o',linestyle='')\n",
    "axs[0].plot(range(0,1000), range(0,1000), 'r')\n",
    "axs[0].set_xlabel('Observed recharge (mmpa) ')\n",
    "axs[0].set_ylabel('Predicted recharge (mmpa) ')\n",
    "axs[0].set_xlim([0,1000])\n",
    "axs[0].set_title('Observations vs BGS Model')\n",
    "axs[0].set_ylim([0,1000])\n",
    "\n",
    "axs[1].plot(summary['Observations'], summary['RF recharge'],marker='o',linestyle='')\n",
    "axs[1].plot(range(0,1000), range(0,1000), 'r')\n",
    "axs[1].set_xlabel('Observed recharge (mmpa) ')\n",
    "axs[1].set_ylabel('RF recharge (mmpa) ')\n",
    "axs[1].set_xlim([0,1000])\n",
    "axs[1].set_title('Observations vs RF Model')\n",
    "axs[1].set_ylim([0,1000])\n",
    "\n",
    "axs[2].plot(summary['RF recharge'], summary['BGS recharge'],marker='o',linestyle='')\n",
    "axs[2].plot(range(0,1000), range(0,1000), 'r')\n",
    "axs[2].set_xlabel('RF recharge (mmpa) ')\n",
    "axs[2].set_ylabel('BGS recharge (mmpa) ')\n",
    "axs[2].set_xlim([0,1000])\n",
    "axs[2].set_title('RF Model vs BGS Model')\n",
    "axs[2].set_ylim([0,1000])"
   ]
  },
  {
   "cell_type": "markdown",
   "id": "a4eef422",
   "metadata": {},
   "source": [
    "# Visualise"
   ]
  },
  {
   "cell_type": "code",
   "execution_count": 143,
   "id": "676358db",
   "metadata": {},
   "outputs": [],
   "source": [
    "import geemap\n",
    "import ee\n",
    "ee.Initialize()\n",
    "\n",
    "# center over Africa\n",
    "Map = geemap.Map(center=[0,40], zoom=2)\n",
    "\n",
    "# add BGS recharge to the map\n",
    "bgs_recharge_vis_params = {\n",
    "    'min': 0,'max': 300, \n",
    "    'bands':'bgs_recharge', 'palette': ['red', 'pink', 'yellow', 'lightgreen', 'green', 'lightblue', 'blue']\n",
    "}\n",
    "ee_bgs_recharge = ee.Image('users/pazolka/BGS_Africa_recharge').rename('bgs_recharge')\n",
    "Map.addLayer(ee_bgs_recharge, bgs_recharge_vis_params, 'BGS recharge', shown=False)\n",
    "# fix for clean colorbar\n",
    "bgs_recharge_vis_params['bands'] = 'BGS recharge (mmpa)'\n",
    "Map.add_colorbar(bgs_recharge_vis_params)"
   ]
  },
  {
   "cell_type": "code",
   "execution_count": 149,
   "id": "469e79e4",
   "metadata": {},
   "outputs": [],
   "source": [
    "# visualise RF results\n",
    "#Map.add_raster('RF_recharge.tif', colormap='RdYlGn', bands=[1], layer_name='RF recharge')\n",
    "# add GEE for seamless inspection\n",
    "rf_recharge_vis_params = {\n",
    "    'min': 0,'max': 300, \n",
    "    'bands':'rf_recharge', 'palette': ['red', 'pink', 'yellow', 'lightgreen', 'green', 'lightblue', 'blue']\n",
    "}\n",
    "ee_rf_recharge = ee.Image('users/pazolka/RF_recharge_01').rename('rf_recharge')\n",
    "ee_rf_recharge_05 = ee.Image('users/pazolka/RF_recharge').rename('rf_recharge')\n",
    "\n",
    "Map.addLayer(ee_rf_recharge_05, rf_recharge_vis_params, 'RF recharge 05', shown=False)\n",
    "Map.addLayer(ee_rf_recharge, rf_recharge_vis_params, 'RF recharge', shown=False)\n",
    "\n",
    "# fix for clean colorbar\n",
    "rf_recharge_vis_params['bands'] = 'RF recharge (mmpa)'\n",
    "Map.add_colorbar(rf_recharge_vis_params)"
   ]
  },
  {
   "cell_type": "code",
   "execution_count": 145,
   "id": "f6488d07",
   "metadata": {},
   "outputs": [],
   "source": [
    "Map.add_raster('High_res_data_01/Soil_moisture_Afr_01.tif', colormap='Spectral', bands=[1], layer_name='sm')"
   ]
  },
  {
   "cell_type": "code",
   "execution_count": 146,
   "id": "0747ca33",
   "metadata": {},
   "outputs": [],
   "source": [
    "Map.add_raster('High_res_data_01/landcover_Afr_01.tif', colormap='Spectral', bands=[1], layer_name='lc')"
   ]
  },
  {
   "cell_type": "code",
   "execution_count": 138,
   "id": "de6ab98e",
   "metadata": {},
   "outputs": [],
   "source": [
    "Map.add_raster('High_res_data_01/LTA_CHIRPS_clipped_01.tif', colormap='Spectral', bands=[1], layer_name='pcp')"
   ]
  },
  {
   "cell_type": "code",
   "execution_count": 137,
   "id": "178ea70e",
   "metadata": {},
   "outputs": [],
   "source": [
    "Map.add_raster('High_res_data_01/DEM_Afr_01.tif', colormap='Spectral', bands=[1], layer_name='dem')"
   ]
  },
  {
   "cell_type": "code",
   "execution_count": 142,
   "id": "37431561",
   "metadata": {},
   "outputs": [],
   "source": [
    "Map.add_raster('High_res_data_01/NDVI_Afr_01.tif', colormap='Spectral', bands=[1], layer_name='ndvi')"
   ]
  },
  {
   "cell_type": "code",
   "execution_count": 139,
   "id": "03709d55",
   "metadata": {},
   "outputs": [],
   "source": [
    "Map.add_raster('High_res_data_01/LTA_AI_Afr_01_scaled.tif', colormap='Spectral', bands=[1], layer_name='ai')"
   ]
  },
  {
   "cell_type": "code",
   "execution_count": 140,
   "id": "cb46cc59",
   "metadata": {},
   "outputs": [],
   "source": [
    "Map.add_raster('High_res_data_01/LTA_PET_Afr_01.tif', colormap='Spectral', bands=[1], layer_name='pet')"
   ]
  },
  {
   "cell_type": "code",
   "execution_count": 22,
   "id": "44a9c712",
   "metadata": {},
   "outputs": [],
   "source": [
    "Map.add_raster('High_res_data_01/RF_recharge_01.tif', colormap='Spectral', bands=[1], layer_name='rf')"
   ]
  },
  {
   "cell_type": "code",
   "execution_count": 150,
   "id": "ef7fb57e",
   "metadata": {
    "scrolled": false
   },
   "outputs": [
    {
     "data": {
      "application/vnd.jupyter.widget-view+json": {
       "model_id": "acce0b40651b4d1388b1b2bacec55002",
       "version_major": 2,
       "version_minor": 0
      },
      "text/plain": [
       "Map(bottom=37889.0, center=[-25.58703983205006, 25.903015136718754], controls=(WidgetControl(options=['positio…"
      ]
     },
     "metadata": {},
     "output_type": "display_data"
    }
   ],
   "source": [
    "Map"
   ]
  },
  {
   "cell_type": "code",
   "execution_count": 148,
   "id": "c727cf59",
   "metadata": {},
   "outputs": [],
   "source": [
    "Map.add_shapefile(\"CRU_precip_CGIAR_AI_data/Africa_continent_shape.shp\", style={\"weight\": 2, 'fill':False}, fill_colors=['white'], info_mode='on_hover')"
   ]
  },
  {
   "cell_type": "code",
   "execution_count": null,
   "id": "fe8be939",
   "metadata": {},
   "outputs": [],
   "source": []
  }
 ],
 "metadata": {
  "kernelspec": {
   "display_name": "Python 3",
   "language": "python",
   "name": "python3"
  },
  "language_info": {
   "codemirror_mode": {
    "name": "ipython",
    "version": 3
   },
   "file_extension": ".py",
   "mimetype": "text/x-python",
   "name": "python",
   "nbconvert_exporter": "python",
   "pygments_lexer": "ipython3",
   "version": "3.9.4"
  }
 },
 "nbformat": 4,
 "nbformat_minor": 5
}
