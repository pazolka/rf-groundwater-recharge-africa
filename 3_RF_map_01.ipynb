{
 "cells": [
  {
   "cell_type": "markdown",
   "id": "16918e1d",
   "metadata": {},
   "source": [
    "# Random Forest\n",
    "Total dataset size: 134 samples <br>\n",
    "Training set: 134 samples\n",
    "\n",
    "Features used (after importance analysis):\n",
    "- LTA precipitation (mmpa)\n",
    "- LTA_PET_mm\n",
    "- Aridity idx\n",
    "- NDVI\n",
    "- LTA soil moisture - 10 cm (kg m-2) "
   ]
  },
  {
   "cell_type": "code",
   "execution_count": 1,
   "id": "fef0dfd0",
   "metadata": {},
   "outputs": [],
   "source": [
    "import pandas as pd\n",
    "import numpy as np\n",
    "from matplotlib import cm\n",
    "import matplotlib.pyplot as plt\n",
    "from sklearn.preprocessing import LabelEncoder\n",
    "from sklearn.model_selection import train_test_split\n",
    "from sklearn.ensemble import RandomForestRegressor\n",
    "from sklearn import metrics\n",
    "%matplotlib inline\n",
    "from matplotlib import colors\n",
    "from matplotlib.ticker import PercentFormatter\n",
    "import rasterio\n",
    "from utils import getAllCoordinates\n",
    "import json\n",
    "from sklearn.model_selection import cross_val_score\n",
    "\n",
    "# Prepare all BGS points as training points\n",
    "\n",
    "# read file (data + coordinates)\n",
    "file = pd.read_csv('Data/High_res_data_01/input_01.csv')\n",
    "# OMIT ZERO RECHARGE SAMPLES\n",
    "file = file[file['Recharge_mmpa']!= 0.1]\n",
    "#file = file[file['Recharge_mmpa']< 800]\n",
    "# drop unimportant columns\n",
    "data = file.drop(columns=['ID', 'Lat', 'Long', 'Landcover_GlobCover', 'DEM'])\n",
    "# Labels are the values we want to predict\n",
    "labels = np.log10(data['Recharge_mmpa'])\n",
    "data = data.drop('Recharge_mmpa', axis = 1)\n",
    "# Add for reference\n",
    "data['ID'] = file['ID']\n",
    "# Saving feature names for later use\n",
    "feature_list = list(data.columns)\n",
    "# Convert to numpy array\n",
    "features = np.array(data)"
   ]
  },
  {
   "cell_type": "code",
   "execution_count": 2,
   "id": "81290320",
   "metadata": {},
   "outputs": [
    {
     "data": {
      "text/html": [
       "<div>\n",
       "<style scoped>\n",
       "    .dataframe tbody tr th:only-of-type {\n",
       "        vertical-align: middle;\n",
       "    }\n",
       "\n",
       "    .dataframe tbody tr th {\n",
       "        vertical-align: top;\n",
       "    }\n",
       "\n",
       "    .dataframe thead th {\n",
       "        text-align: right;\n",
       "    }\n",
       "</style>\n",
       "<table border=\"1\" class=\"dataframe\">\n",
       "  <thead>\n",
       "    <tr style=\"text-align: right;\">\n",
       "      <th></th>\n",
       "      <th>LTA_CHIRPS_mmpa</th>\n",
       "      <th>LTA_PET_mm</th>\n",
       "      <th>Aridity</th>\n",
       "      <th>NDVI</th>\n",
       "      <th>SM10_m3m3</th>\n",
       "      <th>ID</th>\n",
       "    </tr>\n",
       "  </thead>\n",
       "  <tbody>\n",
       "    <tr>\n",
       "      <th>LTA_CHIRPS_mmpa</th>\n",
       "      <td>1.000000</td>\n",
       "      <td>-0.702025</td>\n",
       "      <td>0.962439</td>\n",
       "      <td>0.832917</td>\n",
       "      <td>0.933620</td>\n",
       "      <td>-0.004506</td>\n",
       "    </tr>\n",
       "    <tr>\n",
       "      <th>LTA_PET_mm</th>\n",
       "      <td>-0.702025</td>\n",
       "      <td>1.000000</td>\n",
       "      <td>-0.769824</td>\n",
       "      <td>-0.819225</td>\n",
       "      <td>-0.772056</td>\n",
       "      <td>0.057241</td>\n",
       "    </tr>\n",
       "    <tr>\n",
       "      <th>Aridity</th>\n",
       "      <td>0.962439</td>\n",
       "      <td>-0.769824</td>\n",
       "      <td>1.000000</td>\n",
       "      <td>0.845862</td>\n",
       "      <td>0.944013</td>\n",
       "      <td>-0.037339</td>\n",
       "    </tr>\n",
       "    <tr>\n",
       "      <th>NDVI</th>\n",
       "      <td>0.832917</td>\n",
       "      <td>-0.819225</td>\n",
       "      <td>0.845862</td>\n",
       "      <td>1.000000</td>\n",
       "      <td>0.808676</td>\n",
       "      <td>-0.003046</td>\n",
       "    </tr>\n",
       "    <tr>\n",
       "      <th>SM10_m3m3</th>\n",
       "      <td>0.933620</td>\n",
       "      <td>-0.772056</td>\n",
       "      <td>0.944013</td>\n",
       "      <td>0.808676</td>\n",
       "      <td>1.000000</td>\n",
       "      <td>-0.024519</td>\n",
       "    </tr>\n",
       "    <tr>\n",
       "      <th>ID</th>\n",
       "      <td>-0.004506</td>\n",
       "      <td>0.057241</td>\n",
       "      <td>-0.037339</td>\n",
       "      <td>-0.003046</td>\n",
       "      <td>-0.024519</td>\n",
       "      <td>1.000000</td>\n",
       "    </tr>\n",
       "  </tbody>\n",
       "</table>\n",
       "</div>"
      ],
      "text/plain": [
       "                 LTA_CHIRPS_mmpa  LTA_PET_mm   Aridity      NDVI  SM10_m3m3  \\\n",
       "LTA_CHIRPS_mmpa         1.000000   -0.702025  0.962439  0.832917   0.933620   \n",
       "LTA_PET_mm             -0.702025    1.000000 -0.769824 -0.819225  -0.772056   \n",
       "Aridity                 0.962439   -0.769824  1.000000  0.845862   0.944013   \n",
       "NDVI                    0.832917   -0.819225  0.845862  1.000000   0.808676   \n",
       "SM10_m3m3               0.933620   -0.772056  0.944013  0.808676   1.000000   \n",
       "ID                     -0.004506    0.057241 -0.037339 -0.003046  -0.024519   \n",
       "\n",
       "                       ID  \n",
       "LTA_CHIRPS_mmpa -0.004506  \n",
       "LTA_PET_mm       0.057241  \n",
       "Aridity         -0.037339  \n",
       "NDVI            -0.003046  \n",
       "SM10_m3m3       -0.024519  \n",
       "ID               1.000000  "
      ]
     },
     "execution_count": 2,
     "metadata": {},
     "output_type": "execute_result"
    }
   ],
   "source": [
    "correlation_matrix = data.corr()\n",
    "correlation_matrix"
   ]
  },
  {
   "cell_type": "markdown",
   "id": "0cce87bd",
   "metadata": {},
   "source": [
    "# Run RF for the whole domain"
   ]
  },
  {
   "cell_type": "markdown",
   "id": "dd0405a2",
   "metadata": {},
   "source": [
    "### Find hyperparameters"
   ]
  },
  {
   "cell_type": "code",
   "execution_count": 3,
   "id": "32ebe21e",
   "metadata": {},
   "outputs": [
    {
     "name": "stdout",
     "output_type": "stream",
     "text": [
      "Fitting 3 folds for each of 100 candidates, totalling 300 fits\n"
     ]
    },
    {
     "data": {
      "text/plain": [
       "{'n_estimators': 2000,\n",
       " 'min_samples_split': 5,\n",
       " 'min_samples_leaf': 3,\n",
       " 'max_features': 'sqrt',\n",
       " 'max_depth': 60}"
      ]
     },
     "execution_count": 3,
     "metadata": {},
     "output_type": "execute_result"
    }
   ],
   "source": [
    "from sklearn.model_selection import RandomizedSearchCV\n",
    "\n",
    "estimator = RandomForestRegressor()\n",
    "# Number of trees in random forest\n",
    "n_estimators = [2000] * 10\n",
    "# Number of features to consider at every split\n",
    "max_features = ['log2', 'sqrt', 0.33]\n",
    "# Maximum number of levels in tree\n",
    "max_depth = [int(x) for x in np.linspace(10, 100, num = 10)]\n",
    "max_depth.append(None)\n",
    "# Minimum number of samples required to split a node\n",
    "min_samples_split = [2, 5, 10, 15]\n",
    "# Minimum number of samples required at each leaf node\n",
    "min_samples_leaf = [1, 2, 3, 4]\n",
    "# Method of selecting samples for training each tree\n",
    "#bootstrap = [True, False]\n",
    "\n",
    "# Create the random grid\n",
    "random_grid = {'n_estimators': n_estimators,\n",
    "               'max_features': max_features,\n",
    "               'max_depth': max_depth,\n",
    "               'min_samples_split': min_samples_split,\n",
    "               'min_samples_leaf': min_samples_leaf,\n",
    "               #'bootstrap': bootstrap\n",
    "              }\n",
    "\n",
    "# Random search of parameters, using 3 fold cross validation, \n",
    "# search across 100 different combinations, and use all available cores\n",
    "rf_random = RandomizedSearchCV(estimator=estimator, param_distributions=random_grid,\n",
    "                              n_iter = 100, scoring='neg_mean_absolute_error', \n",
    "                              cv = 3, verbose=2, random_state=42, n_jobs=-1)\n",
    "\n",
    "# Fit the random search model\n",
    "rf_random.fit(features[:, :-1], labels)\n",
    "\n",
    "rf_random.best_params_"
   ]
  },
  {
   "cell_type": "code",
   "execution_count": 4,
   "id": "8214217f",
   "metadata": {
    "scrolled": true
   },
   "outputs": [],
   "source": [
    "# get all coordinates of the smallest raster - workaround as rasters have slightly different shapes\n",
    "coords, T0, out_shape = getAllCoordinates('Data/High_res_data_01/LTA_NDVI_Afr_01.tif', grid=0.1)\n",
    "coords_np = np.array([*coords])\n",
    "\n",
    "# read rasters\n",
    "pet_src = rasterio.open('Data/High_res_data_01/LTA_PET_Afr_01.tif')\n",
    "p_src = rasterio.open('Data/High_res_data_01/LTA_CHIRPS_Afr_01.tif')\n",
    "ndvi_src = rasterio.open('Data/High_res_data_01/LTA_NDVI_Afr_01.tif')\n",
    "ai_src = rasterio.open('Data/High_res_data_01/LTA_AI_Afr_01.tif')\n",
    "sm_src = rasterio.open('Data/High_res_data_01/LTA_soil_moisture_Afr_01.tif')\n",
    "\n",
    "# get raster values at 0.5x0.5 grid + flatten\n",
    "pet_samples = [item for sublist in list(pet_src.sample(coords)) for item in sublist]\n",
    "p_samples = [item for sublist in list(p_src.sample(coords)) for item in sublist]\n",
    "ndvi_samples = [item for sublist in list(ndvi_src.sample(coords)) for item in sublist]\n",
    "ai_samples = [item for sublist in list(ai_src.sample(coords)) for item in sublist]\n",
    "sm_samples = [item for sublist in list(sm_src.sample(coords)) for item in sublist]"
   ]
  },
  {
   "cell_type": "code",
   "execution_count": 5,
   "id": "59095877",
   "metadata": {},
   "outputs": [],
   "source": [
    "# combine predictors in a dataframe\n",
    "raw_ds = pd.DataFrame({'LTA_CHIRPS_mmpa': p_samples, 'LTA_PET_mm': pet_samples, 'Aridity': ai_samples, \n",
    "                       'NDVI': ndvi_samples, \n",
    "                       'SM10_m3m3': sm_samples, 'Lat': coords_np[:,0], 'Lon': coords_np[:,1]\n",
    "                      })\n",
    "\n",
    "# take rows with valid predictor data (land only)\n",
    "filtered_ds = raw_ds[(raw_ds['LTA_CHIRPS_mmpa'] >= 0) & (raw_ds['LTA_PET_mm'] >= -1000) \n",
    "                     & (raw_ds['Aridity'] >= -1000) & (raw_ds['NDVI'] >= -1000) \n",
    "                     & (raw_ds['SM10_m3m3'] > 0)]\n",
    "\n",
    "# convert dataframe to numpy array\n",
    "domain_features = np.array(filtered_ds)[:,:-2]"
   ]
  },
  {
   "cell_type": "markdown",
   "id": "069fb5d7",
   "metadata": {},
   "source": [
    "## Run random forest regression"
   ]
  },
  {
   "cell_type": "code",
   "execution_count": 6,
   "id": "c7e91c3f",
   "metadata": {},
   "outputs": [],
   "source": [
    "# instantiate random forest model\n",
    "final_rf = RandomForestRegressor(**rf_random.best_params_, oob_score=True)\n",
    "# train the model on entire BGS dataset\n",
    "final_rf.fit(features[:,:-1], labels)\n",
    "# use the forest's predict method on the whole domain\n",
    "pred_recharge = final_rf.predict(domain_features)\n",
    "# apply to training set again\n",
    "train_predictions = final_rf.predict(features[:,:-1])"
   ]
  },
  {
   "cell_type": "code",
   "execution_count": 7,
   "id": "0b4095ca",
   "metadata": {},
   "outputs": [
    {
     "name": "stdout",
     "output_type": "stream",
     "text": [
      "OOB score 0.652531655298924\n"
     ]
    }
   ],
   "source": [
    "print(f'OOB score {final_rf.oob_score_}')"
   ]
  },
  {
   "cell_type": "code",
   "execution_count": 8,
   "id": "c669c2d2",
   "metadata": {},
   "outputs": [
    {
     "name": "stderr",
     "output_type": "stream",
     "text": [
      "<ipython-input-8-8e9ba9a2a960>:2: SettingWithCopyWarning: \n",
      "A value is trying to be set on a copy of a slice from a DataFrame.\n",
      "Try using .loc[row_indexer,col_indexer] = value instead\n",
      "\n",
      "See the caveats in the documentation: https://pandas.pydata.org/pandas-docs/stable/user_guide/indexing.html#returning-a-view-versus-a-copy\n",
      "  filtered_ds['pred_recharge_mmpa'] = 10**pred_recharge\n"
     ]
    }
   ],
   "source": [
    "# merge with the features dataframe and back transform\n",
    "filtered_ds['pred_recharge_mmpa'] = 10**pred_recharge\n",
    "# fill gaps in the dataframe - revert to 0.1x0.1 grid\n",
    "reindx_ds = filtered_ds.reindex(range(len(raw_ds)), fill_value=-9999)\n",
    "recharge_grid = np.array(reindx_ds['pred_recharge_mmpa']).reshape(out_shape)\n",
    "\n",
    "# attempt to save to a raster\n",
    "# config\n",
    "out_meta = {'driver': 'GTiff', \"dtype\": 'float32', \"height\": recharge_grid.shape[0], \"width\": recharge_grid.shape[1],\n",
    "            \"transform\": T0, 'nodata': -9999, 'crs': rasterio.crs.CRS({\"init\": \"epsg:4326\"})}\n",
    "\n",
    "# save\n",
    "with rasterio.open(\"Data/High_res_data_01/RF_recharge_01.tif\", \"w\", **out_meta, count=1) as dest:\n",
    "#with rasterio.open(\"Data/High_res_data_01/RF_recharge_01_zero.tif\", \"w\", **out_meta) as dest:\n",
    "    dest.write(recharge_grid[np.newaxis, :, :])"
   ]
  },
  {
   "cell_type": "code",
   "execution_count": 9,
   "id": "72ce669d",
   "metadata": {
    "scrolled": true
   },
   "outputs": [
    {
     "name": "stdout",
     "output_type": "stream",
     "text": [
      "Variable: LTA_CHIRPS_mmpa      Importance: 0.31\n",
      "Variable: Aridity              Importance: 0.29\n",
      "Variable: SM10_m3m3            Importance: 0.25\n",
      "Variable: NDVI                 Importance: 0.11\n",
      "Variable: LTA_PET_mm           Importance: 0.05\n"
     ]
    }
   ],
   "source": [
    "# Get numerical feature importances\n",
    "importances = list(final_rf.feature_importances_)\n",
    "# List of tuples with variable and importance\n",
    "feature_importances = [(feature, round(importance, 2)) for feature, importance in zip(feature_list, importances)]\n",
    "# Sort the feature importances by most Aimportant first\n",
    "feature_importances = sorted(feature_importances, key = lambda x: x[1], reverse = True)\n",
    "# Print out the feature and importances \n",
    "[print('Variable: {:20} Importance: {}'.format(*pair)) for pair in feature_importances];"
   ]
  },
  {
   "cell_type": "code",
   "execution_count": 10,
   "id": "074a99e7",
   "metadata": {},
   "outputs": [
    {
     "name": "stdout",
     "output_type": "stream",
     "text": [
      "Max predicted recharge: 277.6682461339851\n"
     ]
    }
   ],
   "source": [
    "print(f'Max predicted recharge: {10**np.max(pred_recharge)}')"
   ]
  },
  {
   "cell_type": "code",
   "execution_count": 11,
   "id": "78251f7f",
   "metadata": {},
   "outputs": [
    {
     "name": "stdout",
     "output_type": "stream",
     "text": [
      "R-squared based on fivefold cross-validation: 0.627061293590499\n"
     ]
    }
   ],
   "source": [
    "# report R-squared based on fivefold cross validation\n",
    "print(f'R-squared based on fivefold cross-validation: {np.mean(cross_val_score(final_rf, features[:,:-1], labels, cv=5))}')"
   ]
  },
  {
   "cell_type": "markdown",
   "id": "e9d1ea57",
   "metadata": {},
   "source": [
    "## Result comparison\n",
    "- random forest (RF)\n",
    "- random forest with residual kriging (RK RF)\n",
    "- linear mixed model (created in R) (LMM)"
   ]
  },
  {
   "cell_type": "code",
   "execution_count": 12,
   "id": "22da7bc2",
   "metadata": {
    "scrolled": true
   },
   "outputs": [
    {
     "name": "stdout",
     "output_type": "stream",
     "text": [
      "       Lon    Lat  Observations          RF       RK_RF         LMM\n",
      "ID                                                                 \n",
      "1     4.48   8.49         253.0  189.055511  210.838974  179.735519\n",
      "2    30.09 -20.27          22.0   23.441435   21.094812   23.657877\n",
      "3    32.96   0.46         245.0  221.400909  237.821365  148.877533\n",
      "4    39.82  13.54         185.0   42.061993   55.721470   70.805649\n",
      "5     2.30   6.50         120.0  169.355026  188.217270  161.525070\n",
      "..     ...    ...           ...         ...         ...         ...\n",
      "130  27.70 -26.00         100.0   90.941963  110.318611   50.759296\n",
      "131  30.55 -17.71          80.0   53.803635   65.296082   69.592346\n",
      "132 -17.00  14.72           8.0   11.711078   10.889479   14.492933\n",
      "133  38.64   9.40         160.0  123.503998  150.754547  152.531647\n",
      "134  33.74  -5.96          41.0   45.625011   41.172714   42.656673\n",
      "\n",
      "[127 rows x 6 columns]\n"
     ]
    }
   ],
   "source": [
    "# compare BGS linear model and random forest\n",
    "point_coords = [(i,j) for (i,j) in zip(file['Long'], file['Lat'])]\n",
    "obs = file['Recharge_mmpa']\n",
    "rf_rech_src = rasterio.open('Data/High_res_data_01/RF_recharge_01.tif')\n",
    "rk_rf_rech_src = rasterio.open('Data/High_res_data_01/R_RKRF_recharge_01.tif')\n",
    "lmm_rech_src = rasterio.open('Data/High_res_data_01/LMM_recharge_01.tif')\n",
    "\n",
    "rf_rech_samples = [item for sublist in list(rf_rech_src.sample(point_coords, indexes=1)) for item in sublist]\n",
    "rk_rf_rech_samples = [item for sublist in list(rk_rf_rech_src.sample(point_coords, indexes=1)) for item in sublist]\n",
    "lmm_rech_samples = [item for sublist in list(lmm_rech_src.sample(point_coords)) for item in sublist]\n",
    "\n",
    "summary = pd.DataFrame({'Lon': file['Long'], 'Lat': file['Lat'], 'Observations': obs, 'RF': rf_rech_samples,\n",
    "                        'RK_RF': rk_rf_rech_samples,'LMM': lmm_rech_samples})\n",
    "\n",
    "summary.index.names = ['ID']\n",
    "summary.index += 1\n",
    "print(summary)\n",
    "#summary.to_csv(\"Data/High_res_data_01/summary_01.csv\")"
   ]
  },
  {
   "cell_type": "code",
   "execution_count": 13,
   "id": "3fbd0658",
   "metadata": {},
   "outputs": [
    {
     "name": "stdout",
     "output_type": "stream",
     "text": [
      "      Lon    Lat  Observations      RF         RK_RF        LMM\n",
      "ID                                                             \n",
      "82 -17.29  14.77          22.0 -9999.0 -3.400000e+38  15.260283\n",
      "86  18.91 -34.13         184.0 -9999.0 -3.400000e+38  87.471237\n",
      "89  11.03  37.04          12.0 -9999.0 -3.400000e+38  12.313937\n",
      "\n",
      "R squared\n",
      "LMM vs obs R^2: 0.8933119133831531\n",
      "RF vs obs R^2: 0.7902968509358593\n",
      "RK RF vs obs R^2: 0.8739367170095251\n",
      "RF vs LMM R^2: 0.9071922685796089\n",
      "RK RF vs LMM R^2: 0.9487264240053483\n"
     ]
    }
   ],
   "source": [
    "# problem: some observations are outside of the domain!\n",
    "print(summary[(summary['LMM'] < 0) | (summary['RF'] < 0)])\n",
    "# ignore these point for now\n",
    "summary = summary[(summary['LMM'] >= 0) & (summary['RF'] >= 0)]\n",
    "\n",
    "print('\\nR squared')\n",
    "print('LMM vs obs R^2:', metrics.r2_score(np.log10(summary['Observations'].values), np.log10(summary['LMM'].values)))\n",
    "print('RF vs obs R^2:', metrics.r2_score(np.log10(summary['Observations'].values), np.log10(summary['RF'].values)))\n",
    "print('RK RF vs obs R^2:', metrics.r2_score(np.log10(summary['Observations'].values), np.log10(summary['RK_RF'].values)))\n",
    "\n",
    "print('RF vs LMM R^2:', metrics.r2_score(np.log10(summary['RF'].values), np.log10(summary['LMM'].values)))\n",
    "print('RK RF vs LMM R^2:', metrics.r2_score(np.log10(summary['RK_RF'].values), np.log10(summary['LMM'].values)))"
   ]
  },
  {
   "cell_type": "code",
   "execution_count": 14,
   "id": "334e8167",
   "metadata": {},
   "outputs": [
    {
     "data": {
      "text/plain": [
       "(0.0, 1000.0)"
      ]
     },
     "execution_count": 14,
     "metadata": {},
     "output_type": "execute_result"
    },
    {
     "data": {
      "image/png": "[encoded data removed]",
      "text/plain": [
       "<Figure size 1440x864 with 6 Axes>"
      ]
     },
     "metadata": {
      "needs_background": "light"
     },
     "output_type": "display_data"
    }
   ],
   "source": [
    "fig, axs = plt.subplots(2,3, figsize=(20,12))\n",
    "fig.suptitle('Model comparison at 0.1 deg')\n",
    "axs = axs.flatten()\n",
    "axs[0].plot(summary['Observations'], summary['LMM'],marker='o',linestyle='')\n",
    "axs[0].plot(range(0,1000), range(0,1000), 'r')\n",
    "axs[0].set_xlabel('Observed recharge (mmpa) ')\n",
    "axs[0].set_ylabel('Predicted recharge (mmpa) ')\n",
    "axs[0].set_xlim([0,1000])\n",
    "axs[0].set_title('Observations vs LM Model')\n",
    "axs[0].set_ylim([0,1000])\n",
    "\n",
    "axs[1].plot(summary['Observations'], summary['RF'],marker='o',linestyle='')\n",
    "axs[1].plot(range(0,1000), range(0,1000), 'r')\n",
    "axs[1].set_xlabel('Observed recharge (mmpa) ')\n",
    "axs[1].set_ylabel('RF recharge (mmpa) ')\n",
    "axs[1].set_xlim([0,1000])\n",
    "axs[1].set_title('Observations vs RF Model')\n",
    "axs[1].set_ylim([0,1000])\n",
    "\n",
    "axs[2].plot(summary['Observations'], summary['RK_RF'],marker='o',linestyle='')\n",
    "axs[2].plot(range(0,1000), range(0,1000), 'r')\n",
    "axs[2].set_xlabel('Observed recharge (mmpa) ')\n",
    "axs[2].set_ylabel('RK RF recharge (mmpa)')\n",
    "axs[2].set_xlim([0,1000])\n",
    "axs[2].set_title('Observations vs RK RF Model')\n",
    "axs[2].set_ylim([0,1000])\n",
    "\n",
    "axs[3].plot(summary['RF'], summary['LMM'],marker='o',linestyle='')\n",
    "axs[3].plot(range(0,1000), range(0,1000), 'r')\n",
    "axs[3].set_xlabel('RF recharge (mmpa) ')\n",
    "axs[3].set_ylabel('LMM recharge (mmpa)')\n",
    "axs[3].set_xlim([0,1000])\n",
    "axs[3].set_title('RF Model vs LM Model')\n",
    "axs[3].set_ylim([0,1000])\n",
    "\n",
    "axs[4].plot(summary['RK_RF'], summary['LMM'],marker='o',linestyle='')\n",
    "axs[4].plot(range(0,1000), range(0,1000), 'r')\n",
    "axs[4].set_xlabel('RK RF recharge (mmpa) ')\n",
    "axs[4].set_ylabel('LMM recharge (mmpa)')\n",
    "axs[4].set_xlim([0,1000])\n",
    "axs[4].set_title('RK RF Model vs LM Model')\n",
    "axs[4].set_ylim([0,1000])\n",
    "\n",
    "axs[5].plot(summary['RF'], summary['RK_RF'],marker='o',linestyle='')\n",
    "axs[5].plot(range(0,1000), range(0,1000), 'r')\n",
    "axs[5].set_xlabel('RF recharge (mmpa) ')\n",
    "axs[5].set_ylabel('RK RF recharge (mmpa)')\n",
    "axs[5].set_xlim([0,1000])\n",
    "axs[5].set_title('RF Model vs RK RF Model')\n",
    "axs[5].set_ylim([0,1000])"
   ]
  },
  {
   "cell_type": "code",
   "execution_count": 15,
   "id": "a8c5d5a1",
   "metadata": {},
   "outputs": [],
   "source": [
    "# get residuals for regression kriging in R\n",
    "# residuals_file = pd.read_csv('residuals.csv')\n",
    "# residuals_file['Res_01'] = list(labels) - train_predictions\n",
    "# residuals_file.to_csv('residuals.csv', index=False)"
   ]
  },
  {
   "cell_type": "markdown",
   "id": "6d8f55b3",
   "metadata": {},
   "source": [
    "# Prediction intervals with Quantile Regression Forest"
   ]
  },
  {
   "cell_type": "code",
   "execution_count": 16,
   "id": "084e8db6",
   "metadata": {},
   "outputs": [
    {
     "name": "stderr",
     "output_type": "stream",
     "text": [
      "<ipython-input-16-6f042a7505d8>:9: SettingWithCopyWarning: \n",
      "A value is trying to be set on a copy of a slice from a DataFrame.\n",
      "Try using .loc[row_indexer,col_indexer] = value instead\n",
      "\n",
      "See the caveats in the documentation: https://pandas.pydata.org/pandas-docs/stable/user_guide/indexing.html#returning-a-view-versus-a-copy\n",
      "  filtered_ds['lower_quant_pred'] = 10**qrf_full_pred[:,0]\n",
      "<ipython-input-16-6f042a7505d8>:10: SettingWithCopyWarning: \n",
      "A value is trying to be set on a copy of a slice from a DataFrame.\n",
      "Try using .loc[row_indexer,col_indexer] = value instead\n",
      "\n",
      "See the caveats in the documentation: https://pandas.pydata.org/pandas-docs/stable/user_guide/indexing.html#returning-a-view-versus-a-copy\n",
      "  filtered_ds['median_pred'] = 10**qrf_full_pred[:,1]\n",
      "<ipython-input-16-6f042a7505d8>:11: SettingWithCopyWarning: \n",
      "A value is trying to be set on a copy of a slice from a DataFrame.\n",
      "Try using .loc[row_indexer,col_indexer] = value instead\n",
      "\n",
      "See the caveats in the documentation: https://pandas.pydata.org/pandas-docs/stable/user_guide/indexing.html#returning-a-view-versus-a-copy\n",
      "  filtered_ds['upper_quant_pred'] = 10**qrf_full_pred[:,2]\n"
     ]
    }
   ],
   "source": [
    "from quantile_forest import RandomForestQuantileRegressor\n",
    "\n",
    "# Train the QRF model with the same parameters as RF\n",
    "\n",
    "qrf_model = RandomForestQuantileRegressor(**rf_random.best_params_)\n",
    "qrf_model.fit(features[:,:-1], labels)\n",
    "\n",
    "qrf_full_pred = qrf_model.predict(domain_features, quantiles=[0.05, 0.5, 0.95])\n",
    "filtered_ds['lower_quant_pred'] = 10**qrf_full_pred[:,0]\n",
    "filtered_ds['median_pred'] = 10**qrf_full_pred[:,1]\n",
    "filtered_ds['upper_quant_pred'] = 10**qrf_full_pred[:,2]"
   ]
  },
  {
   "cell_type": "code",
   "execution_count": 17,
   "id": "ea15ea8f",
   "metadata": {},
   "outputs": [],
   "source": [
    "# predict recharge at sample points\n",
    "qrf_train_pred = qrf_model.predict(features[:,:-1], quantiles=[0.05, 0.5, 0.95])\n",
    "# save the full summary\n",
    "pred_summary = pd.DataFrame({'Obs_LTA_recharge_mmpa': 10**labels, 'LMM': lmm_rech_samples, 'RF': rf_rech_samples, \n",
    "                     'RK_RF': rk_rf_rech_samples,'QRF_lower_quant_05': 10**qrf_train_pred[:,0],\n",
    "                    'QRF_median': 10**qrf_train_pred[:,1], 'QRF_upper_quant_95': 10**qrf_train_pred[:,2]})\n",
    "full_summary = pd.concat([pd.DataFrame({'ID': file['ID'], 'Long': file['Long'], 'Lat': file['Lat']}), data.iloc[:,:-1], pred_summary], axis=1)\n",
    "full_summary.round(2).to_csv(\"Data/High_res_data_01/summary_01_full.csv\", index=False)"
   ]
  },
  {
   "cell_type": "code",
   "execution_count": 18,
   "id": "81b805a7",
   "metadata": {},
   "outputs": [],
   "source": [
    "reindx_ds = filtered_ds.reindex(range(len(raw_ds)), fill_value=-9999)\n",
    "\n",
    "lower_quant_grid = np.array(reindx_ds['lower_quant_pred']).reshape(out_shape)\n",
    "median_grid = np.array(reindx_ds['median_pred']).reshape(out_shape)\n",
    "upper_quant_grid = np.array(reindx_ds['upper_quant_pred']).reshape(out_shape)\n",
    "\n",
    "# save\n",
    "with rasterio.open(\"Data/High_res_data_01/QRF_recharge_01.tif\", \"w\", **out_meta, count=3) as dest:\n",
    "    dest.write(lower_quant_grid, 1)\n",
    "    dest.set_band_description(1, 'l_quant_05')\n",
    "    dest.write(median_grid, 2)\n",
    "    dest.set_band_description(2, 'median')\n",
    "    dest.write(upper_quant_grid, 3)\n",
    "    dest.set_band_description(3, 'u_quant_95')"
   ]
  }
 ],
 "metadata": {
  "kernelspec": {
   "display_name": "Python 3",
   "language": "python",
   "name": "python3"
  },
  "language_info": {
   "codemirror_mode": {
    "name": "ipython",
    "version": 3
   },
   "file_extension": ".py",
   "mimetype": "text/x-python",
   "name": "python",
   "nbconvert_exporter": "python",
   "pygments_lexer": "ipython3",
   "version": "3.9.4"
  }
 },
 "nbformat": 4,
 "nbformat_minor": 5
}
